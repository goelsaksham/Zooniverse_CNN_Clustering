{
 "cells": [
  {
   "cell_type": "markdown",
   "metadata": {},
   "source": [
    "# XCEPTION + DEC Model on Galaxy Zoo Dataset\n",
    "\n",
    "This notebook loads the xception model and tries to extract features from the Xception Model for all the galaxy zoo images. Then it invokes a DEC model on top of the features extracted to perform the required clustering. This notebook acts as a step by step guide through the whole process and also as a way of performing the experiment for the current research of clustering galaxies."
   ]
  },
  {
   "cell_type": "markdown",
   "metadata": {},
   "source": [
    "### Importing required Libaries\n",
    "\n",
    "Importing the required libraries and modules so that they can be used in the notebook"
   ]
  },
  {
   "cell_type": "code",
   "execution_count": 1,
   "metadata": {},
   "outputs": [
    {
     "name": "stderr",
     "output_type": "stream",
     "text": [
      "Using TensorFlow backend.\n",
      "/home/ubuntu/anaconda3/envs/tensorflow_p36/lib/python3.6/site-packages/matplotlib/font_manager.py:278: UserWarning: Matplotlib is building the font cache using fc-list. This may take a moment.\n",
      "  'Matplotlib is building the font cache using fc-list. '\n"
     ]
    }
   ],
   "source": [
    "import tensorflow as tf\n",
    "import keras.backend as K\n",
    "import numpy as np\n",
    "import pandas as pd\n",
    "# loading the requirements for the Xception model\n",
    "from keras.applications.xception import Xception\n",
    "from keras.applications.xception import absolute_import, decode_predictions, preprocess_input\n",
    "from keras.layers import Flatten, Dense, GlobalAveragePooling2D\n",
    "from keras.preprocessing.image import ImageDataGenerator\n",
    "# Loading the DEC module cloned from github\n",
    "from DEC.model import *\n",
    "from DEC.metrics import *\n",
    "from xception_dec_datagenerator import XceptionDataGenerator\n",
    "# Importing the utilities\n",
    "from utils.file_utils import *\n",
    "from PIL import Image\n",
    "# Using scikit-image  resize function for resizing the image from original size to 224 X 224\n",
    "from skimage.transform import resize\n",
    "# Train Test split from sklearn\n",
    "from sklearn.model_selection import train_test_split\n",
    "from shutil import copy2\n",
    "# For visualization of images and for plotting\n",
    "import matplotlib.pyplot as plt\n",
    "%matplotlib inline\n",
    "import seaborn as sns"
   ]
  },
  {
   "cell_type": "code",
   "execution_count": 2,
   "metadata": {},
   "outputs": [],
   "source": [
    "import warnings\n",
    "warnings.filterwarnings('ignore')"
   ]
  },
  {
   "cell_type": "markdown",
   "metadata": {},
   "source": [
    "### Xception Model\n",
    "\n",
    "First we load the Xception model into the computer memory using the Keras library. Because we are focusing on extracting features from the model we do not include the topmost layer. However we do use the imagenet weights for the model. Also because we want a 1-D vector form of the features we do use the pooling layer at the end."
   ]
  },
  {
   "cell_type": "code",
   "execution_count": 3,
   "metadata": {},
   "outputs": [
    {
     "name": "stdout",
     "output_type": "stream",
     "text": [
      "Downloading data from https://github.com/fchollet/deep-learning-models/releases/download/v0.4/xception_weights_tf_dim_ordering_tf_kernels_notop.h5\n",
      "83689472/83683744 [==============================] - 1s 0us/step\n",
      "__________________________________________________________________________________________________\n",
      "Layer (type)                    Output Shape         Param #     Connected to                     \n",
      "==================================================================================================\n",
      "input_1 (InputLayer)            (None, 224, 224, 3)  0                                            \n",
      "__________________________________________________________________________________________________\n",
      "block1_conv1 (Conv2D)           (None, 111, 111, 32) 864         input_1[0][0]                    \n",
      "__________________________________________________________________________________________________\n",
      "block1_conv1_bn (BatchNormaliza (None, 111, 111, 32) 128         block1_conv1[0][0]               \n",
      "__________________________________________________________________________________________________\n",
      "block1_conv1_act (Activation)   (None, 111, 111, 32) 0           block1_conv1_bn[0][0]            \n",
      "__________________________________________________________________________________________________\n",
      "block1_conv2 (Conv2D)           (None, 109, 109, 64) 18432       block1_conv1_act[0][0]           \n",
      "__________________________________________________________________________________________________\n",
      "block1_conv2_bn (BatchNormaliza (None, 109, 109, 64) 256         block1_conv2[0][0]               \n",
      "__________________________________________________________________________________________________\n",
      "block1_conv2_act (Activation)   (None, 109, 109, 64) 0           block1_conv2_bn[0][0]            \n",
      "__________________________________________________________________________________________________\n",
      "block2_sepconv1 (SeparableConv2 (None, 109, 109, 128 8768        block1_conv2_act[0][0]           \n",
      "__________________________________________________________________________________________________\n",
      "block2_sepconv1_bn (BatchNormal (None, 109, 109, 128 512         block2_sepconv1[0][0]            \n",
      "__________________________________________________________________________________________________\n",
      "block2_sepconv2_act (Activation (None, 109, 109, 128 0           block2_sepconv1_bn[0][0]         \n",
      "__________________________________________________________________________________________________\n",
      "block2_sepconv2 (SeparableConv2 (None, 109, 109, 128 17536       block2_sepconv2_act[0][0]        \n",
      "__________________________________________________________________________________________________\n",
      "block2_sepconv2_bn (BatchNormal (None, 109, 109, 128 512         block2_sepconv2[0][0]            \n",
      "__________________________________________________________________________________________________\n",
      "conv2d_1 (Conv2D)               (None, 55, 55, 128)  8192        block1_conv2_act[0][0]           \n",
      "__________________________________________________________________________________________________\n",
      "block2_pool (MaxPooling2D)      (None, 55, 55, 128)  0           block2_sepconv2_bn[0][0]         \n",
      "__________________________________________________________________________________________________\n",
      "batch_normalization_1 (BatchNor (None, 55, 55, 128)  512         conv2d_1[0][0]                   \n",
      "__________________________________________________________________________________________________\n",
      "add_1 (Add)                     (None, 55, 55, 128)  0           block2_pool[0][0]                \n",
      "                                                                 batch_normalization_1[0][0]      \n",
      "__________________________________________________________________________________________________\n",
      "block3_sepconv1_act (Activation (None, 55, 55, 128)  0           add_1[0][0]                      \n",
      "__________________________________________________________________________________________________\n",
      "block3_sepconv1 (SeparableConv2 (None, 55, 55, 256)  33920       block3_sepconv1_act[0][0]        \n",
      "__________________________________________________________________________________________________\n",
      "block3_sepconv1_bn (BatchNormal (None, 55, 55, 256)  1024        block3_sepconv1[0][0]            \n",
      "__________________________________________________________________________________________________\n",
      "block3_sepconv2_act (Activation (None, 55, 55, 256)  0           block3_sepconv1_bn[0][0]         \n",
      "__________________________________________________________________________________________________\n",
      "block3_sepconv2 (SeparableConv2 (None, 55, 55, 256)  67840       block3_sepconv2_act[0][0]        \n",
      "__________________________________________________________________________________________________\n",
      "block3_sepconv2_bn (BatchNormal (None, 55, 55, 256)  1024        block3_sepconv2[0][0]            \n",
      "__________________________________________________________________________________________________\n",
      "conv2d_2 (Conv2D)               (None, 28, 28, 256)  32768       add_1[0][0]                      \n",
      "__________________________________________________________________________________________________\n",
      "block3_pool (MaxPooling2D)      (None, 28, 28, 256)  0           block3_sepconv2_bn[0][0]         \n",
      "__________________________________________________________________________________________________\n",
      "batch_normalization_2 (BatchNor (None, 28, 28, 256)  1024        conv2d_2[0][0]                   \n",
      "__________________________________________________________________________________________________\n",
      "add_2 (Add)                     (None, 28, 28, 256)  0           block3_pool[0][0]                \n",
      "                                                                 batch_normalization_2[0][0]      \n",
      "__________________________________________________________________________________________________\n",
      "block4_sepconv1_act (Activation (None, 28, 28, 256)  0           add_2[0][0]                      \n",
      "__________________________________________________________________________________________________\n",
      "block4_sepconv1 (SeparableConv2 (None, 28, 28, 728)  188672      block4_sepconv1_act[0][0]        \n",
      "__________________________________________________________________________________________________\n",
      "block4_sepconv1_bn (BatchNormal (None, 28, 28, 728)  2912        block4_sepconv1[0][0]            \n",
      "__________________________________________________________________________________________________\n",
      "block4_sepconv2_act (Activation (None, 28, 28, 728)  0           block4_sepconv1_bn[0][0]         \n",
      "__________________________________________________________________________________________________\n",
      "block4_sepconv2 (SeparableConv2 (None, 28, 28, 728)  536536      block4_sepconv2_act[0][0]        \n",
      "__________________________________________________________________________________________________\n",
      "block4_sepconv2_bn (BatchNormal (None, 28, 28, 728)  2912        block4_sepconv2[0][0]            \n",
      "__________________________________________________________________________________________________\n",
      "conv2d_3 (Conv2D)               (None, 14, 14, 728)  186368      add_2[0][0]                      \n",
      "__________________________________________________________________________________________________\n",
      "block4_pool (MaxPooling2D)      (None, 14, 14, 728)  0           block4_sepconv2_bn[0][0]         \n",
      "__________________________________________________________________________________________________\n",
      "batch_normalization_3 (BatchNor (None, 14, 14, 728)  2912        conv2d_3[0][0]                   \n",
      "__________________________________________________________________________________________________\n",
      "add_3 (Add)                     (None, 14, 14, 728)  0           block4_pool[0][0]                \n",
      "                                                                 batch_normalization_3[0][0]      \n",
      "__________________________________________________________________________________________________\n",
      "block5_sepconv1_act (Activation (None, 14, 14, 728)  0           add_3[0][0]                      \n",
      "__________________________________________________________________________________________________\n",
      "block5_sepconv1 (SeparableConv2 (None, 14, 14, 728)  536536      block5_sepconv1_act[0][0]        \n",
      "__________________________________________________________________________________________________\n",
      "block5_sepconv1_bn (BatchNormal (None, 14, 14, 728)  2912        block5_sepconv1[0][0]            \n",
      "__________________________________________________________________________________________________\n",
      "block5_sepconv2_act (Activation (None, 14, 14, 728)  0           block5_sepconv1_bn[0][0]         \n",
      "__________________________________________________________________________________________________\n",
      "block5_sepconv2 (SeparableConv2 (None, 14, 14, 728)  536536      block5_sepconv2_act[0][0]        \n",
      "__________________________________________________________________________________________________\n",
      "block5_sepconv2_bn (BatchNormal (None, 14, 14, 728)  2912        block5_sepconv2[0][0]            \n",
      "__________________________________________________________________________________________________\n",
      "block5_sepconv3_act (Activation (None, 14, 14, 728)  0           block5_sepconv2_bn[0][0]         \n",
      "__________________________________________________________________________________________________\n",
      "block5_sepconv3 (SeparableConv2 (None, 14, 14, 728)  536536      block5_sepconv3_act[0][0]        \n",
      "__________________________________________________________________________________________________\n",
      "block5_sepconv3_bn (BatchNormal (None, 14, 14, 728)  2912        block5_sepconv3[0][0]            \n",
      "__________________________________________________________________________________________________\n",
      "add_4 (Add)                     (None, 14, 14, 728)  0           block5_sepconv3_bn[0][0]         \n",
      "                                                                 add_3[0][0]                      \n",
      "__________________________________________________________________________________________________\n",
      "block6_sepconv1_act (Activation (None, 14, 14, 728)  0           add_4[0][0]                      \n",
      "__________________________________________________________________________________________________\n",
      "block6_sepconv1 (SeparableConv2 (None, 14, 14, 728)  536536      block6_sepconv1_act[0][0]        \n",
      "__________________________________________________________________________________________________\n",
      "block6_sepconv1_bn (BatchNormal (None, 14, 14, 728)  2912        block6_sepconv1[0][0]            \n",
      "__________________________________________________________________________________________________\n",
      "block6_sepconv2_act (Activation (None, 14, 14, 728)  0           block6_sepconv1_bn[0][0]         \n",
      "__________________________________________________________________________________________________\n",
      "block6_sepconv2 (SeparableConv2 (None, 14, 14, 728)  536536      block6_sepconv2_act[0][0]        \n",
      "__________________________________________________________________________________________________\n",
      "block6_sepconv2_bn (BatchNormal (None, 14, 14, 728)  2912        block6_sepconv2[0][0]            \n",
      "__________________________________________________________________________________________________\n",
      "block6_sepconv3_act (Activation (None, 14, 14, 728)  0           block6_sepconv2_bn[0][0]         \n",
      "__________________________________________________________________________________________________\n",
      "block6_sepconv3 (SeparableConv2 (None, 14, 14, 728)  536536      block6_sepconv3_act[0][0]        \n",
      "__________________________________________________________________________________________________\n",
      "block6_sepconv3_bn (BatchNormal (None, 14, 14, 728)  2912        block6_sepconv3[0][0]            \n",
      "__________________________________________________________________________________________________\n",
      "add_5 (Add)                     (None, 14, 14, 728)  0           block6_sepconv3_bn[0][0]         \n",
      "                                                                 add_4[0][0]                      \n",
      "__________________________________________________________________________________________________\n",
      "block7_sepconv1_act (Activation (None, 14, 14, 728)  0           add_5[0][0]                      \n",
      "__________________________________________________________________________________________________\n",
      "block7_sepconv1 (SeparableConv2 (None, 14, 14, 728)  536536      block7_sepconv1_act[0][0]        \n",
      "__________________________________________________________________________________________________\n",
      "block7_sepconv1_bn (BatchNormal (None, 14, 14, 728)  2912        block7_sepconv1[0][0]            \n",
      "__________________________________________________________________________________________________\n",
      "block7_sepconv2_act (Activation (None, 14, 14, 728)  0           block7_sepconv1_bn[0][0]         \n",
      "__________________________________________________________________________________________________\n",
      "block7_sepconv2 (SeparableConv2 (None, 14, 14, 728)  536536      block7_sepconv2_act[0][0]        \n",
      "__________________________________________________________________________________________________\n",
      "block7_sepconv2_bn (BatchNormal (None, 14, 14, 728)  2912        block7_sepconv2[0][0]            \n",
      "__________________________________________________________________________________________________\n",
      "block7_sepconv3_act (Activation (None, 14, 14, 728)  0           block7_sepconv2_bn[0][0]         \n",
      "__________________________________________________________________________________________________\n",
      "block7_sepconv3 (SeparableConv2 (None, 14, 14, 728)  536536      block7_sepconv3_act[0][0]        \n",
      "__________________________________________________________________________________________________\n",
      "block7_sepconv3_bn (BatchNormal (None, 14, 14, 728)  2912        block7_sepconv3[0][0]            \n",
      "__________________________________________________________________________________________________\n",
      "add_6 (Add)                     (None, 14, 14, 728)  0           block7_sepconv3_bn[0][0]         \n",
      "                                                                 add_5[0][0]                      \n",
      "__________________________________________________________________________________________________\n",
      "block8_sepconv1_act (Activation (None, 14, 14, 728)  0           add_6[0][0]                      \n",
      "__________________________________________________________________________________________________\n",
      "block8_sepconv1 (SeparableConv2 (None, 14, 14, 728)  536536      block8_sepconv1_act[0][0]        \n",
      "__________________________________________________________________________________________________\n",
      "block8_sepconv1_bn (BatchNormal (None, 14, 14, 728)  2912        block8_sepconv1[0][0]            \n",
      "__________________________________________________________________________________________________\n",
      "block8_sepconv2_act (Activation (None, 14, 14, 728)  0           block8_sepconv1_bn[0][0]         \n",
      "__________________________________________________________________________________________________\n",
      "block8_sepconv2 (SeparableConv2 (None, 14, 14, 728)  536536      block8_sepconv2_act[0][0]        \n",
      "__________________________________________________________________________________________________\n",
      "block8_sepconv2_bn (BatchNormal (None, 14, 14, 728)  2912        block8_sepconv2[0][0]            \n",
      "__________________________________________________________________________________________________\n",
      "block8_sepconv3_act (Activation (None, 14, 14, 728)  0           block8_sepconv2_bn[0][0]         \n",
      "__________________________________________________________________________________________________\n",
      "block8_sepconv3 (SeparableConv2 (None, 14, 14, 728)  536536      block8_sepconv3_act[0][0]        \n",
      "__________________________________________________________________________________________________\n",
      "block8_sepconv3_bn (BatchNormal (None, 14, 14, 728)  2912        block8_sepconv3[0][0]            \n",
      "__________________________________________________________________________________________________\n",
      "add_7 (Add)                     (None, 14, 14, 728)  0           block8_sepconv3_bn[0][0]         \n",
      "                                                                 add_6[0][0]                      \n",
      "__________________________________________________________________________________________________\n",
      "block9_sepconv1_act (Activation (None, 14, 14, 728)  0           add_7[0][0]                      \n",
      "__________________________________________________________________________________________________\n",
      "block9_sepconv1 (SeparableConv2 (None, 14, 14, 728)  536536      block9_sepconv1_act[0][0]        \n",
      "__________________________________________________________________________________________________\n",
      "block9_sepconv1_bn (BatchNormal (None, 14, 14, 728)  2912        block9_sepconv1[0][0]            \n",
      "__________________________________________________________________________________________________\n",
      "block9_sepconv2_act (Activation (None, 14, 14, 728)  0           block9_sepconv1_bn[0][0]         \n",
      "__________________________________________________________________________________________________\n",
      "block9_sepconv2 (SeparableConv2 (None, 14, 14, 728)  536536      block9_sepconv2_act[0][0]        \n",
      "__________________________________________________________________________________________________\n",
      "block9_sepconv2_bn (BatchNormal (None, 14, 14, 728)  2912        block9_sepconv2[0][0]            \n",
      "__________________________________________________________________________________________________\n",
      "block9_sepconv3_act (Activation (None, 14, 14, 728)  0           block9_sepconv2_bn[0][0]         \n",
      "__________________________________________________________________________________________________\n",
      "block9_sepconv3 (SeparableConv2 (None, 14, 14, 728)  536536      block9_sepconv3_act[0][0]        \n",
      "__________________________________________________________________________________________________\n",
      "block9_sepconv3_bn (BatchNormal (None, 14, 14, 728)  2912        block9_sepconv3[0][0]            \n",
      "__________________________________________________________________________________________________\n",
      "add_8 (Add)                     (None, 14, 14, 728)  0           block9_sepconv3_bn[0][0]         \n",
      "                                                                 add_7[0][0]                      \n",
      "__________________________________________________________________________________________________\n",
      "block10_sepconv1_act (Activatio (None, 14, 14, 728)  0           add_8[0][0]                      \n",
      "__________________________________________________________________________________________________\n",
      "block10_sepconv1 (SeparableConv (None, 14, 14, 728)  536536      block10_sepconv1_act[0][0]       \n",
      "__________________________________________________________________________________________________\n",
      "block10_sepconv1_bn (BatchNorma (None, 14, 14, 728)  2912        block10_sepconv1[0][0]           \n",
      "__________________________________________________________________________________________________\n",
      "block10_sepconv2_act (Activatio (None, 14, 14, 728)  0           block10_sepconv1_bn[0][0]        \n",
      "__________________________________________________________________________________________________\n",
      "block10_sepconv2 (SeparableConv (None, 14, 14, 728)  536536      block10_sepconv2_act[0][0]       \n",
      "__________________________________________________________________________________________________\n",
      "block10_sepconv2_bn (BatchNorma (None, 14, 14, 728)  2912        block10_sepconv2[0][0]           \n",
      "__________________________________________________________________________________________________\n",
      "block10_sepconv3_act (Activatio (None, 14, 14, 728)  0           block10_sepconv2_bn[0][0]        \n",
      "__________________________________________________________________________________________________\n",
      "block10_sepconv3 (SeparableConv (None, 14, 14, 728)  536536      block10_sepconv3_act[0][0]       \n",
      "__________________________________________________________________________________________________\n",
      "block10_sepconv3_bn (BatchNorma (None, 14, 14, 728)  2912        block10_sepconv3[0][0]           \n",
      "__________________________________________________________________________________________________\n",
      "add_9 (Add)                     (None, 14, 14, 728)  0           block10_sepconv3_bn[0][0]        \n",
      "                                                                 add_8[0][0]                      \n",
      "__________________________________________________________________________________________________\n",
      "block11_sepconv1_act (Activatio (None, 14, 14, 728)  0           add_9[0][0]                      \n",
      "__________________________________________________________________________________________________\n",
      "block11_sepconv1 (SeparableConv (None, 14, 14, 728)  536536      block11_sepconv1_act[0][0]       \n",
      "__________________________________________________________________________________________________\n",
      "block11_sepconv1_bn (BatchNorma (None, 14, 14, 728)  2912        block11_sepconv1[0][0]           \n",
      "__________________________________________________________________________________________________\n",
      "block11_sepconv2_act (Activatio (None, 14, 14, 728)  0           block11_sepconv1_bn[0][0]        \n",
      "__________________________________________________________________________________________________\n",
      "block11_sepconv2 (SeparableConv (None, 14, 14, 728)  536536      block11_sepconv2_act[0][0]       \n",
      "__________________________________________________________________________________________________\n",
      "block11_sepconv2_bn (BatchNorma (None, 14, 14, 728)  2912        block11_sepconv2[0][0]           \n",
      "__________________________________________________________________________________________________\n",
      "block11_sepconv3_act (Activatio (None, 14, 14, 728)  0           block11_sepconv2_bn[0][0]        \n",
      "__________________________________________________________________________________________________\n",
      "block11_sepconv3 (SeparableConv (None, 14, 14, 728)  536536      block11_sepconv3_act[0][0]       \n",
      "__________________________________________________________________________________________________\n",
      "block11_sepconv3_bn (BatchNorma (None, 14, 14, 728)  2912        block11_sepconv3[0][0]           \n",
      "__________________________________________________________________________________________________\n",
      "add_10 (Add)                    (None, 14, 14, 728)  0           block11_sepconv3_bn[0][0]        \n",
      "                                                                 add_9[0][0]                      \n",
      "__________________________________________________________________________________________________\n",
      "block12_sepconv1_act (Activatio (None, 14, 14, 728)  0           add_10[0][0]                     \n",
      "__________________________________________________________________________________________________\n",
      "block12_sepconv1 (SeparableConv (None, 14, 14, 728)  536536      block12_sepconv1_act[0][0]       \n",
      "__________________________________________________________________________________________________\n",
      "block12_sepconv1_bn (BatchNorma (None, 14, 14, 728)  2912        block12_sepconv1[0][0]           \n",
      "__________________________________________________________________________________________________\n",
      "block12_sepconv2_act (Activatio (None, 14, 14, 728)  0           block12_sepconv1_bn[0][0]        \n",
      "__________________________________________________________________________________________________\n",
      "block12_sepconv2 (SeparableConv (None, 14, 14, 728)  536536      block12_sepconv2_act[0][0]       \n",
      "__________________________________________________________________________________________________\n",
      "block12_sepconv2_bn (BatchNorma (None, 14, 14, 728)  2912        block12_sepconv2[0][0]           \n",
      "__________________________________________________________________________________________________\n",
      "block12_sepconv3_act (Activatio (None, 14, 14, 728)  0           block12_sepconv2_bn[0][0]        \n",
      "__________________________________________________________________________________________________\n",
      "block12_sepconv3 (SeparableConv (None, 14, 14, 728)  536536      block12_sepconv3_act[0][0]       \n",
      "__________________________________________________________________________________________________\n",
      "block12_sepconv3_bn (BatchNorma (None, 14, 14, 728)  2912        block12_sepconv3[0][0]           \n",
      "__________________________________________________________________________________________________\n",
      "add_11 (Add)                    (None, 14, 14, 728)  0           block12_sepconv3_bn[0][0]        \n",
      "                                                                 add_10[0][0]                     \n",
      "__________________________________________________________________________________________________\n",
      "block13_sepconv1_act (Activatio (None, 14, 14, 728)  0           add_11[0][0]                     \n",
      "__________________________________________________________________________________________________\n",
      "block13_sepconv1 (SeparableConv (None, 14, 14, 728)  536536      block13_sepconv1_act[0][0]       \n",
      "__________________________________________________________________________________________________\n",
      "block13_sepconv1_bn (BatchNorma (None, 14, 14, 728)  2912        block13_sepconv1[0][0]           \n",
      "__________________________________________________________________________________________________\n",
      "block13_sepconv2_act (Activatio (None, 14, 14, 728)  0           block13_sepconv1_bn[0][0]        \n",
      "__________________________________________________________________________________________________\n",
      "block13_sepconv2 (SeparableConv (None, 14, 14, 1024) 752024      block13_sepconv2_act[0][0]       \n",
      "__________________________________________________________________________________________________\n",
      "block13_sepconv2_bn (BatchNorma (None, 14, 14, 1024) 4096        block13_sepconv2[0][0]           \n",
      "__________________________________________________________________________________________________\n",
      "conv2d_4 (Conv2D)               (None, 7, 7, 1024)   745472      add_11[0][0]                     \n",
      "__________________________________________________________________________________________________\n",
      "block13_pool (MaxPooling2D)     (None, 7, 7, 1024)   0           block13_sepconv2_bn[0][0]        \n",
      "__________________________________________________________________________________________________\n",
      "batch_normalization_4 (BatchNor (None, 7, 7, 1024)   4096        conv2d_4[0][0]                   \n",
      "__________________________________________________________________________________________________\n",
      "add_12 (Add)                    (None, 7, 7, 1024)   0           block13_pool[0][0]               \n",
      "                                                                 batch_normalization_4[0][0]      \n",
      "__________________________________________________________________________________________________\n",
      "block14_sepconv1 (SeparableConv (None, 7, 7, 1536)   1582080     add_12[0][0]                     \n",
      "__________________________________________________________________________________________________\n",
      "block14_sepconv1_bn (BatchNorma (None, 7, 7, 1536)   6144        block14_sepconv1[0][0]           \n",
      "__________________________________________________________________________________________________\n",
      "block14_sepconv1_act (Activatio (None, 7, 7, 1536)   0           block14_sepconv1_bn[0][0]        \n",
      "__________________________________________________________________________________________________\n",
      "block14_sepconv2 (SeparableConv (None, 7, 7, 2048)   3159552     block14_sepconv1_act[0][0]       \n",
      "__________________________________________________________________________________________________\n",
      "block14_sepconv2_bn (BatchNorma (None, 7, 7, 2048)   8192        block14_sepconv2[0][0]           \n",
      "__________________________________________________________________________________________________\n",
      "block14_sepconv2_act (Activatio (None, 7, 7, 2048)   0           block14_sepconv2_bn[0][0]        \n",
      "__________________________________________________________________________________________________\n",
      "global_average_pooling2d_1 (Glo (None, 2048)         0           block14_sepconv2_act[0][0]       \n",
      "==================================================================================================\n",
      "Total params: 20,861,480\n",
      "Trainable params: 20,806,952\n",
      "Non-trainable params: 54,528\n",
      "__________________________________________________________________________________________________\n"
     ]
    }
   ],
   "source": [
    "input_tensor_shape = (224, 224, 3)\n",
    "base_xception_model = Xception(weights = 'imagenet', input_shape = input_tensor_shape, include_top = False, pooling='avg')\n",
    "base_xception_model.summary()"
   ]
  },
  {
   "cell_type": "markdown",
   "metadata": {},
   "source": [
    "The input shape of our base xception model is: 224 X 224 X 3. That is a 3 channel square image with side 224 pixels.\n",
    "The output shape of the base xception model is: 2048 X 1. It is a 1-D vector representing the features learned by the model"
   ]
  },
  {
   "cell_type": "markdown",
   "metadata": {},
   "source": [
    "### Loading the Galaxy Zoo data\n",
    "\n",
    "We now start loading the galaxy zoo data into memory. First we load the label file and then start loading the corresponding images such that we can assign the corresponding label to them"
   ]
  },
  {
   "cell_type": "code",
   "execution_count": 6,
   "metadata": {},
   "outputs": [
    {
     "data": {
      "text/html": [
       "<div>\n",
       "<style scoped>\n",
       "    .dataframe tbody tr th:only-of-type {\n",
       "        vertical-align: middle;\n",
       "    }\n",
       "\n",
       "    .dataframe tbody tr th {\n",
       "        vertical-align: top;\n",
       "    }\n",
       "\n",
       "    .dataframe thead th {\n",
       "        text-align: right;\n",
       "    }\n",
       "</style>\n",
       "<table border=\"1\" class=\"dataframe\">\n",
       "  <thead>\n",
       "    <tr style=\"text-align: right;\">\n",
       "      <th></th>\n",
       "      <th>GalaxyID</th>\n",
       "      <th>Class1.1</th>\n",
       "      <th>Class1.2</th>\n",
       "      <th>Class1.3</th>\n",
       "      <th>Class2.1</th>\n",
       "      <th>Class2.2</th>\n",
       "      <th>Class3.1</th>\n",
       "      <th>Class3.2</th>\n",
       "      <th>Class4.1</th>\n",
       "      <th>Class4.2</th>\n",
       "      <th>...</th>\n",
       "      <th>Class9.3</th>\n",
       "      <th>Class10.1</th>\n",
       "      <th>Class10.2</th>\n",
       "      <th>Class10.3</th>\n",
       "      <th>Class11.1</th>\n",
       "      <th>Class11.2</th>\n",
       "      <th>Class11.3</th>\n",
       "      <th>Class11.4</th>\n",
       "      <th>Class11.5</th>\n",
       "      <th>Class11.6</th>\n",
       "    </tr>\n",
       "  </thead>\n",
       "  <tbody>\n",
       "    <tr>\n",
       "      <th>0</th>\n",
       "      <td>100008</td>\n",
       "      <td>0.383147</td>\n",
       "      <td>0.616853</td>\n",
       "      <td>0.000000</td>\n",
       "      <td>0.000000</td>\n",
       "      <td>0.616853</td>\n",
       "      <td>0.038452</td>\n",
       "      <td>0.578401</td>\n",
       "      <td>0.418398</td>\n",
       "      <td>0.198455</td>\n",
       "      <td>...</td>\n",
       "      <td>0.000000</td>\n",
       "      <td>0.279952</td>\n",
       "      <td>0.138445</td>\n",
       "      <td>0.000000</td>\n",
       "      <td>0.000000</td>\n",
       "      <td>0.092886</td>\n",
       "      <td>0.0</td>\n",
       "      <td>0.0</td>\n",
       "      <td>0.0</td>\n",
       "      <td>0.325512</td>\n",
       "    </tr>\n",
       "    <tr>\n",
       "      <th>1</th>\n",
       "      <td>100023</td>\n",
       "      <td>0.327001</td>\n",
       "      <td>0.663777</td>\n",
       "      <td>0.009222</td>\n",
       "      <td>0.031178</td>\n",
       "      <td>0.632599</td>\n",
       "      <td>0.467370</td>\n",
       "      <td>0.165229</td>\n",
       "      <td>0.591328</td>\n",
       "      <td>0.041271</td>\n",
       "      <td>...</td>\n",
       "      <td>0.018764</td>\n",
       "      <td>0.000000</td>\n",
       "      <td>0.131378</td>\n",
       "      <td>0.459950</td>\n",
       "      <td>0.000000</td>\n",
       "      <td>0.591328</td>\n",
       "      <td>0.0</td>\n",
       "      <td>0.0</td>\n",
       "      <td>0.0</td>\n",
       "      <td>0.000000</td>\n",
       "    </tr>\n",
       "    <tr>\n",
       "      <th>2</th>\n",
       "      <td>100053</td>\n",
       "      <td>0.765717</td>\n",
       "      <td>0.177352</td>\n",
       "      <td>0.056931</td>\n",
       "      <td>0.000000</td>\n",
       "      <td>0.177352</td>\n",
       "      <td>0.000000</td>\n",
       "      <td>0.177352</td>\n",
       "      <td>0.000000</td>\n",
       "      <td>0.177352</td>\n",
       "      <td>...</td>\n",
       "      <td>0.000000</td>\n",
       "      <td>0.000000</td>\n",
       "      <td>0.000000</td>\n",
       "      <td>0.000000</td>\n",
       "      <td>0.000000</td>\n",
       "      <td>0.000000</td>\n",
       "      <td>0.0</td>\n",
       "      <td>0.0</td>\n",
       "      <td>0.0</td>\n",
       "      <td>0.000000</td>\n",
       "    </tr>\n",
       "    <tr>\n",
       "      <th>3</th>\n",
       "      <td>100078</td>\n",
       "      <td>0.693377</td>\n",
       "      <td>0.238564</td>\n",
       "      <td>0.068059</td>\n",
       "      <td>0.000000</td>\n",
       "      <td>0.238564</td>\n",
       "      <td>0.109493</td>\n",
       "      <td>0.129071</td>\n",
       "      <td>0.189098</td>\n",
       "      <td>0.049466</td>\n",
       "      <td>...</td>\n",
       "      <td>0.000000</td>\n",
       "      <td>0.094549</td>\n",
       "      <td>0.000000</td>\n",
       "      <td>0.094549</td>\n",
       "      <td>0.189098</td>\n",
       "      <td>0.000000</td>\n",
       "      <td>0.0</td>\n",
       "      <td>0.0</td>\n",
       "      <td>0.0</td>\n",
       "      <td>0.000000</td>\n",
       "    </tr>\n",
       "    <tr>\n",
       "      <th>4</th>\n",
       "      <td>100090</td>\n",
       "      <td>0.933839</td>\n",
       "      <td>0.000000</td>\n",
       "      <td>0.066161</td>\n",
       "      <td>0.000000</td>\n",
       "      <td>0.000000</td>\n",
       "      <td>0.000000</td>\n",
       "      <td>0.000000</td>\n",
       "      <td>0.000000</td>\n",
       "      <td>0.000000</td>\n",
       "      <td>...</td>\n",
       "      <td>0.000000</td>\n",
       "      <td>0.000000</td>\n",
       "      <td>0.000000</td>\n",
       "      <td>0.000000</td>\n",
       "      <td>0.000000</td>\n",
       "      <td>0.000000</td>\n",
       "      <td>0.0</td>\n",
       "      <td>0.0</td>\n",
       "      <td>0.0</td>\n",
       "      <td>0.000000</td>\n",
       "    </tr>\n",
       "  </tbody>\n",
       "</table>\n",
       "<p>5 rows × 38 columns</p>\n",
       "</div>"
      ],
      "text/plain": [
       "   GalaxyID  Class1.1  Class1.2  Class1.3  Class2.1  Class2.2  Class3.1  \\\n",
       "0    100008  0.383147  0.616853  0.000000  0.000000  0.616853  0.038452   \n",
       "1    100023  0.327001  0.663777  0.009222  0.031178  0.632599  0.467370   \n",
       "2    100053  0.765717  0.177352  0.056931  0.000000  0.177352  0.000000   \n",
       "3    100078  0.693377  0.238564  0.068059  0.000000  0.238564  0.109493   \n",
       "4    100090  0.933839  0.000000  0.066161  0.000000  0.000000  0.000000   \n",
       "\n",
       "   Class3.2  Class4.1  Class4.2    ...      Class9.3  Class10.1  Class10.2  \\\n",
       "0  0.578401  0.418398  0.198455    ...      0.000000   0.279952   0.138445   \n",
       "1  0.165229  0.591328  0.041271    ...      0.018764   0.000000   0.131378   \n",
       "2  0.177352  0.000000  0.177352    ...      0.000000   0.000000   0.000000   \n",
       "3  0.129071  0.189098  0.049466    ...      0.000000   0.094549   0.000000   \n",
       "4  0.000000  0.000000  0.000000    ...      0.000000   0.000000   0.000000   \n",
       "\n",
       "   Class10.3  Class11.1  Class11.2  Class11.3  Class11.4  Class11.5  Class11.6  \n",
       "0   0.000000   0.000000   0.092886        0.0        0.0        0.0   0.325512  \n",
       "1   0.459950   0.000000   0.591328        0.0        0.0        0.0   0.000000  \n",
       "2   0.000000   0.000000   0.000000        0.0        0.0        0.0   0.000000  \n",
       "3   0.094549   0.189098   0.000000        0.0        0.0        0.0   0.000000  \n",
       "4   0.000000   0.000000   0.000000        0.0        0.0        0.0   0.000000  \n",
       "\n",
       "[5 rows x 38 columns]"
      ]
     },
     "execution_count": 6,
     "metadata": {},
     "output_type": "execute_result"
    }
   ],
   "source": [
    "all_labels = pd.read_csv(f'../data/galaxy_zoo/training_solutions_rev1.csv')\n",
    "all_labels.head()"
   ]
  },
  {
   "cell_type": "code",
   "execution_count": 7,
   "metadata": {},
   "outputs": [],
   "source": [
    "# Assuming the follwing column names:\n",
    "elliptical_galaxy_col_name = 'Class1.1'\n",
    "spiral_galaxy_col_name = 'Class1.2'\n",
    "\n",
    "# elliptical_galaxy_ids = pd.Series(all_labels[all_labels[elliptical_galaxy_col_name] > all_labels[spiral_galaxy_col_name]]['GalaxyID'], dtype=str)\n",
    "elliptical_galaxy_ids = pd.Series(all_labels[all_labels[elliptical_galaxy_col_name] >= 0.5]['GalaxyID'], dtype=str)\n",
    "# spiral_galaxy_ids = pd.Series(all_labels[all_labels[spiral_galaxy_col_name] > all_labels[elliptical_galaxy_col_name]]['GalaxyID'], dtype=str)\n",
    "spiral_galaxy_ids = pd.Series(all_labels[all_labels[spiral_galaxy_col_name] > 0.5]['GalaxyID'], dtype=str)"
   ]
  },
  {
   "cell_type": "code",
   "execution_count": 8,
   "metadata": {},
   "outputs": [
    {
     "name": "stdout",
     "output_type": "stream",
     "text": [
      "Number Elliptical Galaxies: 25868\n",
      "Number Spiral Galaxies: 34105\n"
     ]
    }
   ],
   "source": [
    "# Finding the number of images for each type of galaxy\n",
    "print(f'Number Elliptical Galaxies: {elliptical_galaxy_ids.shape[0]}')\n",
    "print(f'Number Spiral Galaxies: {spiral_galaxy_ids.shape[0]}')"
   ]
  },
  {
   "cell_type": "markdown",
   "metadata": {},
   "source": [
    "### Elliptical Galaxy"
   ]
  },
  {
   "cell_type": "markdown",
   "metadata": {},
   "source": [
    "#### Visualization"
   ]
  },
  {
   "cell_type": "code",
   "execution_count": 9,
   "metadata": {},
   "outputs": [
    {
     "data": {
      "text/plain": [
       "2    100053\n",
       "3    100078\n",
       "4    100090\n",
       "5    100122\n",
       "7    100128\n",
       "Name: GalaxyID, dtype: object"
      ]
     },
     "execution_count": 9,
     "metadata": {},
     "output_type": "execute_result"
    }
   ],
   "source": [
    "elliptical_galaxy_ids.head()"
   ]
  },
  {
   "cell_type": "code",
   "execution_count": 10,
   "metadata": {},
   "outputs": [
    {
     "data": {
      "text/plain": [
       "<matplotlib.image.AxesImage at 0x7ff6e69bedd8>"
      ]
     },
     "execution_count": 10,
     "metadata": {},
     "output_type": "execute_result"
    },
    {
     "data": {
      "image/png": "[encoded data removed]",
      "text/plain": [
       "<Figure size 432x288 with 1 Axes>"
      ]
     },
     "metadata": {},
     "output_type": "display_data"
    }
   ],
   "source": [
    "# Not using cv2 because it reads the image channels in a reverse order (BGR instead of RGB)\n",
    "# elliptical_image = cv2.imread(f'../data/galaxy_zoo/galaxy-zoo-the-galaxy-challenge/images_training_rev1/images_training_rev1/100053.jpg')\n",
    "elliptical_image = Image.open(f'../data/galaxy_zoo/images_training_rev1/100053.jpg')\n",
    "plt.imshow(elliptical_image)"
   ]
  },
  {
   "cell_type": "markdown",
   "metadata": {},
   "source": [
    "#### Features from the model"
   ]
  },
  {
   "cell_type": "code",
   "execution_count": 11,
   "metadata": {},
   "outputs": [
    {
     "name": "stdout",
     "output_type": "stream",
     "text": [
      "Original Image Size: (424, 424, 3)\n",
      "Resized Image Size: (224, 224, 3)\n"
     ]
    }
   ],
   "source": [
    "# First finding the input shape of the image\n",
    "print(f'Original Image Size: {np.array(elliptical_image).shape}')\n",
    "ellip_image_arr = resize(np.array(elliptical_image), input_tensor_shape)\n",
    "print(f'Resized Image Size: {ellip_image_arr.shape}')"
   ]
  },
  {
   "cell_type": "code",
   "execution_count": 12,
   "metadata": {},
   "outputs": [
    {
     "name": "stdout",
     "output_type": "stream",
     "text": [
      "[[1.2814081e-01 5.2758398e-05 0.0000000e+00 ... 1.8458191e-01\n",
      "  1.0656838e-02 0.0000000e+00]]\n",
      "CPU times: user 1.5 s, sys: 360 ms, total: 1.86 s\n",
      "Wall time: 26.4 s\n"
     ]
    }
   ],
   "source": [
    "%%time\n",
    "ellip_predications = base_xception_model.predict(ellip_image_arr.reshape((-1,) + input_tensor_shape))\n",
    "print(ellip_predications)"
   ]
  },
  {
   "cell_type": "markdown",
   "metadata": {},
   "source": [
    "### Spiral Galaxy"
   ]
  },
  {
   "cell_type": "markdown",
   "metadata": {},
   "source": [
    "#### Visualization"
   ]
  },
  {
   "cell_type": "code",
   "execution_count": 13,
   "metadata": {},
   "outputs": [
    {
     "data": {
      "text/plain": [
       "0     100008\n",
       "1     100023\n",
       "8     100134\n",
       "9     100143\n",
       "10    100150\n",
       "Name: GalaxyID, dtype: object"
      ]
     },
     "execution_count": 13,
     "metadata": {},
     "output_type": "execute_result"
    }
   ],
   "source": [
    "spiral_galaxy_ids.head()"
   ]
  },
  {
   "cell_type": "code",
   "execution_count": 14,
   "metadata": {},
   "outputs": [
    {
     "data": {
      "text/plain": [
       "<matplotlib.image.AxesImage at 0x7ff6e68d4470>"
      ]
     },
     "execution_count": 14,
     "metadata": {},
     "output_type": "execute_result"
    },
    {
     "data": {
      "image/png": "[encoded data removed]",
      "text/plain": [
       "<Figure size 432x288 with 1 Axes>"
      ]
     },
     "metadata": {},
     "output_type": "display_data"
    }
   ],
   "source": [
    "# Not using cv2 because it reads the image channels in a reverse order (BGR instead of RGB)\n",
    "# spiral_image = cv2.imread(f'../data/galaxy_zoo/galaxy-zoo-the-galaxy-challenge/images_training_rev1/images_training_rev1/100008.jpg')\n",
    "spiral_image = Image.open(f'../data/galaxy_zoo/images_training_rev1/100008.jpg')\n",
    "plt.imshow(spiral_image)"
   ]
  },
  {
   "cell_type": "markdown",
   "metadata": {},
   "source": [
    "#### Features from the model"
   ]
  },
  {
   "cell_type": "code",
   "execution_count": 15,
   "metadata": {},
   "outputs": [
    {
     "name": "stdout",
     "output_type": "stream",
     "text": [
      "Original Image Size: (424, 424, 3)\n",
      "Resized Image Size: (224, 224, 3)\n"
     ]
    }
   ],
   "source": [
    "# First finding the input shape of the image\n",
    "print(f'Original Image Size: {np.array(spiral_image).shape}')\n",
    "spiral_image_arr = resize(np.array(spiral_image), input_tensor_shape)\n",
    "print(f'Resized Image Size: {spiral_image_arr.shape}')"
   ]
  },
  {
   "cell_type": "code",
   "execution_count": 16,
   "metadata": {},
   "outputs": [
    {
     "name": "stdout",
     "output_type": "stream",
     "text": [
      "[[0.21515714 0.         0.         ... 0.2888895  0.00184127 0.        ]]\n",
      "CPU times: user 44 ms, sys: 44 ms, total: 88 ms\n",
      "Wall time: 28 ms\n"
     ]
    }
   ],
   "source": [
    "%%time\n",
    "spiral_predications = base_xception_model.predict(spiral_image_arr.reshape((-1,) + input_tensor_shape))\n",
    "print(spiral_predications)"
   ]
  },
  {
   "cell_type": "markdown",
   "metadata": {},
   "source": [
    "### Data Validation\n",
    "\n",
    "Validate whether all the images are in the required place of the training and the testing directories. Make sure we copy all the required images from the galaxy zoo data lake to the correct place and then define all the generators"
   ]
  },
  {
   "cell_type": "code",
   "execution_count": 17,
   "metadata": {},
   "outputs": [
    {
     "name": "stdout",
     "output_type": "stream",
     "text": [
      "True\n",
      "True True\n"
     ]
    }
   ],
   "source": [
    "data_lake_path = f'../data/galaxy_zoo/images_training_rev1/'\n",
    "print(exist_directory(data_lake_path))\n",
    "training_directory_path = f'../data/xception_clustering/training/'\n",
    "testing_directory_path = f'../data/xception_clustering/testing/'\n",
    "print(exist_directory(training_directory_path), exist_directory(testing_directory_path))"
   ]
  },
  {
   "cell_type": "code",
   "execution_count": 18,
   "metadata": {},
   "outputs": [
    {
     "name": "stdout",
     "output_type": "stream",
     "text": [
      "61578\n",
      "Number of common Elliptical Galaxies: 25868\n",
      "Number of common Spiral Galaxies: 34105\n"
     ]
    }
   ],
   "source": [
    "# Get file names for the different types of galaxies from the dataframe that are also present in the dataset\n",
    "image_extension = '.jpg'\n",
    "all_image_files = get_file_nms(data_lake_path, image_extension)\n",
    "print(len(all_image_files))\n",
    "common_spiral_galaxy_ids = list(set(spiral_galaxy_ids).intersection(all_image_files))\n",
    "common_elliptical_galaxy_ids = list(set(elliptical_galaxy_ids).intersection(all_image_files))\n",
    "# Finding the number of images for each type of galaxy after finding the common images and list\n",
    "print(f'Number of common Elliptical Galaxies: {len(common_elliptical_galaxy_ids)}')\n",
    "print(f'Number of common Spiral Galaxies: {len(common_spiral_galaxy_ids)}')"
   ]
  },
  {
   "cell_type": "code",
   "execution_count": 19,
   "metadata": {},
   "outputs": [
    {
     "name": "stdout",
     "output_type": "stream",
     "text": [
      "Number of already present Training Elliptical Galaxies: 0\n",
      "Number of already present Training Spiral Galaxies: 0\n",
      "Number of already present Training Elliptical Galaxies: 0\n",
      "Number of already present Training Spiral Galaxies: 0\n"
     ]
    }
   ],
   "source": [
    "# Getting the files already in the training and testing folders respectively\n",
    "spiral_training_directory_path = construct_path(training_directory_path, 'spiral')\n",
    "elliptical_training_directory_path = construct_path(training_directory_path, 'elliptical')\n",
    "spiral_testing_directory_path = construct_path(testing_directory_path, 'spiral')\n",
    "elliptical_testing_directory_path = construct_path(testing_directory_path, 'elliptical')\n",
    "elliptical_training_files = get_file_nms(elliptical_training_directory_path, image_extension)\n",
    "spiral_training_files = get_file_nms(spiral_training_directory_path, image_extension)\n",
    "elliptical_testing_files = get_file_nms(elliptical_testing_directory_path, image_extension)\n",
    "spiral_testing_files = get_file_nms(spiral_testing_directory_path, image_extension)\n",
    "# Finding the number of images for each type of galaxy after finding the common images and list\n",
    "print(f'Number of already present Training Elliptical Galaxies: {len(elliptical_training_files)}')\n",
    "print(f'Number of already present Training Spiral Galaxies: {len(spiral_training_files)}')\n",
    "print(f'Number of already present Training Elliptical Galaxies: {len(elliptical_testing_files)}')\n",
    "print(f'Number of already present Training Spiral Galaxies: {len(spiral_testing_files)}')"
   ]
  },
  {
   "cell_type": "code",
   "execution_count": 20,
   "metadata": {},
   "outputs": [],
   "source": [
    "# Splitting the data into training and testing split\n",
    "train_galaxy_ids_elliptical, test_galaxy_ids_elliptical = train_test_split(common_elliptical_galaxy_ids, test_size=0.)\n",
    "train_galaxy_ids_spiral, test_galaxy_ids_spiral = train_test_split(common_spiral_galaxy_ids, test_size=0.)"
   ]
  },
  {
   "cell_type": "code",
   "execution_count": 21,
   "metadata": {},
   "outputs": [
    {
     "data": {
      "text/plain": [
       "(25868, 34105)"
      ]
     },
     "execution_count": 21,
     "metadata": {},
     "output_type": "execute_result"
    }
   ],
   "source": [
    "len(train_galaxy_ids_elliptical), len(train_galaxy_ids_spiral)"
   ]
  },
  {
   "cell_type": "code",
   "execution_count": 22,
   "metadata": {},
   "outputs": [
    {
     "name": "stdout",
     "output_type": "stream",
     "text": [
      "Hello\n",
      "Hello\n",
      "Hello\n",
      "CPU times: user 3 s, sys: 3 s, total: 6 s\n",
      "Wall time: 6.67 s\n"
     ]
    }
   ],
   "source": [
    "%%time\n",
    "# Iterating to copy the data\n",
    "for file_name in set(train_galaxy_ids_elliptical) - elliptical_training_files:\n",
    "    input_file_path = construct_path(data_lake_path, f'{file_name}{image_extension}')\n",
    "    outut_file_path = construct_path(elliptical_training_directory_path, f'{file_name}{image_extension}')\n",
    "    copy2(input_file_path, outut_file_path)\n",
    "\n",
    "for file_name in set(test_galaxy_ids_elliptical) - elliptical_testing_files:\n",
    "    input_file_path = construct_path(data_lake_path, f'{file_name}{image_extension}')\n",
    "    outut_file_path = construct_path(elliptical_testing_directory_path, f'{file_name}{image_extension}')\n",
    "    copy2(input_file_path, outut_file_path)\n",
    "print('Hello')    \n",
    "for file_name in set(train_galaxy_ids_spiral) - spiral_training_files:\n",
    "    input_file_path = construct_path(data_lake_path, f'{file_name}{image_extension}')\n",
    "    outut_file_path = construct_path(spiral_training_directory_path, f'{file_name}{image_extension}')\n",
    "    copy2(input_file_path, outut_file_path)\n",
    "print('Hello')    \n",
    "for file_name in set(test_galaxy_ids_spiral) - spiral_testing_files:\n",
    "    input_file_path = construct_path(data_lake_path, f'{file_name}{image_extension}')\n",
    "    outut_file_path = construct_path(spiral_testing_directory_path, f'{file_name}{image_extension}')\n",
    "    copy2(input_file_path, outut_file_path)\n",
    "print('Hello')"
   ]
  },
  {
   "cell_type": "markdown",
   "metadata": {},
   "source": [
    "### Data Generators\n",
    "\n",
    "Defining the keras data generators to iterate through all the images and then essentially help in extracting the features from the images"
   ]
  },
  {
   "cell_type": "code",
   "execution_count": 23,
   "metadata": {},
   "outputs": [
    {
     "name": "stdout",
     "output_type": "stream",
     "text": [
      "Found 59973 images belonging to 2 classes.\n",
      "Found 0 images belonging to 2 classes.\n",
      "CPU times: user 3 s, sys: 820 ms, total: 3.82 s\n",
      "Wall time: 2.75 s\n"
     ]
    }
   ],
   "source": [
    "%%time\n",
    "generator_batch_size = 64\n",
    "image_generator = ImageDataGenerator(featurewise_center=True, featurewise_std_normalization=True)\n",
    "training_generator = image_generator.flow_from_directory(training_directory_path, target_size = input_tensor_shape[:2], \n",
    "                                                         class_mode='binary', batch_size=generator_batch_size)\n",
    "testing_generator = image_generator.flow_from_directory(testing_directory_path, target_size = input_tensor_shape[:2], \n",
    "                                                         class_mode='binary', batch_size=generator_batch_size)"
   ]
  },
  {
   "cell_type": "code",
   "execution_count": 25,
   "metadata": {},
   "outputs": [
    {
     "name": "stdout",
     "output_type": "stream",
     "text": [
      "CPU times: user 11min 21s, sys: 3min 40s, total: 15min 1s\n",
      "Wall time: 14min 8s\n"
     ]
    }
   ],
   "source": [
    "%%time\n",
    "n_train_examples = (len(training_generator.filenames)//generator_batch_size) * generator_batch_size\n",
    "train_features = np.zeros((n_train_examples, 2048))\n",
    "train_labels = np.zeros(n_train_examples, dtype=int)\n",
    "i = 0\n",
    "for inputs_batch, labels_batch in training_generator:\n",
    "    features_batch = base_xception_model.predict(inputs_batch)\n",
    "    train_features[i * generator_batch_size : (i + 1) * generator_batch_size] = features_batch\n",
    "    train_labels[i * generator_batch_size : (i + 1) * generator_batch_size] = labels_batch\n",
    "    i += 1\n",
    "    if i * generator_batch_size >= n_train_examples:\n",
    "        break"
   ]
  },
  {
   "cell_type": "code",
   "execution_count": 26,
   "metadata": {},
   "outputs": [
    {
     "data": {
      "text/plain": [
       "(59968, 2048)"
      ]
     },
     "execution_count": 26,
     "metadata": {},
     "output_type": "execute_result"
    }
   ],
   "source": [
    "train_features.shape"
   ]
  },
  {
   "cell_type": "code",
   "execution_count": 54,
   "metadata": {},
   "outputs": [],
   "source": [
    "# other type of feature generation\n",
    "#%%time\n",
    "#number_training_samples = len(training_generator.filenames)\n",
    "#number_testing_samples = len(testing_generator.filenames)\n",
    "#train_features = base_xception_model.predict_generator(training_generator, steps=10)"
   ]
  },
  {
   "cell_type": "markdown",
   "metadata": {},
   "source": [
    "### DEC Xception Training Regime\n",
    "\n",
    "This part of the notebook defines the generator for the training regime of the DEC model over the features extracted from the Xception architecture"
   ]
  },
  {
   "cell_type": "code",
   "execution_count": 24,
   "metadata": {},
   "outputs": [
    {
     "name": "stdout",
     "output_type": "stream",
     "text": [
      "_________________________________________________________________\n",
      "Layer (type)                 Output Shape              Param #   \n",
      "=================================================================\n",
      "input (InputLayer)           (None, 2048)              0         \n",
      "_________________________________________________________________\n",
      "encoder_0 (Dense)            (None, 500)               1024500   \n",
      "_________________________________________________________________\n",
      "encoder_1 (Dense)            (None, 500)               250500    \n",
      "_________________________________________________________________\n",
      "encoder_2 (Dense)            (None, 2000)              1002000   \n",
      "_________________________________________________________________\n",
      "encoder_3 (Dense)            (None, 10)                20010     \n",
      "_________________________________________________________________\n",
      "clustering (ClusteringLayer) (None, 2)                 20        \n",
      "=================================================================\n",
      "Total params: 2,297,030\n",
      "Trainable params: 2,297,030\n",
      "Non-trainable params: 0\n",
      "_________________________________________________________________\n"
     ]
    }
   ],
   "source": [
    "# Defining our DEC model\n",
    "dec_model = DEC([2048, 500, 500, 2000, 10], n_clusters=2)\n",
    "dec_model.model.summary()"
   ]
  },
  {
   "cell_type": "code",
   "execution_count": 29,
   "metadata": {},
   "outputs": [
    {
     "name": "stdout",
     "output_type": "stream",
     "text": [
      "...Pretraining...\n",
      "Epoch 1/200\n",
      "59968/59968 [==============================] - 5s 85us/step - loss: 1.2983\n",
      "        |==>  acc: 0.5492,  nmi: 0.0047  <==|\n",
      "Epoch 2/200\n",
      "59968/59968 [==============================] - 5s 76us/step - loss: 0.7145\n",
      "Epoch 3/200\n",
      "59968/59968 [==============================] - 4s 68us/step - loss: 0.5992\n",
      "Epoch 4/200\n",
      "59968/59968 [==============================] - 4s 67us/step - loss: 0.6081\n",
      "Epoch 5/200\n",
      "59968/59968 [==============================] - 4s 69us/step - loss: 0.4991\n",
      "Epoch 6/200\n",
      "59968/59968 [==============================] - 4s 67us/step - loss: 0.4963\n",
      "Epoch 7/200\n",
      "59968/59968 [==============================] - 4s 69us/step - loss: 0.5262\n",
      "Epoch 8/200\n",
      "59968/59968 [==============================] - 4s 69us/step - loss: 0.4864\n",
      "Epoch 9/200\n",
      "59968/59968 [==============================] - 4s 70us/step - loss: 0.5063\n",
      "Epoch 10/200\n",
      "59968/59968 [==============================] - 4s 69us/step - loss: 0.4861\n",
      "Epoch 11/200\n",
      "59968/59968 [==============================] - 4s 66us/step - loss: 0.5137\n",
      "Epoch 12/200\n",
      "59968/59968 [==============================] - 4s 67us/step - loss: 0.4905\n",
      "Epoch 13/200\n",
      "59968/59968 [==============================] - 4s 68us/step - loss: 0.4622\n",
      "Epoch 14/200\n",
      "59968/59968 [==============================] - 4s 69us/step - loss: 0.4288\n",
      "Epoch 15/200\n",
      "59968/59968 [==============================] - 4s 70us/step - loss: 0.3916\n",
      "Epoch 16/200\n",
      "59968/59968 [==============================] - 4s 70us/step - loss: 0.4557\n",
      "Epoch 17/200\n",
      "59968/59968 [==============================] - 4s 70us/step - loss: 0.4099\n",
      "Epoch 18/200\n",
      "59968/59968 [==============================] - 4s 69us/step - loss: 0.4418\n",
      "Epoch 19/200\n",
      "59968/59968 [==============================] - 4s 70us/step - loss: 0.3794\n",
      "Epoch 20/200\n",
      "59968/59968 [==============================] - 4s 71us/step - loss: 0.3858\n",
      "Epoch 21/200\n",
      "59968/59968 [==============================] - 4s 73us/step - loss: 0.4184\n",
      "        |==>  acc: 0.5503,  nmi: 0.0020  <==|\n",
      "Epoch 22/200\n",
      "59968/59968 [==============================] - 4s 69us/step - loss: 0.4001\n",
      "Epoch 23/200\n",
      "59968/59968 [==============================] - 4s 66us/step - loss: 0.3802\n",
      "Epoch 24/200\n",
      "59968/59968 [==============================] - 4s 67us/step - loss: 0.3664\n",
      "Epoch 25/200\n",
      "59968/59968 [==============================] - 4s 69us/step - loss: 0.3982\n",
      "Epoch 26/200\n",
      "59968/59968 [==============================] - 4s 69us/step - loss: 0.4441\n",
      "Epoch 27/200\n",
      "59968/59968 [==============================] - 4s 68us/step - loss: 0.3730\n",
      "Epoch 28/200\n",
      "59968/59968 [==============================] - 4s 67us/step - loss: 0.5110\n",
      "Epoch 29/200\n",
      "59968/59968 [==============================] - 4s 69us/step - loss: 0.4121\n",
      "Epoch 30/200\n",
      "59968/59968 [==============================] - 4s 68us/step - loss: 0.3916\n",
      "Epoch 31/200\n",
      "59968/59968 [==============================] - 4s 69us/step - loss: 0.4110\n",
      "Epoch 32/200\n",
      "59968/59968 [==============================] - 4s 69us/step - loss: 0.3460\n",
      "Epoch 33/200\n",
      "59968/59968 [==============================] - 4s 67us/step - loss: 0.3485\n",
      "Epoch 34/200\n",
      "59968/59968 [==============================] - 4s 67us/step - loss: 0.3850\n",
      "Epoch 35/200\n",
      "59968/59968 [==============================] - 4s 69us/step - loss: 0.3414\n",
      "Epoch 36/200\n",
      "59968/59968 [==============================] - 4s 69us/step - loss: 0.3578\n",
      "Epoch 37/200\n",
      "59968/59968 [==============================] - 4s 70us/step - loss: 0.3454\n",
      "Epoch 38/200\n",
      "59968/59968 [==============================] - 4s 70us/step - loss: 0.3700\n",
      "Epoch 39/200\n",
      "59968/59968 [==============================] - 4s 69us/step - loss: 0.3499\n",
      "Epoch 40/200\n",
      "59968/59968 [==============================] - 4s 68us/step - loss: 0.3278\n",
      "Epoch 41/200\n",
      "59968/59968 [==============================] - 4s 68us/step - loss: 0.3184\n",
      "        |==>  acc: 0.5471,  nmi: 0.0047  <==|\n",
      "Epoch 42/200\n",
      "59968/59968 [==============================] - 4s 71us/step - loss: 0.3713\n",
      "Epoch 43/200\n",
      "59968/59968 [==============================] - 4s 69us/step - loss: 0.3916\n",
      "Epoch 44/200\n",
      "59968/59968 [==============================] - 4s 68us/step - loss: 0.3394\n",
      "Epoch 45/200\n",
      "59968/59968 [==============================] - 4s 68us/step - loss: 0.3369\n",
      "Epoch 46/200\n",
      "59968/59968 [==============================] - 4s 69us/step - loss: 0.3213\n",
      "Epoch 47/200\n",
      "59968/59968 [==============================] - 4s 70us/step - loss: 0.3869\n",
      "Epoch 48/200\n",
      "59968/59968 [==============================] - 4s 72us/step - loss: 0.3213\n",
      "Epoch 49/200\n",
      "59968/59968 [==============================] - 4s 73us/step - loss: 0.3749\n",
      "Epoch 50/200\n",
      "59968/59968 [==============================] - 4s 71us/step - loss: 0.3534\n",
      "Epoch 51/200\n",
      "59968/59968 [==============================] - 4s 70us/step - loss: 0.3502\n",
      "Epoch 52/200\n",
      "59968/59968 [==============================] - 4s 70us/step - loss: 0.3242\n",
      "Epoch 53/200\n",
      "59968/59968 [==============================] - 4s 70us/step - loss: 0.3029\n",
      "Epoch 54/200\n",
      "59968/59968 [==============================] - 4s 71us/step - loss: 0.3288\n",
      "Epoch 55/200\n",
      "59968/59968 [==============================] - 4s 69us/step - loss: 0.3394\n",
      "Epoch 56/200\n",
      "59968/59968 [==============================] - 4s 71us/step - loss: 0.3758\n",
      "Epoch 57/200\n",
      "59968/59968 [==============================] - 4s 68us/step - loss: 0.3389\n",
      "Epoch 58/200\n",
      "59968/59968 [==============================] - 4s 68us/step - loss: 0.3424\n",
      "Epoch 59/200\n",
      "59968/59968 [==============================] - 4s 69us/step - loss: 0.3450\n",
      "Epoch 60/200\n",
      "59968/59968 [==============================] - 4s 68us/step - loss: 0.3117\n",
      "Epoch 61/200\n",
      "59968/59968 [==============================] - 4s 70us/step - loss: 0.3229\n",
      "        |==>  acc: 0.5495,  nmi: 0.0015  <==|\n",
      "Epoch 62/200\n",
      "59968/59968 [==============================] - 4s 73us/step - loss: 0.3610\n",
      "Epoch 63/200\n",
      "59968/59968 [==============================] - 4s 71us/step - loss: 0.3232\n",
      "Epoch 64/200\n",
      "59968/59968 [==============================] - 4s 71us/step - loss: 0.3005\n",
      "Epoch 65/200\n",
      "59968/59968 [==============================] - 4s 67us/step - loss: 0.4306\n",
      "Epoch 66/200\n",
      "59968/59968 [==============================] - 4s 67us/step - loss: 0.3964\n",
      "Epoch 67/200\n",
      "59968/59968 [==============================] - 4s 68us/step - loss: 0.3302\n",
      "Epoch 68/200\n",
      "59968/59968 [==============================] - 4s 66us/step - loss: 0.3429\n",
      "Epoch 69/200\n",
      "59968/59968 [==============================] - 4s 68us/step - loss: 0.3105\n",
      "Epoch 70/200\n",
      "59968/59968 [==============================] - 4s 66us/step - loss: 0.3121\n",
      "Epoch 71/200\n",
      "59968/59968 [==============================] - 4s 69us/step - loss: 0.3375\n",
      "Epoch 72/200\n",
      "59968/59968 [==============================] - 4s 70us/step - loss: 0.3566\n",
      "Epoch 73/200\n",
      "59968/59968 [==============================] - 4s 67us/step - loss: 0.3200\n",
      "Epoch 74/200\n",
      "59968/59968 [==============================] - 4s 71us/step - loss: 0.3101\n",
      "Epoch 75/200\n",
      "59968/59968 [==============================] - 4s 72us/step - loss: 0.3065\n",
      "Epoch 76/200\n",
      "59968/59968 [==============================] - 4s 74us/step - loss: 0.3014\n",
      "Epoch 77/200\n",
      "59968/59968 [==============================] - 4s 69us/step - loss: 0.3063\n",
      "Epoch 78/200\n",
      "59968/59968 [==============================] - 4s 70us/step - loss: 0.3163\n",
      "Epoch 79/200\n",
      "59968/59968 [==============================] - 4s 67us/step - loss: 0.2974\n",
      "Epoch 80/200\n",
      "59968/59968 [==============================] - 4s 69us/step - loss: 0.2973\n",
      "Epoch 81/200\n",
      "59968/59968 [==============================] - 4s 69us/step - loss: 0.2783\n",
      "        |==>  acc: 0.5478,  nmi: 0.0041  <==|\n",
      "Epoch 82/200\n",
      "59968/59968 [==============================] - 4s 67us/step - loss: 0.2793\n",
      "Epoch 83/200\n",
      "59968/59968 [==============================] - 4s 66us/step - loss: 0.2964\n",
      "Epoch 84/200\n",
      "59968/59968 [==============================] - 4s 66us/step - loss: 0.2824\n",
      "Epoch 85/200\n",
      "59968/59968 [==============================] - 4s 66us/step - loss: 0.3123\n",
      "Epoch 86/200\n",
      "59968/59968 [==============================] - 4s 66us/step - loss: 0.2995\n",
      "Epoch 87/200\n",
      "59968/59968 [==============================] - 4s 68us/step - loss: 0.3568\n",
      "Epoch 88/200\n",
      "59968/59968 [==============================] - 4s 69us/step - loss: 0.3086\n",
      "Epoch 89/200\n",
      "59968/59968 [==============================] - 4s 71us/step - loss: 0.3427\n",
      "Epoch 90/200\n",
      "59968/59968 [==============================] - 4s 70us/step - loss: 0.3014\n",
      "Epoch 91/200\n"
     ]
    },
    {
     "name": "stdout",
     "output_type": "stream",
     "text": [
      "59968/59968 [==============================] - 4s 68us/step - loss: 0.3142\n",
      "Epoch 92/200\n",
      "59968/59968 [==============================] - 4s 66us/step - loss: 0.3290\n",
      "Epoch 93/200\n",
      "59968/59968 [==============================] - 4s 66us/step - loss: 0.3035\n",
      "Epoch 94/200\n",
      "59968/59968 [==============================] - 4s 66us/step - loss: 0.3382\n",
      "Epoch 95/200\n",
      "59968/59968 [==============================] - 4s 68us/step - loss: 0.3177\n",
      "Epoch 96/200\n",
      "59968/59968 [==============================] - 4s 69us/step - loss: 0.3145\n",
      "Epoch 97/200\n",
      "59968/59968 [==============================] - 4s 72us/step - loss: 0.2903\n",
      "Epoch 98/200\n",
      "59968/59968 [==============================] - 4s 69us/step - loss: 0.2854\n",
      "Epoch 99/200\n",
      "59968/59968 [==============================] - 4s 70us/step - loss: 0.2998\n",
      "Epoch 100/200\n",
      "59968/59968 [==============================] - 4s 70us/step - loss: 0.3153\n",
      "Epoch 101/200\n",
      "59968/59968 [==============================] - 4s 72us/step - loss: 0.2895\n",
      "        |==>  acc: 0.5464,  nmi: 0.0042  <==|\n",
      "Epoch 102/200\n",
      "59968/59968 [==============================] - 4s 68us/step - loss: 0.2980\n",
      "Epoch 103/200\n",
      "59968/59968 [==============================] - 4s 67us/step - loss: 0.2892\n",
      "Epoch 104/200\n",
      "59968/59968 [==============================] - 4s 67us/step - loss: 0.2810\n",
      "Epoch 105/200\n",
      "59968/59968 [==============================] - 4s 66us/step - loss: 0.2793\n",
      "Epoch 106/200\n",
      "59968/59968 [==============================] - 4s 66us/step - loss: 0.2753\n",
      "Epoch 107/200\n",
      "59968/59968 [==============================] - 4s 68us/step - loss: 0.2718\n",
      "Epoch 108/200\n",
      "59968/59968 [==============================] - 4s 70us/step - loss: 0.2919\n",
      "Epoch 109/200\n",
      "59968/59968 [==============================] - 4s 70us/step - loss: 0.2723\n",
      "Epoch 110/200\n",
      "59968/59968 [==============================] - 4s 71us/step - loss: 0.2714\n",
      "Epoch 111/200\n",
      "59968/59968 [==============================] - 4s 70us/step - loss: 0.2705\n",
      "Epoch 112/200\n",
      "59968/59968 [==============================] - 4s 72us/step - loss: 0.2790\n",
      "Epoch 113/200\n",
      "59968/59968 [==============================] - 4s 69us/step - loss: 0.3061\n",
      "Epoch 114/200\n",
      "59968/59968 [==============================] - 4s 70us/step - loss: 0.3340\n",
      "Epoch 115/200\n",
      "59968/59968 [==============================] - 4s 72us/step - loss: 0.2932\n",
      "Epoch 116/200\n",
      "59968/59968 [==============================] - 4s 70us/step - loss: 0.2884\n",
      "Epoch 117/200\n",
      "59968/59968 [==============================] - 4s 68us/step - loss: 0.3360\n",
      "Epoch 118/200\n",
      "59968/59968 [==============================] - 4s 69us/step - loss: 0.3023\n",
      "Epoch 119/200\n",
      "59968/59968 [==============================] - 4s 69us/step - loss: 0.2902\n",
      "Epoch 120/200\n",
      "59968/59968 [==============================] - 4s 71us/step - loss: 0.2908\n",
      "Epoch 121/200\n",
      "59968/59968 [==============================] - 4s 67us/step - loss: 0.2773\n",
      "        |==>  acc: 0.5470,  nmi: 0.0038  <==|\n",
      "Epoch 122/200\n",
      "59968/59968 [==============================] - 4s 67us/step - loss: 0.2751\n",
      "Epoch 123/200\n",
      "59968/59968 [==============================] - 4s 66us/step - loss: 0.2709\n",
      "Epoch 124/200\n",
      "59968/59968 [==============================] - 4s 66us/step - loss: 0.2756\n",
      "Epoch 125/200\n",
      "59968/59968 [==============================] - 4s 66us/step - loss: 0.2625\n",
      "Epoch 126/200\n",
      "59968/59968 [==============================] - 4s 67us/step - loss: 0.2933\n",
      "Epoch 127/200\n",
      "59968/59968 [==============================] - 4s 69us/step - loss: 0.3035\n",
      "Epoch 128/200\n",
      "59968/59968 [==============================] - 4s 69us/step - loss: 0.3185\n",
      "Epoch 129/200\n",
      "59968/59968 [==============================] - 4s 71us/step - loss: 0.2892\n",
      "Epoch 130/200\n",
      "59968/59968 [==============================] - 4s 71us/step - loss: 0.2761\n",
      "Epoch 131/200\n",
      "59968/59968 [==============================] - 4s 73us/step - loss: 0.2679\n",
      "Epoch 132/200\n",
      "59968/59968 [==============================] - 4s 71us/step - loss: 0.2652\n",
      "Epoch 133/200\n",
      "59968/59968 [==============================] - 4s 71us/step - loss: 0.3122\n",
      "Epoch 134/200\n",
      "59968/59968 [==============================] - 4s 69us/step - loss: 0.3044\n",
      "Epoch 135/200\n",
      "59968/59968 [==============================] - 4s 69us/step - loss: 0.2784\n",
      "Epoch 136/200\n",
      "59968/59968 [==============================] - 4s 68us/step - loss: 0.2727\n",
      "Epoch 137/200\n",
      "59968/59968 [==============================] - 4s 69us/step - loss: 0.2722\n",
      "Epoch 138/200\n",
      "59968/59968 [==============================] - 4s 70us/step - loss: 0.2642\n",
      "Epoch 139/200\n",
      "59968/59968 [==============================] - 4s 72us/step - loss: 0.2759\n",
      "Epoch 140/200\n",
      "59968/59968 [==============================] - 4s 70us/step - loss: 0.2723\n",
      "Epoch 141/200\n",
      "59968/59968 [==============================] - 4s 70us/step - loss: 0.2836\n",
      "        |==>  acc: 0.5464,  nmi: 0.0039  <==|\n",
      "Epoch 142/200\n",
      "59968/59968 [==============================] - 4s 73us/step - loss: 0.3021\n",
      "Epoch 143/200\n",
      "59968/59968 [==============================] - 4s 71us/step - loss: 0.2909\n",
      "Epoch 144/200\n",
      "59968/59968 [==============================] - 4s 72us/step - loss: 0.3114\n",
      "Epoch 145/200\n",
      "59968/59968 [==============================] - 4s 72us/step - loss: 0.3033\n",
      "Epoch 146/200\n",
      "59968/59968 [==============================] - 4s 66us/step - loss: 0.2768\n",
      "Epoch 147/200\n",
      "59968/59968 [==============================] - 4s 66us/step - loss: 0.2679\n",
      "Epoch 148/200\n",
      "59968/59968 [==============================] - 4s 69us/step - loss: 0.2720\n",
      "Epoch 149/200\n",
      "59968/59968 [==============================] - 4s 69us/step - loss: 0.3181\n",
      "Epoch 150/200\n",
      "59968/59968 [==============================] - 4s 71us/step - loss: 0.2725\n",
      "Epoch 151/200\n",
      "59968/59968 [==============================] - 4s 70us/step - loss: 0.2827\n",
      "Epoch 152/200\n",
      "59968/59968 [==============================] - 4s 73us/step - loss: 0.2614\n",
      "Epoch 153/200\n",
      "59968/59968 [==============================] - 4s 73us/step - loss: 0.2609\n",
      "Epoch 154/200\n",
      "59968/59968 [==============================] - 4s 71us/step - loss: 0.2579\n",
      "Epoch 155/200\n",
      "59968/59968 [==============================] - 4s 71us/step - loss: 0.2619\n",
      "Epoch 156/200\n",
      "59968/59968 [==============================] - 4s 73us/step - loss: 0.2708\n",
      "Epoch 157/200\n",
      "59968/59968 [==============================] - 4s 69us/step - loss: 0.2673\n",
      "Epoch 158/200\n",
      "59968/59968 [==============================] - 4s 69us/step - loss: 0.2683\n",
      "Epoch 159/200\n",
      "59968/59968 [==============================] - 4s 71us/step - loss: 0.2830\n",
      "Epoch 160/200\n",
      "59968/59968 [==============================] - 4s 67us/step - loss: 0.2656\n",
      "Epoch 161/200\n",
      "59968/59968 [==============================] - 4s 70us/step - loss: 0.2580\n",
      "        |==>  acc: 0.5461,  nmi: 0.0034  <==|\n",
      "Epoch 162/200\n",
      "59968/59968 [==============================] - 5s 75us/step - loss: 0.2684\n",
      "Epoch 163/200\n",
      "59968/59968 [==============================] - 4s 71us/step - loss: 0.2631\n",
      "Epoch 164/200\n",
      "59968/59968 [==============================] - 4s 72us/step - loss: 0.2531\n",
      "Epoch 165/200\n",
      "59968/59968 [==============================] - 4s 70us/step - loss: 0.2543\n",
      "Epoch 166/200\n",
      "59968/59968 [==============================] - 4s 68us/step - loss: 0.2500\n",
      "Epoch 167/200\n",
      "59968/59968 [==============================] - 4s 69us/step - loss: 0.2536\n",
      "Epoch 168/200\n",
      "59968/59968 [==============================] - 4s 71us/step - loss: 0.2670\n",
      "Epoch 169/200\n",
      "59968/59968 [==============================] - 4s 68us/step - loss: 0.2686\n",
      "Epoch 170/200\n",
      "59968/59968 [==============================] - 4s 70us/step - loss: 0.2696\n",
      "Epoch 171/200\n",
      "59968/59968 [==============================] - 4s 72us/step - loss: 0.2698\n",
      "Epoch 172/200\n",
      "59968/59968 [==============================] - 4s 72us/step - loss: 0.2704\n",
      "Epoch 173/200\n",
      "59968/59968 [==============================] - 4s 71us/step - loss: 0.2741\n",
      "Epoch 174/200\n",
      "59968/59968 [==============================] - 4s 71us/step - loss: 0.2597\n",
      "Epoch 175/200\n",
      "59968/59968 [==============================] - 4s 72us/step - loss: 0.2594\n",
      "Epoch 176/200\n",
      "59968/59968 [==============================] - 4s 71us/step - loss: 0.2636\n",
      "Epoch 177/200\n",
      "59968/59968 [==============================] - 4s 69us/step - loss: 0.2537\n",
      "Epoch 178/200\n",
      "59968/59968 [==============================] - 4s 70us/step - loss: 0.2536\n",
      "Epoch 179/200\n",
      "59968/59968 [==============================] - 4s 73us/step - loss: 0.2939\n",
      "Epoch 180/200\n",
      "59968/59968 [==============================] - 4s 73us/step - loss: 0.2718\n",
      "Epoch 181/200\n"
     ]
    },
    {
     "name": "stdout",
     "output_type": "stream",
     "text": [
      "59968/59968 [==============================] - 4s 72us/step - loss: 0.2517\n",
      "        |==>  acc: 0.5464,  nmi: 0.0029  <==|\n",
      "Epoch 182/200\n",
      "59968/59968 [==============================] - 4s 74us/step - loss: 0.2548\n",
      "Epoch 183/200\n",
      "59968/59968 [==============================] - 4s 71us/step - loss: 0.2464\n",
      "Epoch 184/200\n",
      "59968/59968 [==============================] - 4s 73us/step - loss: 0.2496\n",
      "Epoch 185/200\n",
      "59968/59968 [==============================] - 4s 70us/step - loss: 0.2576\n",
      "Epoch 186/200\n",
      "59968/59968 [==============================] - 4s 71us/step - loss: 0.2724\n",
      "Epoch 187/200\n",
      "59968/59968 [==============================] - 4s 72us/step - loss: 0.2537\n",
      "Epoch 188/200\n",
      "59968/59968 [==============================] - 4s 71us/step - loss: 0.2550\n",
      "Epoch 189/200\n",
      "59968/59968 [==============================] - 4s 68us/step - loss: 0.2516\n",
      "Epoch 190/200\n",
      "59968/59968 [==============================] - 4s 71us/step - loss: 0.2560\n",
      "Epoch 191/200\n",
      "59968/59968 [==============================] - 4s 72us/step - loss: 0.2527\n",
      "Epoch 192/200\n",
      "59968/59968 [==============================] - 4s 75us/step - loss: 0.2510\n",
      "Epoch 193/200\n",
      "59968/59968 [==============================] - 4s 67us/step - loss: 0.2642\n",
      "Epoch 194/200\n",
      "59968/59968 [==============================] - 4s 68us/step - loss: 0.2556\n",
      "Epoch 195/200\n",
      "59968/59968 [==============================] - 4s 69us/step - loss: 0.2463\n",
      "Epoch 196/200\n",
      "59968/59968 [==============================] - 4s 72us/step - loss: 0.2563\n",
      "Epoch 197/200\n",
      "59968/59968 [==============================] - 4s 69us/step - loss: 0.2669\n",
      "Epoch 198/200\n",
      "59968/59968 [==============================] - 4s 66us/step - loss: 0.2542\n",
      "Epoch 199/200\n",
      "59968/59968 [==============================] - 4s 66us/step - loss: 0.2478\n",
      "Epoch 200/200\n",
      "59968/59968 [==============================] - 4s 68us/step - loss: 0.2518\n",
      "Pretraining time: 876s\n",
      "Pretrained weights are saved to results/temp/ae_weights.h5\n",
      "CPU times: user 13min 21s, sys: 2min 45s, total: 16min 6s\n",
      "Wall time: 14min 36s\n"
     ]
    }
   ],
   "source": [
    "%%time\n",
    "dec_model.pretrain(train_features, train_labels, epochs=200)"
   ]
  },
  {
   "cell_type": "code",
   "execution_count": 30,
   "metadata": {},
   "outputs": [
    {
     "name": "stdout",
     "output_type": "stream",
     "text": [
      "Update interval 140\n",
      "Save interval 9370\n",
      "Initializing cluster centers with k-means.\n",
      "Iter 0: acc = 0.54669, nmi = 0.00309, ari = -0.00539  ; loss= 0\n",
      "saving model to: ./results/temp/DEC_model_0.h5\n",
      "Iter 140: acc = 0.54834, nmi = 0.00023, ari = -0.00195  ; loss= 0.0146\n",
      "Iter 280: acc = 0.54466, nmi = 0.00006, ari = -0.00108  ; loss= 0.02081\n",
      "Iter 420: acc = 0.54192, nmi = 0.00001, ari = -0.00051  ; loss= 0.03349\n",
      "Iter 560: acc = 0.54087, nmi = 0.00001, ari = -0.00035  ; loss= 0.0234\n",
      "Iter 700: acc = 0.53602, nmi = 0.00004, ari = -0.00084  ; loss= 0.0269\n",
      "Iter 840: acc = 0.53529, nmi = 0.00002, ari = -0.00066  ; loss= 0.0177\n",
      "Iter 980: acc = 0.53487, nmi = 0.00011, ari = -0.00139  ; loss= 0.05771\n",
      "Iter 1120: acc = 0.53804, nmi = 0.00005, ari = -0.00099  ; loss= 0.04344\n",
      "Iter 1260: acc = 0.53228, nmi = 0.00020, ari = -0.00183  ; loss= 0.02283\n",
      "Iter 1400: acc = 0.53328, nmi = 0.00034, ari = -0.00238  ; loss= 0.03457\n",
      "Iter 1540: acc = 0.53167, nmi = 0.00030, ari = -0.00222  ; loss= 0.01724\n",
      "Iter 1680: acc = 0.53015, nmi = 0.00037, ari = -0.00240  ; loss= 0.06084\n",
      "Iter 1820: acc = 0.52935, nmi = 0.00022, ari = -0.00185  ; loss= 0.04118\n",
      "Iter 1960: acc = 0.52912, nmi = 0.00031, ari = -0.00216  ; loss= 0.01451\n",
      "Iter 2100: acc = 0.52968, nmi = 0.00019, ari = -0.00170  ; loss= 0.02615\n",
      "Iter 2240: acc = 0.53010, nmi = 0.00017, ari = -0.00165  ; loss= 0.02382\n",
      "Iter 2380: acc = 0.52952, nmi = 0.00015, ari = -0.00152  ; loss= 0.02052\n",
      "Iter 2520: acc = 0.53052, nmi = 0.00013, ari = -0.00142  ; loss= 0.01546\n",
      "Iter 2660: acc = 0.53057, nmi = 0.00015, ari = -0.00156  ; loss= 0.02531\n",
      "Iter 2800: acc = 0.52837, nmi = 0.00029, ari = -0.00208  ; loss= 0.02087\n",
      "Iter 2940: acc = 0.52801, nmi = 0.00030, ari = -0.00208  ; loss= 0.01983\n",
      "Iter 3080: acc = 0.52790, nmi = 0.00023, ari = -0.00182  ; loss= 0.01939\n",
      "Iter 3220: acc = 0.52526, nmi = 0.00025, ari = -0.00183  ; loss= 0.04379\n",
      "Iter 3360: acc = 0.52503, nmi = 0.00036, ari = -0.00216  ; loss= 0.07011\n",
      "Iter 3500: acc = 0.52368, nmi = 0.00039, ari = -0.00219  ; loss= 0.01121\n",
      "Iter 3640: acc = 0.52275, nmi = 0.00047, ari = -0.00237  ; loss= 0.01172\n",
      "Iter 3780: acc = 0.52271, nmi = 0.00054, ari = -0.00256  ; loss= 0.03225\n",
      "Iter 3920: acc = 0.52401, nmi = 0.00047, ari = -0.00244  ; loss= 0.01995\n",
      "Iter 4060: acc = 0.52325, nmi = 0.00052, ari = -0.00253  ; loss= 0.01314\n",
      "Iter 4200: acc = 0.52291, nmi = 0.00056, ari = -0.00260  ; loss= 0.05272\n",
      "Iter 4340: acc = 0.52068, nmi = 0.00060, ari = -0.00257  ; loss= 0.01604\n",
      "Iter 4480: acc = 0.52139, nmi = 0.00074, ari = -0.00291  ; loss= 0.01957\n",
      "Iter 4620: acc = 0.52118, nmi = 0.00071, ari = -0.00284  ; loss= 0.01559\n",
      "Iter 4760: acc = 0.52139, nmi = 0.00065, ari = -0.00272  ; loss= 0.02082\n",
      "Iter 4900: acc = 0.52149, nmi = 0.00040, ari = -0.00211  ; loss= 0.04149\n",
      "Iter 5040: acc = 0.52039, nmi = 0.00040, ari = -0.00205  ; loss= 0.01981\n",
      "Iter 5180: acc = 0.52033, nmi = 0.00022, ari = -0.00149  ; loss= 0.01405\n",
      "Iter 5320: acc = 0.52013, nmi = 0.00019, ari = -0.00138  ; loss= 0.00637\n",
      "Iter 5460: acc = 0.52023, nmi = 0.00019, ari = -0.00138  ; loss= 0.0184\n",
      "Iter 5600: acc = 0.52068, nmi = 0.00016, ari = -0.00127  ; loss= 0.01193\n",
      "Iter 5740: acc = 0.52024, nmi = 0.00016, ari = -0.00126  ; loss= 0.01529\n",
      "Iter 5880: acc = 0.52061, nmi = 0.00019, ari = -0.00140  ; loss= 0.01458\n",
      "Iter 6020: acc = 0.52123, nmi = 0.00012, ari = -0.00112  ; loss= 0.01759\n",
      "Iter 6160: acc = 0.52019, nmi = 0.00015, ari = -0.00120  ; loss= 0.01029\n",
      "Iter 6300: acc = 0.52064, nmi = 0.00011, ari = -0.00106  ; loss= 0.01694\n",
      "Iter 6440: acc = 0.52074, nmi = 0.00012, ari = -0.00108  ; loss= 0.01267\n",
      "Iter 6580: acc = 0.51949, nmi = 0.00015, ari = -0.00119  ; loss= 0.01922\n",
      "Iter 6720: acc = 0.51883, nmi = 0.00019, ari = -0.00129  ; loss= 0.01449\n",
      "Iter 6860: acc = 0.51844, nmi = 0.00015, ari = -0.00113  ; loss= 0.01112\n",
      "Iter 7000: acc = 0.51979, nmi = 0.00017, ari = -0.00128  ; loss= 0.02348\n",
      "Iter 7140: acc = 0.52053, nmi = 0.00012, ari = -0.00111  ; loss= 0.06101\n",
      "Iter 7280: acc = 0.52004, nmi = 0.00041, ari = -0.00206  ; loss= 0.11379\n",
      "Iter 7420: acc = 0.52046, nmi = 0.00036, ari = -0.00195  ; loss= 0.02192\n",
      "Iter 7560: acc = 0.52068, nmi = 0.00037, ari = -0.00199  ; loss= 0.01329\n",
      "Iter 7700: acc = 0.52408, nmi = 0.00037, ari = -0.00216  ; loss= 0.08653\n",
      "Iter 7840: acc = 0.52156, nmi = 0.00054, ari = -0.00249  ; loss= 0.00959\n",
      "Iter 7980: acc = 0.52136, nmi = 0.00054, ari = -0.00248  ; loss= 0.00976\n",
      "Iter 8120: acc = 0.52136, nmi = 0.00053, ari = -0.00245  ; loss= 0.01751\n",
      "Iter 8260: acc = 0.52101, nmi = 0.00060, ari = -0.00260  ; loss= 0.02033\n",
      "Iter 8400: acc = 0.52153, nmi = 0.00059, ari = -0.00260  ; loss= 0.09131\n",
      "Iter 8540: acc = 0.52093, nmi = 0.00064, ari = -0.00268  ; loss= 0.00795\n",
      "Iter 8680: acc = 0.52039, nmi = 0.00064, ari = -0.00265  ; loss= 0.00907\n",
      "Iter 8820: acc = 0.51833, nmi = 0.00052, ari = -0.00223  ; loss= 0.14328\n",
      "Iter 8960: acc = 0.51966, nmi = 0.00043, ari = -0.00210  ; loss= 0.00594\n",
      "Iter 9100: acc = 0.51993, nmi = 0.00034, ari = -0.00185  ; loss= 0.01258\n",
      "Iter 9240: acc = 0.51966, nmi = 0.00031, ari = -0.00174  ; loss= 0.02916\n",
      "saving model to: ./results/temp/DEC_model_9370.h5\n",
      "Iter 9380: acc = 0.51913, nmi = 0.00028, ari = -0.00164  ; loss= 0.0088\n",
      "Iter 9520: acc = 0.51913, nmi = 0.00029, ari = -0.00167  ; loss= 0.0129\n",
      "Iter 9660: acc = 0.52044, nmi = 0.00025, ari = -0.00160  ; loss= 0.01641\n",
      "Iter 9800: acc = 0.52011, nmi = 0.00024, ari = -0.00156  ; loss= 0.019\n",
      "Iter 9940: acc = 0.51883, nmi = 0.00021, ari = -0.00139  ; loss= 0.01259\n",
      "Iter 10080: acc = 0.51828, nmi = 0.00019, ari = -0.00128  ; loss= 0.01439\n",
      "Iter 10220: acc = 0.52014, nmi = 0.00020, ari = -0.00142  ; loss= 0.02675\n",
      "Iter 10360: acc = 0.51728, nmi = 0.00025, ari = -0.00143  ; loss= 0.03442\n",
      "Iter 10500: acc = 0.51674, nmi = 0.00027, ari = -0.00146  ; loss= 0.01056\n",
      "Iter 10640: acc = 0.51639, nmi = 0.00026, ari = -0.00143  ; loss= 0.00842\n",
      "Iter 10780: acc = 0.51619, nmi = 0.00026, ari = -0.00140  ; loss= 0.01479\n",
      "Iter 10920: acc = 0.51621, nmi = 0.00024, ari = -0.00136  ; loss= 0.00565\n",
      "Iter 11060: acc = 0.51516, nmi = 0.00033, ari = -0.00155  ; loss= 0.02897\n",
      "Iter 11200: acc = 0.51332, nmi = 0.00036, ari = -0.00150  ; loss= 0.00909\n",
      "Iter 11340: acc = 0.51342, nmi = 0.00036, ari = -0.00150  ; loss= 0.01568\n",
      "Iter 11480: acc = 0.51392, nmi = 0.00029, ari = -0.00138  ; loss= 0.00812\n",
      "Iter 11620: acc = 0.51307, nmi = 0.00029, ari = -0.00132  ; loss= 0.04131\n",
      "Iter 11760: acc = 0.51332, nmi = 0.00027, ari = -0.00129  ; loss= 0.00941\n",
      "Iter 11900: acc = 0.51291, nmi = 0.00022, ari = -0.00112  ; loss= 0.02344\n",
      "Iter 12040: acc = 0.51301, nmi = 0.00024, ari = -0.00117  ; loss= 0.01104\n",
      "Iter 12180: acc = 0.51279, nmi = 0.00027, ari = -0.00123  ; loss= 0.0055\n",
      "Iter 12320: acc = 0.51326, nmi = 0.00024, ari = -0.00120  ; loss= 0.00956\n",
      "Iter 12460: acc = 0.51346, nmi = 0.00022, ari = -0.00115  ; loss= 0.00858\n",
      "Iter 12600: acc = 0.51361, nmi = 0.00028, ari = -0.00132  ; loss= 0.01249\n",
      "Iter 12740: acc = 0.51316, nmi = 0.00018, ari = -0.00101  ; loss= 0.02178\n",
      "Iter 12880: acc = 0.51306, nmi = 0.00021, ari = -0.00110  ; loss= 0.01121\n",
      "Iter 13020: acc = 0.51334, nmi = 0.00021, ari = -0.00111  ; loss= 0.01363\n",
      "Iter 13160: acc = 0.51362, nmi = 0.00023, ari = -0.00119  ; loss= 0.00636\n",
      "Iter 13300: acc = 0.51376, nmi = 0.00022, ari = -0.00117  ; loss= 0.01203\n",
      "Iter 13440: acc = 0.51406, nmi = 0.00028, ari = -0.00135  ; loss= 0.03439\n",
      "Iter 13580: acc = 0.51467, nmi = 0.00024, ari = -0.00128  ; loss= 0.00933\n",
      "Iter 13720: acc = 0.51608, nmi = 0.00024, ari = -0.00134  ; loss= 0.06982\n",
      "Iter 13860: acc = 0.51491, nmi = 0.00023, ari = -0.00124  ; loss= 0.05251\n",
      "Iter 14000: acc = 0.51547, nmi = 0.00022, ari = -0.00124  ; loss= 0.00802\n",
      "Iter 14140: acc = 0.51661, nmi = 0.00026, ari = -0.00144  ; loss= 0.04422\n",
      "Iter 14280: acc = 0.51653, nmi = 0.00022, ari = -0.00129  ; loss= 0.00757\n",
      "Iter 14420: acc = 0.51649, nmi = 0.00021, ari = -0.00126  ; loss= 0.00598\n",
      "Iter 14560: acc = 0.51763, nmi = 0.00021, ari = -0.00132  ; loss= 0.02971\n",
      "Iter 14700: acc = 0.51766, nmi = 0.00020, ari = -0.00129  ; loss= 0.0057\n",
      "Iter 14840: acc = 0.51683, nmi = 0.00021, ari = -0.00127  ; loss= 0.02202\n",
      "Iter 14980: acc = 0.51651, nmi = 0.00023, ari = -0.00132  ; loss= 0.01114\n",
      "Iter 15120: acc = 0.51688, nmi = 0.00022, ari = -0.00131  ; loss= 0.00886\n",
      "Iter 15260: acc = 0.51664, nmi = 0.00024, ari = -0.00138  ; loss= 0.011\n"
     ]
    },
    {
     "name": "stdout",
     "output_type": "stream",
     "text": [
      "Iter 15400: acc = 0.51793, nmi = 0.00021, ari = -0.00133  ; loss= 0.00877\n",
      "Iter 15540: acc = 0.51798, nmi = 0.00020, ari = -0.00132  ; loss= 0.00845\n",
      "Iter 15680: acc = 0.51843, nmi = 0.00022, ari = -0.00138  ; loss= 0.01279\n",
      "Iter 15820: acc = 0.51868, nmi = 0.00020, ari = -0.00135  ; loss= 0.01911\n",
      "Iter 15960: acc = 0.51906, nmi = 0.00012, ari = -0.00102  ; loss= 0.01091\n",
      "Iter 16100: acc = 0.51941, nmi = 0.00011, ari = -0.00101  ; loss= 0.01102\n",
      "Iter 16240: acc = 0.51936, nmi = 0.00011, ari = -0.00099  ; loss= 0.01057\n",
      "Iter 16380: acc = 0.51869, nmi = 0.00011, ari = -0.00099  ; loss= 0.01429\n",
      "Iter 16520: acc = 0.51854, nmi = 0.00010, ari = -0.00094  ; loss= 0.00665\n",
      "Iter 16660: acc = 0.51858, nmi = 0.00013, ari = -0.00106  ; loss= 0.02049\n",
      "Iter 16800: acc = 0.51848, nmi = 0.00010, ari = -0.00092  ; loss= 0.00925\n",
      "Iter 16940: acc = 0.51816, nmi = 0.00011, ari = -0.00097  ; loss= 0.00889\n",
      "Iter 17080: acc = 0.51963, nmi = 0.00010, ari = -0.00094  ; loss= 0.01037\n",
      "Iter 17220: acc = 0.51893, nmi = 0.00010, ari = -0.00091  ; loss= 0.00829\n",
      "Iter 17360: acc = 0.51804, nmi = 0.00016, ari = -0.00115  ; loss= 0.00881\n",
      "Iter 17500: acc = 0.51768, nmi = 0.00011, ari = -0.00096  ; loss= 0.02108\n",
      "Iter 17640: acc = 0.51768, nmi = 0.00013, ari = -0.00102  ; loss= 0.00914\n",
      "Iter 17780: acc = 0.51761, nmi = 0.00014, ari = -0.00108  ; loss= 0.00897\n",
      "Iter 17920: acc = 0.51786, nmi = 0.00012, ari = -0.00099  ; loss= 0.00598\n",
      "Iter 18060: acc = 0.51743, nmi = 0.00013, ari = -0.00102  ; loss= 0.00933\n",
      "Iter 18200: acc = 0.51793, nmi = 0.00011, ari = -0.00093  ; loss= 0.01365\n",
      "Iter 18340: acc = 0.51781, nmi = 0.00011, ari = -0.00096  ; loss= 0.02325\n",
      "Iter 18480: acc = 0.51748, nmi = 0.00014, ari = -0.00107  ; loss= 0.00623\n",
      "Iter 18620: acc = 0.51789, nmi = 0.00011, ari = -0.00095  ; loss= 0.04062\n",
      "saving model to: ./results/temp/DEC_model_18740.h5\n",
      "Iter 18760: acc = 0.51838, nmi = 0.00008, ari = -0.00081  ; loss= 0.01209\n",
      "Iter 18900: acc = 0.51813, nmi = 0.00011, ari = -0.00093  ; loss= 0.00653\n",
      "Iter 19040: acc = 0.51806, nmi = 0.00005, ari = -0.00062  ; loss= 0.2119\n",
      "Iter 19180: acc = 0.51901, nmi = 0.00003, ari = -0.00053  ; loss= 0.00887\n",
      "Iter 19320: acc = 0.51908, nmi = 0.00004, ari = -0.00056  ; loss= 0.00916\n",
      "Iter 19460: acc = 0.51914, nmi = 0.00003, ari = -0.00050  ; loss= 0.00829\n",
      "Iter 19600: acc = 0.51871, nmi = 0.00004, ari = -0.00055  ; loss= 0.00444\n",
      "Iter 19740: acc = 0.51861, nmi = 0.00004, ari = -0.00054  ; loss= 0.00705\n",
      "Iter 19880: acc = 0.51869, nmi = 0.00005, ari = -0.00065  ; loss= 0.03862\n",
      "saving model to: ./results/temp/DEC_model_final.h5\n",
      "acc: 0.518693303094984\n",
      "CPU times: user 10min 56s, sys: 2min 5s, total: 13min 2s\n",
      "Wall time: 9min 34s\n"
     ]
    }
   ],
   "source": [
    "%%time\n",
    "dec_model.compile(optimizer=SGD(0.01, 0.9), loss='kld')\n",
    "y_pred = dec_model.fit(train_features, y=train_labels, batch_size=32)\n",
    "print('acc:', metrics.acc(train_labels, y_pred))"
   ]
  },
  {
   "cell_type": "markdown",
   "metadata": {},
   "source": [
    "### Visualization of the features extracted by the DEC model"
   ]
  },
  {
   "cell_type": "markdown",
   "metadata": {},
   "source": [
    "#### Clustering Output Features"
   ]
  },
  {
   "cell_type": "code",
   "execution_count": 31,
   "metadata": {},
   "outputs": [
    {
     "data": {
      "image/png": "[encoded data removed]",
      "text/plain": [
       "<Figure size 432x288 with 1 Axes>"
      ]
     },
     "metadata": {},
     "output_type": "display_data"
    }
   ],
   "source": [
    "dec_whole_model_pred = dec_model.model.predict(train_features)\n",
    "plt.scatter(dec_whole_model_pred[:, 0], dec_whole_model_pred[:, 1], c=train_labels)\n",
    "plt.savefig(f'../data/figs/clustering_features.png')"
   ]
  },
  {
   "cell_type": "markdown",
   "metadata": {},
   "source": [
    "#### Encoder Output Features"
   ]
  },
  {
   "cell_type": "code",
   "execution_count": 32,
   "metadata": {},
   "outputs": [
    {
     "name": "stdout",
     "output_type": "stream",
     "text": [
      "CPU times: user 6.45 s, sys: 1.26 s, total: 7.71 s\n",
      "Wall time: 5.81 s\n"
     ]
    },
    {
     "data": {
      "image/png": "[encoded data removed]",
      "text/plain": [
       "<Figure size 432x288 with 1 Axes>"
      ]
     },
     "metadata": {},
     "output_type": "display_data"
    }
   ],
   "source": [
    "%%time\n",
    "dec_encoder_model_pred = dec_model.encoder.predict(train_features)\n",
    "from sklearn.decomposition import PCA\n",
    "pca_mod = PCA(2)\n",
    "reduced_features = pca_mod.fit_transform(dec_encoder_model_pred)\n",
    "plt.scatter(reduced_features[:, 0], reduced_features[:, 1], c=train_labels)\n",
    "plt.savefig(f'../data/figs/encoding_pca_features.png')"
   ]
  }
 ],
 "metadata": {
  "kernelspec": {
   "display_name": "Environment (conda_tensorflow_p36)",
   "language": "python",
   "name": "conda_tensorflow_p36"
  },
  "language_info": {
   "codemirror_mode": {
    "name": "ipython",
    "version": 3
   },
   "file_extension": ".py",
   "mimetype": "text/x-python",
   "name": "python",
   "nbconvert_exporter": "python",
   "pygments_lexer": "ipython3",
   "version": "3.6.5"
  }
 },
 "nbformat": 4,
 "nbformat_minor": 2
}
