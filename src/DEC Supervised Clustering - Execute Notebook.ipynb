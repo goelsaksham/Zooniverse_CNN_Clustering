{
 "cells": [
  {
   "cell_type": "markdown",
   "metadata": {},
   "source": [
    "# DEC Supervised Clustering\n",
    "\n",
    "This notebook focuses on using some kind of supervision for helping the clustering. This includes different techniques that we discussed with Dr. Ece Kamar from Microsoft during her visit to UMN. The different techniques include: \n",
    "    1. Initializing cluster centers based on highly confident galaxy images\n",
    "        a. Run K-Means on encoded features learned from autoencoder for top 10-20 high confident images of each class and check whether K-Means is able to successfully cluster the features into two different cluster with high purity\n",
    "        b. Analyze the PCA plot of the encoded features learned from autoencoder for top 10-20 high confident images of each class for visible distinct cluster\n",
    "    2. Providing some kind of feedback on how good/bad clustering was in the previous iteration\n",
    "        a. Not sure?\n",
    "\n",
    "Some other techniques that we are also trying to include and analyse are:\n",
    "    3. Clustering over a quadrant of the image to try to get rid of the worm shape PCA plot\n",
    "        a. Input images are crops of the original images but of the top left quadrant\n",
    "    4. Using different clustering techniques which include denisty and heirarchical clustering\n",
    "        a. DBSCAN\n",
    "        b. Agglomerative Clustering\n",
    "        c. Heirarchical Clustering\n",
    "        d. Spectral Clustering\n",
    "        \n",
    "        refer to the webpage: https://scikit-learn.org/stable/modules/clustering.html"
   ]
  },
  {
   "cell_type": "markdown",
   "metadata": {},
   "source": [
    "## K-Means Cluster Initialization"
   ]
  },
  {
   "cell_type": "markdown",
   "metadata": {},
   "source": [
    "### Importing required Libaries\n",
    "\n",
    "Importing the required libraries and modules so that they can be used in the notebook"
   ]
  },
  {
   "cell_type": "code",
   "execution_count": 1,
   "metadata": {},
   "outputs": [
    {
     "name": "stderr",
     "output_type": "stream",
     "text": [
      "Using TensorFlow backend.\n"
     ]
    }
   ],
   "source": [
    "import tensorflow as tf\n",
    "import keras.backend as K\n",
    "import numpy as np\n",
    "import pandas as pd\n",
    "# loading the requirements for the Xception model\n",
    "from keras.applications.xception import Xception\n",
    "from keras.applications.xception import absolute_import, decode_predictions, preprocess_input\n",
    "from keras.layers import Flatten, Dense, GlobalAveragePooling2D\n",
    "from keras.preprocessing.image import ImageDataGenerator\n",
    "# Loading the DEC module cloned from github\n",
    "from DEC.model import *\n",
    "from DEC.metrics import *\n",
    "from xception_dec_datagenerator import XceptionDataGenerator\n",
    "# Importing the utilities\n",
    "from utils.file_utils import *\n",
    "from PIL import Image\n",
    "# Using scikit-image  resize function for resizing the image from original size to 224 X 224\n",
    "from skimage.transform import resize\n",
    "# Train Test split from sklearn\n",
    "from sklearn.model_selection import train_test_split\n",
    "from sklearn.preprocessing import MinMaxScaler, StandardScaler\n",
    "from sklearn.decomposition import PCA\n",
    "from shutil import copy2\n",
    "# For visualization of images and for plotting\n",
    "import matplotlib.pyplot as plt\n",
    "%matplotlib inline\n",
    "import seaborn as sns\n",
    "sns.set()"
   ]
  },
  {
   "cell_type": "code",
   "execution_count": 2,
   "metadata": {},
   "outputs": [],
   "source": [
    "import warnings\n",
    "warnings.filterwarnings('ignore')"
   ]
  },
  {
   "cell_type": "markdown",
   "metadata": {},
   "source": [
    "### Xception Model\n",
    "\n",
    "First we load the Xception model into the computer memory using the Keras library. Because we are focusing on extracting features from the model we do not include the topmost layer. However we do use the imagenet weights for the model. Also because we want a 1-D vector form of the features we do use the pooling layer at the end."
   ]
  },
  {
   "cell_type": "code",
   "execution_count": 3,
   "metadata": {},
   "outputs": [
    {
     "name": "stdout",
     "output_type": "stream",
     "text": [
      "__________________________________________________________________________________________________\n",
      "Layer (type)                    Output Shape         Param #     Connected to                     \n",
      "==================================================================================================\n",
      "input_1 (InputLayer)            (None, 150, 150, 3)  0                                            \n",
      "__________________________________________________________________________________________________\n",
      "block1_conv1 (Conv2D)           (None, 74, 74, 32)   864         input_1[0][0]                    \n",
      "__________________________________________________________________________________________________\n",
      "block1_conv1_bn (BatchNormaliza (None, 74, 74, 32)   128         block1_conv1[0][0]               \n",
      "__________________________________________________________________________________________________\n",
      "block1_conv1_act (Activation)   (None, 74, 74, 32)   0           block1_conv1_bn[0][0]            \n",
      "__________________________________________________________________________________________________\n",
      "block1_conv2 (Conv2D)           (None, 72, 72, 64)   18432       block1_conv1_act[0][0]           \n",
      "__________________________________________________________________________________________________\n",
      "block1_conv2_bn (BatchNormaliza (None, 72, 72, 64)   256         block1_conv2[0][0]               \n",
      "__________________________________________________________________________________________________\n",
      "block1_conv2_act (Activation)   (None, 72, 72, 64)   0           block1_conv2_bn[0][0]            \n",
      "__________________________________________________________________________________________________\n",
      "block2_sepconv1 (SeparableConv2 (None, 72, 72, 128)  8768        block1_conv2_act[0][0]           \n",
      "__________________________________________________________________________________________________\n",
      "block2_sepconv1_bn (BatchNormal (None, 72, 72, 128)  512         block2_sepconv1[0][0]            \n",
      "__________________________________________________________________________________________________\n",
      "block2_sepconv2_act (Activation (None, 72, 72, 128)  0           block2_sepconv1_bn[0][0]         \n",
      "__________________________________________________________________________________________________\n",
      "block2_sepconv2 (SeparableConv2 (None, 72, 72, 128)  17536       block2_sepconv2_act[0][0]        \n",
      "__________________________________________________________________________________________________\n",
      "block2_sepconv2_bn (BatchNormal (None, 72, 72, 128)  512         block2_sepconv2[0][0]            \n",
      "__________________________________________________________________________________________________\n",
      "conv2d_1 (Conv2D)               (None, 36, 36, 128)  8192        block1_conv2_act[0][0]           \n",
      "__________________________________________________________________________________________________\n",
      "block2_pool (MaxPooling2D)      (None, 36, 36, 128)  0           block2_sepconv2_bn[0][0]         \n",
      "__________________________________________________________________________________________________\n",
      "batch_normalization_1 (BatchNor (None, 36, 36, 128)  512         conv2d_1[0][0]                   \n",
      "__________________________________________________________________________________________________\n",
      "add_1 (Add)                     (None, 36, 36, 128)  0           block2_pool[0][0]                \n",
      "                                                                 batch_normalization_1[0][0]      \n",
      "__________________________________________________________________________________________________\n",
      "block3_sepconv1_act (Activation (None, 36, 36, 128)  0           add_1[0][0]                      \n",
      "__________________________________________________________________________________________________\n",
      "block3_sepconv1 (SeparableConv2 (None, 36, 36, 256)  33920       block3_sepconv1_act[0][0]        \n",
      "__________________________________________________________________________________________________\n",
      "block3_sepconv1_bn (BatchNormal (None, 36, 36, 256)  1024        block3_sepconv1[0][0]            \n",
      "__________________________________________________________________________________________________\n",
      "block3_sepconv2_act (Activation (None, 36, 36, 256)  0           block3_sepconv1_bn[0][0]         \n",
      "__________________________________________________________________________________________________\n",
      "block3_sepconv2 (SeparableConv2 (None, 36, 36, 256)  67840       block3_sepconv2_act[0][0]        \n",
      "__________________________________________________________________________________________________\n",
      "block3_sepconv2_bn (BatchNormal (None, 36, 36, 256)  1024        block3_sepconv2[0][0]            \n",
      "__________________________________________________________________________________________________\n",
      "conv2d_2 (Conv2D)               (None, 18, 18, 256)  32768       add_1[0][0]                      \n",
      "__________________________________________________________________________________________________\n",
      "block3_pool (MaxPooling2D)      (None, 18, 18, 256)  0           block3_sepconv2_bn[0][0]         \n",
      "__________________________________________________________________________________________________\n",
      "batch_normalization_2 (BatchNor (None, 18, 18, 256)  1024        conv2d_2[0][0]                   \n",
      "__________________________________________________________________________________________________\n",
      "add_2 (Add)                     (None, 18, 18, 256)  0           block3_pool[0][0]                \n",
      "                                                                 batch_normalization_2[0][0]      \n",
      "__________________________________________________________________________________________________\n",
      "block4_sepconv1_act (Activation (None, 18, 18, 256)  0           add_2[0][0]                      \n",
      "__________________________________________________________________________________________________\n",
      "block4_sepconv1 (SeparableConv2 (None, 18, 18, 728)  188672      block4_sepconv1_act[0][0]        \n",
      "__________________________________________________________________________________________________\n",
      "block4_sepconv1_bn (BatchNormal (None, 18, 18, 728)  2912        block4_sepconv1[0][0]            \n",
      "__________________________________________________________________________________________________\n",
      "block4_sepconv2_act (Activation (None, 18, 18, 728)  0           block4_sepconv1_bn[0][0]         \n",
      "__________________________________________________________________________________________________\n",
      "block4_sepconv2 (SeparableConv2 (None, 18, 18, 728)  536536      block4_sepconv2_act[0][0]        \n",
      "__________________________________________________________________________________________________\n",
      "block4_sepconv2_bn (BatchNormal (None, 18, 18, 728)  2912        block4_sepconv2[0][0]            \n",
      "__________________________________________________________________________________________________\n",
      "conv2d_3 (Conv2D)               (None, 9, 9, 728)    186368      add_2[0][0]                      \n",
      "__________________________________________________________________________________________________\n",
      "block4_pool (MaxPooling2D)      (None, 9, 9, 728)    0           block4_sepconv2_bn[0][0]         \n",
      "__________________________________________________________________________________________________\n",
      "batch_normalization_3 (BatchNor (None, 9, 9, 728)    2912        conv2d_3[0][0]                   \n",
      "__________________________________________________________________________________________________\n",
      "add_3 (Add)                     (None, 9, 9, 728)    0           block4_pool[0][0]                \n",
      "                                                                 batch_normalization_3[0][0]      \n",
      "__________________________________________________________________________________________________\n",
      "block5_sepconv1_act (Activation (None, 9, 9, 728)    0           add_3[0][0]                      \n",
      "__________________________________________________________________________________________________\n",
      "block5_sepconv1 (SeparableConv2 (None, 9, 9, 728)    536536      block5_sepconv1_act[0][0]        \n",
      "__________________________________________________________________________________________________\n",
      "block5_sepconv1_bn (BatchNormal (None, 9, 9, 728)    2912        block5_sepconv1[0][0]            \n",
      "__________________________________________________________________________________________________\n",
      "block5_sepconv2_act (Activation (None, 9, 9, 728)    0           block5_sepconv1_bn[0][0]         \n",
      "__________________________________________________________________________________________________\n",
      "block5_sepconv2 (SeparableConv2 (None, 9, 9, 728)    536536      block5_sepconv2_act[0][0]        \n",
      "__________________________________________________________________________________________________\n",
      "block5_sepconv2_bn (BatchNormal (None, 9, 9, 728)    2912        block5_sepconv2[0][0]            \n",
      "__________________________________________________________________________________________________\n",
      "block5_sepconv3_act (Activation (None, 9, 9, 728)    0           block5_sepconv2_bn[0][0]         \n",
      "__________________________________________________________________________________________________\n",
      "block5_sepconv3 (SeparableConv2 (None, 9, 9, 728)    536536      block5_sepconv3_act[0][0]        \n",
      "__________________________________________________________________________________________________\n",
      "block5_sepconv3_bn (BatchNormal (None, 9, 9, 728)    2912        block5_sepconv3[0][0]            \n",
      "__________________________________________________________________________________________________\n",
      "add_4 (Add)                     (None, 9, 9, 728)    0           block5_sepconv3_bn[0][0]         \n",
      "                                                                 add_3[0][0]                      \n",
      "__________________________________________________________________________________________________\n",
      "block6_sepconv1_act (Activation (None, 9, 9, 728)    0           add_4[0][0]                      \n",
      "__________________________________________________________________________________________________\n",
      "block6_sepconv1 (SeparableConv2 (None, 9, 9, 728)    536536      block6_sepconv1_act[0][0]        \n",
      "__________________________________________________________________________________________________\n",
      "block6_sepconv1_bn (BatchNormal (None, 9, 9, 728)    2912        block6_sepconv1[0][0]            \n",
      "__________________________________________________________________________________________________\n",
      "block6_sepconv2_act (Activation (None, 9, 9, 728)    0           block6_sepconv1_bn[0][0]         \n",
      "__________________________________________________________________________________________________\n",
      "block6_sepconv2 (SeparableConv2 (None, 9, 9, 728)    536536      block6_sepconv2_act[0][0]        \n",
      "__________________________________________________________________________________________________\n",
      "block6_sepconv2_bn (BatchNormal (None, 9, 9, 728)    2912        block6_sepconv2[0][0]            \n",
      "__________________________________________________________________________________________________\n",
      "block6_sepconv3_act (Activation (None, 9, 9, 728)    0           block6_sepconv2_bn[0][0]         \n",
      "__________________________________________________________________________________________________\n",
      "block6_sepconv3 (SeparableConv2 (None, 9, 9, 728)    536536      block6_sepconv3_act[0][0]        \n",
      "__________________________________________________________________________________________________\n",
      "block6_sepconv3_bn (BatchNormal (None, 9, 9, 728)    2912        block6_sepconv3[0][0]            \n",
      "__________________________________________________________________________________________________\n",
      "add_5 (Add)                     (None, 9, 9, 728)    0           block6_sepconv3_bn[0][0]         \n",
      "                                                                 add_4[0][0]                      \n",
      "__________________________________________________________________________________________________\n",
      "block7_sepconv1_act (Activation (None, 9, 9, 728)    0           add_5[0][0]                      \n",
      "__________________________________________________________________________________________________\n",
      "block7_sepconv1 (SeparableConv2 (None, 9, 9, 728)    536536      block7_sepconv1_act[0][0]        \n",
      "__________________________________________________________________________________________________\n",
      "block7_sepconv1_bn (BatchNormal (None, 9, 9, 728)    2912        block7_sepconv1[0][0]            \n",
      "__________________________________________________________________________________________________\n",
      "block7_sepconv2_act (Activation (None, 9, 9, 728)    0           block7_sepconv1_bn[0][0]         \n",
      "__________________________________________________________________________________________________\n",
      "block7_sepconv2 (SeparableConv2 (None, 9, 9, 728)    536536      block7_sepconv2_act[0][0]        \n",
      "__________________________________________________________________________________________________\n",
      "block7_sepconv2_bn (BatchNormal (None, 9, 9, 728)    2912        block7_sepconv2[0][0]            \n",
      "__________________________________________________________________________________________________\n",
      "block7_sepconv3_act (Activation (None, 9, 9, 728)    0           block7_sepconv2_bn[0][0]         \n",
      "__________________________________________________________________________________________________\n",
      "block7_sepconv3 (SeparableConv2 (None, 9, 9, 728)    536536      block7_sepconv3_act[0][0]        \n",
      "__________________________________________________________________________________________________\n",
      "block7_sepconv3_bn (BatchNormal (None, 9, 9, 728)    2912        block7_sepconv3[0][0]            \n",
      "__________________________________________________________________________________________________\n",
      "add_6 (Add)                     (None, 9, 9, 728)    0           block7_sepconv3_bn[0][0]         \n",
      "                                                                 add_5[0][0]                      \n",
      "__________________________________________________________________________________________________\n",
      "block8_sepconv1_act (Activation (None, 9, 9, 728)    0           add_6[0][0]                      \n",
      "__________________________________________________________________________________________________\n",
      "block8_sepconv1 (SeparableConv2 (None, 9, 9, 728)    536536      block8_sepconv1_act[0][0]        \n",
      "__________________________________________________________________________________________________\n",
      "block8_sepconv1_bn (BatchNormal (None, 9, 9, 728)    2912        block8_sepconv1[0][0]            \n",
      "__________________________________________________________________________________________________\n",
      "block8_sepconv2_act (Activation (None, 9, 9, 728)    0           block8_sepconv1_bn[0][0]         \n",
      "__________________________________________________________________________________________________\n",
      "block8_sepconv2 (SeparableConv2 (None, 9, 9, 728)    536536      block8_sepconv2_act[0][0]        \n",
      "__________________________________________________________________________________________________\n",
      "block8_sepconv2_bn (BatchNormal (None, 9, 9, 728)    2912        block8_sepconv2[0][0]            \n",
      "__________________________________________________________________________________________________\n",
      "block8_sepconv3_act (Activation (None, 9, 9, 728)    0           block8_sepconv2_bn[0][0]         \n",
      "__________________________________________________________________________________________________\n",
      "block8_sepconv3 (SeparableConv2 (None, 9, 9, 728)    536536      block8_sepconv3_act[0][0]        \n",
      "__________________________________________________________________________________________________\n",
      "block8_sepconv3_bn (BatchNormal (None, 9, 9, 728)    2912        block8_sepconv3[0][0]            \n",
      "__________________________________________________________________________________________________\n",
      "add_7 (Add)                     (None, 9, 9, 728)    0           block8_sepconv3_bn[0][0]         \n",
      "                                                                 add_6[0][0]                      \n",
      "__________________________________________________________________________________________________\n",
      "block9_sepconv1_act (Activation (None, 9, 9, 728)    0           add_7[0][0]                      \n",
      "__________________________________________________________________________________________________\n",
      "block9_sepconv1 (SeparableConv2 (None, 9, 9, 728)    536536      block9_sepconv1_act[0][0]        \n",
      "__________________________________________________________________________________________________\n",
      "block9_sepconv1_bn (BatchNormal (None, 9, 9, 728)    2912        block9_sepconv1[0][0]            \n",
      "__________________________________________________________________________________________________\n",
      "block9_sepconv2_act (Activation (None, 9, 9, 728)    0           block9_sepconv1_bn[0][0]         \n",
      "__________________________________________________________________________________________________\n",
      "block9_sepconv2 (SeparableConv2 (None, 9, 9, 728)    536536      block9_sepconv2_act[0][0]        \n",
      "__________________________________________________________________________________________________\n",
      "block9_sepconv2_bn (BatchNormal (None, 9, 9, 728)    2912        block9_sepconv2[0][0]            \n",
      "__________________________________________________________________________________________________\n",
      "block9_sepconv3_act (Activation (None, 9, 9, 728)    0           block9_sepconv2_bn[0][0]         \n",
      "__________________________________________________________________________________________________\n",
      "block9_sepconv3 (SeparableConv2 (None, 9, 9, 728)    536536      block9_sepconv3_act[0][0]        \n",
      "__________________________________________________________________________________________________\n",
      "block9_sepconv3_bn (BatchNormal (None, 9, 9, 728)    2912        block9_sepconv3[0][0]            \n",
      "__________________________________________________________________________________________________\n",
      "add_8 (Add)                     (None, 9, 9, 728)    0           block9_sepconv3_bn[0][0]         \n",
      "                                                                 add_7[0][0]                      \n",
      "__________________________________________________________________________________________________\n",
      "block10_sepconv1_act (Activatio (None, 9, 9, 728)    0           add_8[0][0]                      \n",
      "__________________________________________________________________________________________________\n",
      "block10_sepconv1 (SeparableConv (None, 9, 9, 728)    536536      block10_sepconv1_act[0][0]       \n",
      "__________________________________________________________________________________________________\n",
      "block10_sepconv1_bn (BatchNorma (None, 9, 9, 728)    2912        block10_sepconv1[0][0]           \n",
      "__________________________________________________________________________________________________\n",
      "block10_sepconv2_act (Activatio (None, 9, 9, 728)    0           block10_sepconv1_bn[0][0]        \n",
      "__________________________________________________________________________________________________\n",
      "block10_sepconv2 (SeparableConv (None, 9, 9, 728)    536536      block10_sepconv2_act[0][0]       \n",
      "__________________________________________________________________________________________________\n",
      "block10_sepconv2_bn (BatchNorma (None, 9, 9, 728)    2912        block10_sepconv2[0][0]           \n",
      "__________________________________________________________________________________________________\n",
      "block10_sepconv3_act (Activatio (None, 9, 9, 728)    0           block10_sepconv2_bn[0][0]        \n",
      "__________________________________________________________________________________________________\n",
      "block10_sepconv3 (SeparableConv (None, 9, 9, 728)    536536      block10_sepconv3_act[0][0]       \n",
      "__________________________________________________________________________________________________\n",
      "block10_sepconv3_bn (BatchNorma (None, 9, 9, 728)    2912        block10_sepconv3[0][0]           \n",
      "__________________________________________________________________________________________________\n",
      "add_9 (Add)                     (None, 9, 9, 728)    0           block10_sepconv3_bn[0][0]        \n",
      "                                                                 add_8[0][0]                      \n",
      "__________________________________________________________________________________________________\n",
      "block11_sepconv1_act (Activatio (None, 9, 9, 728)    0           add_9[0][0]                      \n",
      "__________________________________________________________________________________________________\n",
      "block11_sepconv1 (SeparableConv (None, 9, 9, 728)    536536      block11_sepconv1_act[0][0]       \n",
      "__________________________________________________________________________________________________\n",
      "block11_sepconv1_bn (BatchNorma (None, 9, 9, 728)    2912        block11_sepconv1[0][0]           \n",
      "__________________________________________________________________________________________________\n",
      "block11_sepconv2_act (Activatio (None, 9, 9, 728)    0           block11_sepconv1_bn[0][0]        \n",
      "__________________________________________________________________________________________________\n",
      "block11_sepconv2 (SeparableConv (None, 9, 9, 728)    536536      block11_sepconv2_act[0][0]       \n",
      "__________________________________________________________________________________________________\n",
      "block11_sepconv2_bn (BatchNorma (None, 9, 9, 728)    2912        block11_sepconv2[0][0]           \n",
      "__________________________________________________________________________________________________\n",
      "block11_sepconv3_act (Activatio (None, 9, 9, 728)    0           block11_sepconv2_bn[0][0]        \n",
      "__________________________________________________________________________________________________\n",
      "block11_sepconv3 (SeparableConv (None, 9, 9, 728)    536536      block11_sepconv3_act[0][0]       \n",
      "__________________________________________________________________________________________________\n",
      "block11_sepconv3_bn (BatchNorma (None, 9, 9, 728)    2912        block11_sepconv3[0][0]           \n",
      "__________________________________________________________________________________________________\n",
      "add_10 (Add)                    (None, 9, 9, 728)    0           block11_sepconv3_bn[0][0]        \n",
      "                                                                 add_9[0][0]                      \n",
      "__________________________________________________________________________________________________\n",
      "block12_sepconv1_act (Activatio (None, 9, 9, 728)    0           add_10[0][0]                     \n",
      "__________________________________________________________________________________________________\n",
      "block12_sepconv1 (SeparableConv (None, 9, 9, 728)    536536      block12_sepconv1_act[0][0]       \n",
      "__________________________________________________________________________________________________\n",
      "block12_sepconv1_bn (BatchNorma (None, 9, 9, 728)    2912        block12_sepconv1[0][0]           \n",
      "__________________________________________________________________________________________________\n",
      "block12_sepconv2_act (Activatio (None, 9, 9, 728)    0           block12_sepconv1_bn[0][0]        \n",
      "__________________________________________________________________________________________________\n",
      "block12_sepconv2 (SeparableConv (None, 9, 9, 728)    536536      block12_sepconv2_act[0][0]       \n",
      "__________________________________________________________________________________________________\n",
      "block12_sepconv2_bn (BatchNorma (None, 9, 9, 728)    2912        block12_sepconv2[0][0]           \n",
      "__________________________________________________________________________________________________\n",
      "block12_sepconv3_act (Activatio (None, 9, 9, 728)    0           block12_sepconv2_bn[0][0]        \n",
      "__________________________________________________________________________________________________\n",
      "block12_sepconv3 (SeparableConv (None, 9, 9, 728)    536536      block12_sepconv3_act[0][0]       \n",
      "__________________________________________________________________________________________________\n",
      "block12_sepconv3_bn (BatchNorma (None, 9, 9, 728)    2912        block12_sepconv3[0][0]           \n",
      "__________________________________________________________________________________________________\n",
      "add_11 (Add)                    (None, 9, 9, 728)    0           block12_sepconv3_bn[0][0]        \n",
      "                                                                 add_10[0][0]                     \n",
      "__________________________________________________________________________________________________\n",
      "block13_sepconv1_act (Activatio (None, 9, 9, 728)    0           add_11[0][0]                     \n",
      "__________________________________________________________________________________________________\n",
      "block13_sepconv1 (SeparableConv (None, 9, 9, 728)    536536      block13_sepconv1_act[0][0]       \n",
      "__________________________________________________________________________________________________\n",
      "block13_sepconv1_bn (BatchNorma (None, 9, 9, 728)    2912        block13_sepconv1[0][0]           \n",
      "__________________________________________________________________________________________________\n",
      "block13_sepconv2_act (Activatio (None, 9, 9, 728)    0           block13_sepconv1_bn[0][0]        \n",
      "__________________________________________________________________________________________________\n",
      "block13_sepconv2 (SeparableConv (None, 9, 9, 1024)   752024      block13_sepconv2_act[0][0]       \n",
      "__________________________________________________________________________________________________\n",
      "block13_sepconv2_bn (BatchNorma (None, 9, 9, 1024)   4096        block13_sepconv2[0][0]           \n",
      "__________________________________________________________________________________________________\n",
      "conv2d_4 (Conv2D)               (None, 5, 5, 1024)   745472      add_11[0][0]                     \n",
      "__________________________________________________________________________________________________\n",
      "block13_pool (MaxPooling2D)     (None, 5, 5, 1024)   0           block13_sepconv2_bn[0][0]        \n",
      "__________________________________________________________________________________________________\n",
      "batch_normalization_4 (BatchNor (None, 5, 5, 1024)   4096        conv2d_4[0][0]                   \n",
      "__________________________________________________________________________________________________\n",
      "add_12 (Add)                    (None, 5, 5, 1024)   0           block13_pool[0][0]               \n",
      "                                                                 batch_normalization_4[0][0]      \n",
      "__________________________________________________________________________________________________\n",
      "block14_sepconv1 (SeparableConv (None, 5, 5, 1536)   1582080     add_12[0][0]                     \n",
      "__________________________________________________________________________________________________\n",
      "block14_sepconv1_bn (BatchNorma (None, 5, 5, 1536)   6144        block14_sepconv1[0][0]           \n",
      "__________________________________________________________________________________________________\n",
      "block14_sepconv1_act (Activatio (None, 5, 5, 1536)   0           block14_sepconv1_bn[0][0]        \n",
      "__________________________________________________________________________________________________\n",
      "block14_sepconv2 (SeparableConv (None, 5, 5, 2048)   3159552     block14_sepconv1_act[0][0]       \n",
      "__________________________________________________________________________________________________\n",
      "block14_sepconv2_bn (BatchNorma (None, 5, 5, 2048)   8192        block14_sepconv2[0][0]           \n",
      "__________________________________________________________________________________________________\n",
      "block14_sepconv2_act (Activatio (None, 5, 5, 2048)   0           block14_sepconv2_bn[0][0]        \n",
      "__________________________________________________________________________________________________\n",
      "global_average_pooling2d_1 (Glo (None, 2048)         0           block14_sepconv2_act[0][0]       \n",
      "==================================================================================================\n",
      "Total params: 20,861,480\n",
      "Trainable params: 20,806,952\n",
      "Non-trainable params: 54,528\n",
      "__________________________________________________________________________________________________\n"
     ]
    }
   ],
   "source": [
    "input_tensor_shape = (150, 150, 3)\n",
    "base_xception_model = Xception(weights = 'imagenet', input_shape = input_tensor_shape, include_top = False, pooling='avg')\n",
    "base_xception_model.summary()"
   ]
  },
  {
   "cell_type": "markdown",
   "metadata": {},
   "source": [
    "The input shape of our base xception model is: 150 X 150 X 3. That is a 3 channel square image with side 150 pixels.\n",
    "The output shape of the base xception model is: 2048 X 1. It is a 1-D vector representing the features learned by the model"
   ]
  },
  {
   "cell_type": "markdown",
   "metadata": {},
   "source": [
    "### Loading the Galaxy Zoo data\n",
    "\n",
    "We now start loading the galaxy zoo data into memory. First we load the label file and then start loading the corresponding images such that we can assign the corresponding label to them"
   ]
  },
  {
   "cell_type": "code",
   "execution_count": 4,
   "metadata": {},
   "outputs": [
    {
     "data": {
      "text/html": [
       "<div>\n",
       "<style scoped>\n",
       "    .dataframe tbody tr th:only-of-type {\n",
       "        vertical-align: middle;\n",
       "    }\n",
       "\n",
       "    .dataframe tbody tr th {\n",
       "        vertical-align: top;\n",
       "    }\n",
       "\n",
       "    .dataframe thead th {\n",
       "        text-align: right;\n",
       "    }\n",
       "</style>\n",
       "<table border=\"1\" class=\"dataframe\">\n",
       "  <thead>\n",
       "    <tr style=\"text-align: right;\">\n",
       "      <th></th>\n",
       "      <th>GalaxyID</th>\n",
       "      <th>Class1.1</th>\n",
       "      <th>Class1.2</th>\n",
       "      <th>Class1.3</th>\n",
       "      <th>Class2.1</th>\n",
       "      <th>Class2.2</th>\n",
       "      <th>Class3.1</th>\n",
       "      <th>Class3.2</th>\n",
       "      <th>Class4.1</th>\n",
       "      <th>Class4.2</th>\n",
       "      <th>...</th>\n",
       "      <th>Class9.3</th>\n",
       "      <th>Class10.1</th>\n",
       "      <th>Class10.2</th>\n",
       "      <th>Class10.3</th>\n",
       "      <th>Class11.1</th>\n",
       "      <th>Class11.2</th>\n",
       "      <th>Class11.3</th>\n",
       "      <th>Class11.4</th>\n",
       "      <th>Class11.5</th>\n",
       "      <th>Class11.6</th>\n",
       "    </tr>\n",
       "  </thead>\n",
       "  <tbody>\n",
       "    <tr>\n",
       "      <th>0</th>\n",
       "      <td>100008</td>\n",
       "      <td>0.383147</td>\n",
       "      <td>0.616853</td>\n",
       "      <td>0.000000</td>\n",
       "      <td>0.000000</td>\n",
       "      <td>0.616853</td>\n",
       "      <td>0.038452</td>\n",
       "      <td>0.578401</td>\n",
       "      <td>0.418398</td>\n",
       "      <td>0.198455</td>\n",
       "      <td>...</td>\n",
       "      <td>0.000000</td>\n",
       "      <td>0.279952</td>\n",
       "      <td>0.138445</td>\n",
       "      <td>0.000000</td>\n",
       "      <td>0.000000</td>\n",
       "      <td>0.092886</td>\n",
       "      <td>0.0</td>\n",
       "      <td>0.0</td>\n",
       "      <td>0.0</td>\n",
       "      <td>0.325512</td>\n",
       "    </tr>\n",
       "    <tr>\n",
       "      <th>1</th>\n",
       "      <td>100023</td>\n",
       "      <td>0.327001</td>\n",
       "      <td>0.663777</td>\n",
       "      <td>0.009222</td>\n",
       "      <td>0.031178</td>\n",
       "      <td>0.632599</td>\n",
       "      <td>0.467370</td>\n",
       "      <td>0.165229</td>\n",
       "      <td>0.591328</td>\n",
       "      <td>0.041271</td>\n",
       "      <td>...</td>\n",
       "      <td>0.018764</td>\n",
       "      <td>0.000000</td>\n",
       "      <td>0.131378</td>\n",
       "      <td>0.459950</td>\n",
       "      <td>0.000000</td>\n",
       "      <td>0.591328</td>\n",
       "      <td>0.0</td>\n",
       "      <td>0.0</td>\n",
       "      <td>0.0</td>\n",
       "      <td>0.000000</td>\n",
       "    </tr>\n",
       "    <tr>\n",
       "      <th>2</th>\n",
       "      <td>100053</td>\n",
       "      <td>0.765717</td>\n",
       "      <td>0.177352</td>\n",
       "      <td>0.056931</td>\n",
       "      <td>0.000000</td>\n",
       "      <td>0.177352</td>\n",
       "      <td>0.000000</td>\n",
       "      <td>0.177352</td>\n",
       "      <td>0.000000</td>\n",
       "      <td>0.177352</td>\n",
       "      <td>...</td>\n",
       "      <td>0.000000</td>\n",
       "      <td>0.000000</td>\n",
       "      <td>0.000000</td>\n",
       "      <td>0.000000</td>\n",
       "      <td>0.000000</td>\n",
       "      <td>0.000000</td>\n",
       "      <td>0.0</td>\n",
       "      <td>0.0</td>\n",
       "      <td>0.0</td>\n",
       "      <td>0.000000</td>\n",
       "    </tr>\n",
       "    <tr>\n",
       "      <th>3</th>\n",
       "      <td>100078</td>\n",
       "      <td>0.693377</td>\n",
       "      <td>0.238564</td>\n",
       "      <td>0.068059</td>\n",
       "      <td>0.000000</td>\n",
       "      <td>0.238564</td>\n",
       "      <td>0.109493</td>\n",
       "      <td>0.129071</td>\n",
       "      <td>0.189098</td>\n",
       "      <td>0.049466</td>\n",
       "      <td>...</td>\n",
       "      <td>0.000000</td>\n",
       "      <td>0.094549</td>\n",
       "      <td>0.000000</td>\n",
       "      <td>0.094549</td>\n",
       "      <td>0.189098</td>\n",
       "      <td>0.000000</td>\n",
       "      <td>0.0</td>\n",
       "      <td>0.0</td>\n",
       "      <td>0.0</td>\n",
       "      <td>0.000000</td>\n",
       "    </tr>\n",
       "    <tr>\n",
       "      <th>4</th>\n",
       "      <td>100090</td>\n",
       "      <td>0.933839</td>\n",
       "      <td>0.000000</td>\n",
       "      <td>0.066161</td>\n",
       "      <td>0.000000</td>\n",
       "      <td>0.000000</td>\n",
       "      <td>0.000000</td>\n",
       "      <td>0.000000</td>\n",
       "      <td>0.000000</td>\n",
       "      <td>0.000000</td>\n",
       "      <td>...</td>\n",
       "      <td>0.000000</td>\n",
       "      <td>0.000000</td>\n",
       "      <td>0.000000</td>\n",
       "      <td>0.000000</td>\n",
       "      <td>0.000000</td>\n",
       "      <td>0.000000</td>\n",
       "      <td>0.0</td>\n",
       "      <td>0.0</td>\n",
       "      <td>0.0</td>\n",
       "      <td>0.000000</td>\n",
       "    </tr>\n",
       "  </tbody>\n",
       "</table>\n",
       "<p>5 rows × 38 columns</p>\n",
       "</div>"
      ],
      "text/plain": [
       "   GalaxyID  Class1.1  Class1.2  Class1.3  Class2.1  Class2.2  Class3.1  \\\n",
       "0    100008  0.383147  0.616853  0.000000  0.000000  0.616853  0.038452   \n",
       "1    100023  0.327001  0.663777  0.009222  0.031178  0.632599  0.467370   \n",
       "2    100053  0.765717  0.177352  0.056931  0.000000  0.177352  0.000000   \n",
       "3    100078  0.693377  0.238564  0.068059  0.000000  0.238564  0.109493   \n",
       "4    100090  0.933839  0.000000  0.066161  0.000000  0.000000  0.000000   \n",
       "\n",
       "   Class3.2  Class4.1  Class4.2    ...      Class9.3  Class10.1  Class10.2  \\\n",
       "0  0.578401  0.418398  0.198455    ...      0.000000   0.279952   0.138445   \n",
       "1  0.165229  0.591328  0.041271    ...      0.018764   0.000000   0.131378   \n",
       "2  0.177352  0.000000  0.177352    ...      0.000000   0.000000   0.000000   \n",
       "3  0.129071  0.189098  0.049466    ...      0.000000   0.094549   0.000000   \n",
       "4  0.000000  0.000000  0.000000    ...      0.000000   0.000000   0.000000   \n",
       "\n",
       "   Class10.3  Class11.1  Class11.2  Class11.3  Class11.4  Class11.5  Class11.6  \n",
       "0   0.000000   0.000000   0.092886        0.0        0.0        0.0   0.325512  \n",
       "1   0.459950   0.000000   0.591328        0.0        0.0        0.0   0.000000  \n",
       "2   0.000000   0.000000   0.000000        0.0        0.0        0.0   0.000000  \n",
       "3   0.094549   0.189098   0.000000        0.0        0.0        0.0   0.000000  \n",
       "4   0.000000   0.000000   0.000000        0.0        0.0        0.0   0.000000  \n",
       "\n",
       "[5 rows x 38 columns]"
      ]
     },
     "execution_count": 4,
     "metadata": {},
     "output_type": "execute_result"
    }
   ],
   "source": [
    "all_labels = pd.read_csv(f'../data/galaxy_zoo/training_solutions_rev1.csv')\n",
    "all_labels.head()"
   ]
  },
  {
   "cell_type": "code",
   "execution_count": 5,
   "metadata": {},
   "outputs": [
    {
     "data": {
      "text/html": [
       "<div>\n",
       "<style scoped>\n",
       "    .dataframe tbody tr th:only-of-type {\n",
       "        vertical-align: middle;\n",
       "    }\n",
       "\n",
       "    .dataframe tbody tr th {\n",
       "        vertical-align: top;\n",
       "    }\n",
       "\n",
       "    .dataframe thead th {\n",
       "        text-align: right;\n",
       "    }\n",
       "</style>\n",
       "<table border=\"1\" class=\"dataframe\">\n",
       "  <thead>\n",
       "    <tr style=\"text-align: right;\">\n",
       "      <th></th>\n",
       "      <th>GalaxyID</th>\n",
       "      <th>Class1.1</th>\n",
       "      <th>Class1.2</th>\n",
       "    </tr>\n",
       "  </thead>\n",
       "  <tbody>\n",
       "    <tr>\n",
       "      <th>0</th>\n",
       "      <td>100008</td>\n",
       "      <td>0.383147</td>\n",
       "      <td>0.616853</td>\n",
       "    </tr>\n",
       "    <tr>\n",
       "      <th>1</th>\n",
       "      <td>100023</td>\n",
       "      <td>0.327001</td>\n",
       "      <td>0.663777</td>\n",
       "    </tr>\n",
       "    <tr>\n",
       "      <th>2</th>\n",
       "      <td>100053</td>\n",
       "      <td>0.765717</td>\n",
       "      <td>0.177352</td>\n",
       "    </tr>\n",
       "    <tr>\n",
       "      <th>3</th>\n",
       "      <td>100078</td>\n",
       "      <td>0.693377</td>\n",
       "      <td>0.238564</td>\n",
       "    </tr>\n",
       "    <tr>\n",
       "      <th>4</th>\n",
       "      <td>100090</td>\n",
       "      <td>0.933839</td>\n",
       "      <td>0.000000</td>\n",
       "    </tr>\n",
       "  </tbody>\n",
       "</table>\n",
       "</div>"
      ],
      "text/plain": [
       "   GalaxyID  Class1.1  Class1.2\n",
       "0    100008  0.383147  0.616853\n",
       "1    100023  0.327001  0.663777\n",
       "2    100053  0.765717  0.177352\n",
       "3    100078  0.693377  0.238564\n",
       "4    100090  0.933839  0.000000"
      ]
     },
     "execution_count": 5,
     "metadata": {},
     "output_type": "execute_result"
    }
   ],
   "source": [
    "# First we can get rid of all the extra data that we will not use\n",
    "\n",
    "# Assuming the follwing column names:\n",
    "elliptical_galaxy_col_name = 'Class1.1'\n",
    "spiral_galaxy_col_name = 'Class1.2'\n",
    "\n",
    "all_labels = all_labels[['GalaxyID', elliptical_galaxy_col_name, spiral_galaxy_col_name]]\n",
    "all_labels.head()"
   ]
  },
  {
   "cell_type": "code",
   "execution_count": 6,
   "metadata": {},
   "outputs": [],
   "source": [
    "# Getting the id's for elliptical and spiral galaxies\n",
    "elliptical_galaxy_ids = pd.Series(all_labels[all_labels[elliptical_galaxy_col_name] >= 0.5]['GalaxyID'], dtype=str)\n",
    "spiral_galaxy_ids = pd.Series(all_labels[all_labels[spiral_galaxy_col_name] > 0.5]['GalaxyID'], dtype=str)"
   ]
  },
  {
   "cell_type": "code",
   "execution_count": 7,
   "metadata": {},
   "outputs": [
    {
     "name": "stdout",
     "output_type": "stream",
     "text": [
      "Number Elliptical Galaxies: 25868\n",
      "Number Spiral Galaxies: 34105\n"
     ]
    }
   ],
   "source": [
    "# Finding the number of images for each type of galaxy\n",
    "print(f'Number Elliptical Galaxies: {elliptical_galaxy_ids.shape[0]}')\n",
    "print(f'Number Spiral Galaxies: {spiral_galaxy_ids.shape[0]}')"
   ]
  },
  {
   "cell_type": "markdown",
   "metadata": {},
   "source": [
    "__Finding High Confidence Galaxies__"
   ]
  },
  {
   "cell_type": "code",
   "execution_count": 8,
   "metadata": {},
   "outputs": [
    {
     "name": "stdout",
     "output_type": "stream",
     "text": [
      "Confidence Threshold: 1.0\n",
      "Number of High Confidence Elliptical Galaxies: 146\n",
      "Number of High Confidence Spiral Galaxies: 711\n"
     ]
    }
   ],
   "source": [
    "# First find the number of high confidence galaxies for both classes\n",
    "conf_threshold = 1.0\n",
    "print(f'Confidence Threshold: {conf_threshold}')\n",
    "num_high_conf_elliptical_galaxies = all_labels[all_labels[elliptical_galaxy_col_name] >= conf_threshold].shape[0]\n",
    "num_high_conf_spiral_galaxies = all_labels[all_labels[spiral_galaxy_col_name] >= conf_threshold].shape[0]\n",
    "print('Number of High Confidence Elliptical Galaxies:', num_high_conf_elliptical_galaxies)\n",
    "print('Number of High Confidence Spiral Galaxies:', num_high_conf_spiral_galaxies)"
   ]
  },
  {
   "cell_type": "code",
   "execution_count": 9,
   "metadata": {},
   "outputs": [],
   "source": [
    "# sampling certain number of high confidence galaxies\n",
    "num_samples = 20\n",
    "high_conf_ellip_galaxies = all_labels.sort_values(by=elliptical_galaxy_col_name, ascending=False).iloc[:min(num_high_conf_elliptical_galaxies, num_high_conf_spiral_galaxies)].sample(num_samples)['GalaxyID']\n",
    "high_conf_spiral_galaxies = all_labels.sort_values(by=spiral_galaxy_col_name, ascending=False).iloc[:min(num_high_conf_elliptical_galaxies, num_high_conf_spiral_galaxies)].sample(num_samples)['GalaxyID']"
   ]
  },
  {
   "cell_type": "code",
   "execution_count": 10,
   "metadata": {},
   "outputs": [
    {
     "data": {
      "text/plain": [
       "15634    331167\n",
       "58228    950850\n",
       "46723    780875\n",
       "16504    343866\n",
       "53445    879329\n",
       "23529    443715\n",
       "7518     210465\n",
       "7036     203829\n",
       "15894    335161\n",
       "47849    797160\n",
       "38593    662983\n",
       "40982    697454\n",
       "19172    381567\n",
       "15533    329807\n",
       "8056     218281\n",
       "5699     184703\n",
       "15924    335528\n",
       "17531    358458\n",
       "23484    442980\n",
       "45020    757010\n",
       "Name: GalaxyID, dtype: int64"
      ]
     },
     "execution_count": 10,
     "metadata": {},
     "output_type": "execute_result"
    }
   ],
   "source": [
    "high_conf_ellip_galaxies"
   ]
  },
  {
   "cell_type": "code",
   "execution_count": 11,
   "metadata": {},
   "outputs": [
    {
     "data": {
      "text/plain": [
       "50426    834360\n",
       "61364    996854\n",
       "12965    292016\n",
       "58311    951919\n",
       "44287    746056\n",
       "38979    668583\n",
       "12553    285593\n",
       "14856    320105\n",
       "22780    432849\n",
       "54134    889854\n",
       "41528    706376\n",
       "39066    669881\n",
       "16680    346007\n",
       "14839    319856\n",
       "2747     141084\n",
       "58713    957751\n",
       "31447    561522\n",
       "27458    502352\n",
       "27126    497199\n",
       "57461    938845\n",
       "Name: GalaxyID, dtype: int64"
      ]
     },
     "execution_count": 11,
     "metadata": {},
     "output_type": "execute_result"
    }
   ],
   "source": [
    "high_conf_spiral_galaxies"
   ]
  },
  {
   "cell_type": "markdown",
   "metadata": {},
   "source": [
    "### Data Generators\n",
    "\n",
    "Defining the keras data generators to iterate through all the images and then essentially help in extracting the features from the images"
   ]
  },
  {
   "cell_type": "code",
   "execution_count": 12,
   "metadata": {},
   "outputs": [],
   "source": [
    "image_extension = '.jpg'\n",
    "training_directory_path = f'../data/xception_clustering/training/'\n",
    "testing_directory_path = f'../data/xception_clustering/testing/'"
   ]
  },
  {
   "cell_type": "code",
   "execution_count": 13,
   "metadata": {},
   "outputs": [
    {
     "name": "stdout",
     "output_type": "stream",
     "text": [
      "Number of already present Training Elliptical Galaxies: 25868\n",
      "Number of already present Training Spiral Galaxies: 34105\n",
      "Number of already present Testing Elliptical Galaxies: 0\n",
      "Number of already present Testing Spiral Galaxies: 0\n"
     ]
    }
   ],
   "source": [
    "# Getting the files already in the training and testing folders respectively\n",
    "spiral_training_directory_path = construct_path(training_directory_path, 'spiral')\n",
    "elliptical_training_directory_path = construct_path(training_directory_path, 'elliptical')\n",
    "spiral_testing_directory_path = construct_path(testing_directory_path, 'spiral')\n",
    "elliptical_testing_directory_path = construct_path(testing_directory_path, 'elliptical')\n",
    "elliptical_training_files = get_file_nms(elliptical_training_directory_path, image_extension)\n",
    "spiral_training_files = get_file_nms(spiral_training_directory_path, image_extension)\n",
    "elliptical_testing_files = get_file_nms(elliptical_testing_directory_path, image_extension)\n",
    "spiral_testing_files = get_file_nms(spiral_testing_directory_path, image_extension)\n",
    "# Finding the number of images for each type of galaxy after finding the common images and list\n",
    "print(f'Number of already present Training Elliptical Galaxies: {len(elliptical_training_files)}')\n",
    "print(f'Number of already present Training Spiral Galaxies: {len(spiral_training_files)}')\n",
    "print(f'Number of already present Testing Elliptical Galaxies: {len(elliptical_testing_files)}')\n",
    "print(f'Number of already present Testing Spiral Galaxies: {len(spiral_testing_files)}')"
   ]
  },
  {
   "cell_type": "markdown",
   "metadata": {},
   "source": [
    "#### Normalization and Cropping functions"
   ]
  },
  {
   "cell_type": "code",
   "execution_count": 14,
   "metadata": {},
   "outputs": [],
   "source": [
    "def get_difference(orig_size, target_size):\n",
    "    orig_size, target_size = list(orig_size), list(target_size)\n",
    "    ret_ls = []\n",
    "    for o, t in zip(orig_size, target_size):\n",
    "        ret_ls.append(o - t)\n",
    "    return ret_ls\n",
    "\n",
    "def crop_image(image, orig_size, target_size):\n",
    "    crop_sizes = get_difference(orig_size, target_size)\n",
    "    height_dif, width_dif = crop_sizes[0] // 2, crop_sizes[1] // 2\n",
    "    return image[height_dif:(height_dif + target_size[0]), width_dif:(width_dif + target_size[1]), :]\n",
    "\n",
    "def range_scaling(image, out_feature_range=(-1, 1)):\n",
    "    old_min, old_max = 0., 255.\n",
    "    new_min, new_max = -1., 1.\n",
    "    return ((image - old_min)/(old_max - old_min))*(new_max - new_min) + new_min\n",
    "\n",
    "def image_preprocessing_function(image, crop=True, range_scale=True):\n",
    "    \"\"\"\n",
    "    image is a 3-D image tensor (numpy array).\n",
    "    \"\"\"\n",
    "    target_image_size = input_tensor_shape\n",
    "    if crop:\n",
    "        cropped_image = crop_image(image, image.shape, target_image_size)\n",
    "    else:\n",
    "        cropped_image = image\n",
    "        \n",
    "    if range_scale:\n",
    "        final_image = range_scaling(cropped_image)\n",
    "    else:\n",
    "        final_image = cropped_image\n",
    "    return final_image"
   ]
  },
  {
   "cell_type": "markdown",
   "metadata": {},
   "source": [
    "#### Generator Definitions"
   ]
  },
  {
   "cell_type": "code",
   "execution_count": 15,
   "metadata": {},
   "outputs": [
    {
     "name": "stdout",
     "output_type": "stream",
     "text": [
      "Found 59973 images belonging to 2 classes.\n",
      "Found 0 images belonging to 2 classes.\n",
      "CPU times: user 3.74 s, sys: 716 ms, total: 4.46 s\n",
      "Wall time: 3.03 s\n"
     ]
    }
   ],
   "source": [
    "%%time\n",
    "generator_batch_size = 64\n",
    "# Current generator uses -1 to 1\n",
    "image_generator = ImageDataGenerator(preprocessing_function=image_preprocessing_function)\n",
    "training_generator = image_generator.flow_from_directory(training_directory_path, target_size = input_tensor_shape[:2], \n",
    "                                                         class_mode='binary', batch_size=generator_batch_size)\n",
    "testing_generator = image_generator.flow_from_directory(testing_directory_path, target_size = input_tensor_shape[:2], \n",
    "                                                         class_mode='binary', batch_size=generator_batch_size)"
   ]
  },
  {
   "cell_type": "code",
   "execution_count": 16,
   "metadata": {},
   "outputs": [
    {
     "name": "stdout",
     "output_type": "stream",
     "text": [
      "Number of Images processed: 6400\n",
      "Number of Images processed: 12800\n",
      "Number of Images processed: 19200\n",
      "Number of Images processed: 25600\n",
      "Number of Images processed: 32000\n",
      "Number of Images processed: 38400\n",
      "Number of Images processed: 44800\n",
      "Number of Images processed: 51200\n",
      "Number of Images processed: 57600\n",
      "Shape of the training features (59968, 2048)\n",
      "CPU times: user 6min 38s, sys: 1min 27s, total: 8min 6s\n",
      "Wall time: 7min 42s\n"
     ]
    }
   ],
   "source": [
    "%%time\n",
    "n_train_examples = (len(training_generator.filenames)//generator_batch_size) * generator_batch_size\n",
    "train_features = np.zeros((n_train_examples, 2048))\n",
    "train_labels = np.zeros(n_train_examples, dtype=int)\n",
    "i = 0\n",
    "for inputs_batch, labels_batch in training_generator:\n",
    "    features_batch = base_xception_model.predict(inputs_batch)\n",
    "    train_features[i * generator_batch_size : (i + 1) * generator_batch_size] = features_batch\n",
    "    train_labels[i * generator_batch_size : (i + 1) * generator_batch_size] = labels_batch\n",
    "    i += 1\n",
    "    if i % 100 == 0 and i:\n",
    "        print('Number of Images processed:', i * generator_batch_size)\n",
    "    if i * generator_batch_size >= n_train_examples:\n",
    "        break\n",
    "\n",
    "print('Shape of the training features', train_features.shape)"
   ]
  },
  {
   "cell_type": "code",
   "execution_count": 17,
   "metadata": {},
   "outputs": [
    {
     "data": {
      "text/plain": [
       "{'elliptical': 0, 'spiral': 1}"
      ]
     },
     "execution_count": 17,
     "metadata": {},
     "output_type": "execute_result"
    }
   ],
   "source": [
    "training_generator.class_indices"
   ]
  },
  {
   "cell_type": "markdown",
   "metadata": {},
   "source": [
    "### Experiment 1: K-Means Clustering Average Features Cluster initialization\n",
    "\n",
    "#### DEC Xception Training Regime\n",
    "\n",
    "This part of the notebook defines the generator for the training regime of the DEC model over the features extracted from the Xception architecture"
   ]
  },
  {
   "cell_type": "code",
   "execution_count": 18,
   "metadata": {},
   "outputs": [
    {
     "name": "stdout",
     "output_type": "stream",
     "text": [
      "_________________________________________________________________\n",
      "Layer (type)                 Output Shape              Param #   \n",
      "=================================================================\n",
      "input (InputLayer)           (None, 2048)              0         \n",
      "_________________________________________________________________\n",
      "encoder_0 (Dense)            (None, 500)               1024500   \n",
      "_________________________________________________________________\n",
      "encoder_1 (Dense)            (None, 500)               250500    \n",
      "_________________________________________________________________\n",
      "encoder_2 (Dense)            (None, 2000)              1002000   \n",
      "_________________________________________________________________\n",
      "encoder_3 (Dense)            (None, 10)                20010     \n",
      "_________________________________________________________________\n",
      "clustering (ClusteringLayer) (None, 2)                 20        \n",
      "=================================================================\n",
      "Total params: 2,297,030\n",
      "Trainable params: 2,297,030\n",
      "Non-trainable params: 0\n",
      "_________________________________________________________________\n"
     ]
    }
   ],
   "source": [
    "# Defining our DEC model\n",
    "dec_model = DEC([2048, 500, 500, 2000, 10], n_clusters=2)\n",
    "dec_model.model.summary()"
   ]
  },
  {
   "cell_type": "code",
   "execution_count": 19,
   "metadata": {},
   "outputs": [],
   "source": [
    "results_save_dir = 'results/kmeans_clustering_cluster_initialization_average'\n",
    "if not exist_directory(results_save_dir):\n",
    "    os.makedirs(results_save_dir)"
   ]
  },
  {
   "cell_type": "markdown",
   "metadata": {},
   "source": [
    "#### Pretraining"
   ]
  },
  {
   "cell_type": "code",
   "execution_count": 20,
   "metadata": {
    "scrolled": true
   },
   "outputs": [
    {
     "name": "stdout",
     "output_type": "stream",
     "text": [
      "...Pretraining...\n",
      "Epoch 1/100\n",
      "59968/59968 [==============================] - 5s 85us/step - loss: 0.0160\n",
      "        |==>  acc: 0.6938,  nmi: 0.1096  <==|\n",
      "Epoch 2/100\n",
      "59968/59968 [==============================] - 4s 70us/step - loss: 0.0080\n",
      "Epoch 3/100\n",
      "59968/59968 [==============================] - 4s 69us/step - loss: 0.0070\n",
      "Epoch 4/100\n",
      "59968/59968 [==============================] - 5s 76us/step - loss: 0.0067\n",
      "Epoch 5/100\n",
      "59968/59968 [==============================] - 4s 71us/step - loss: 0.0065\n",
      "Epoch 6/100\n",
      "59968/59968 [==============================] - 4s 71us/step - loss: 0.0064\n",
      "Epoch 7/100\n",
      "59968/59968 [==============================] - 4s 71us/step - loss: 0.0063\n",
      "Epoch 8/100\n",
      "59968/59968 [==============================] - 4s 69us/step - loss: 0.0062\n",
      "Epoch 9/100\n",
      "59968/59968 [==============================] - 4s 69us/step - loss: 0.0061\n",
      "Epoch 10/100\n",
      "59968/59968 [==============================] - 4s 68us/step - loss: 0.0060\n",
      "Epoch 11/100\n",
      "59968/59968 [==============================] - 4s 69us/step - loss: 0.0060\n",
      "        |==>  acc: 0.6870,  nmi: 0.1000  <==|\n",
      "Epoch 12/100\n",
      "59968/59968 [==============================] - 4s 70us/step - loss: 0.0059\n",
      "Epoch 13/100\n",
      "59968/59968 [==============================] - 4s 69us/step - loss: 0.0059\n",
      "Epoch 14/100\n",
      "59968/59968 [==============================] - 4s 69us/step - loss: 0.0058\n",
      "Epoch 15/100\n",
      "59968/59968 [==============================] - 4s 68us/step - loss: 0.0058\n",
      "Epoch 16/100\n",
      "59968/59968 [==============================] - 4s 69us/step - loss: 0.0058\n",
      "Epoch 17/100\n",
      "59968/59968 [==============================] - 4s 68us/step - loss: 0.0057\n",
      "Epoch 18/100\n",
      "59968/59968 [==============================] - 4s 68us/step - loss: 0.0057\n",
      "Epoch 19/100\n",
      "59968/59968 [==============================] - 4s 68us/step - loss: 0.0057\n",
      "Epoch 20/100\n",
      "59968/59968 [==============================] - 4s 68us/step - loss: 0.0057\n",
      "Epoch 21/100\n",
      "59968/59968 [==============================] - 4s 68us/step - loss: 0.0057\n",
      "        |==>  acc: 0.7010,  nmi: 0.1171  <==|\n",
      "Epoch 22/100\n",
      "59968/59968 [==============================] - 4s 70us/step - loss: 0.0056\n",
      "Epoch 23/100\n",
      "59968/59968 [==============================] - 4s 68us/step - loss: 0.0056\n",
      "Epoch 24/100\n",
      "59968/59968 [==============================] - 4s 68us/step - loss: 0.0056\n",
      "Epoch 25/100\n",
      "59968/59968 [==============================] - 4s 68us/step - loss: 0.0056\n",
      "Epoch 26/100\n",
      "59968/59968 [==============================] - 4s 68us/step - loss: 0.0055\n",
      "Epoch 27/100\n",
      "59968/59968 [==============================] - 4s 70us/step - loss: 0.0055\n",
      "Epoch 28/100\n",
      "59968/59968 [==============================] - 4s 69us/step - loss: 0.0055\n",
      "Epoch 29/100\n",
      "59968/59968 [==============================] - 4s 68us/step - loss: 0.0055\n",
      "Epoch 30/100\n",
      "59968/59968 [==============================] - 4s 68us/step - loss: 0.0055\n",
      "Epoch 31/100\n",
      "59968/59968 [==============================] - 4s 68us/step - loss: 0.0054\n",
      "        |==>  acc: 0.6892,  nmi: 0.1031  <==|\n",
      "Epoch 32/100\n",
      "59968/59968 [==============================] - 4s 70us/step - loss: 0.0054\n",
      "Epoch 33/100\n",
      "59968/59968 [==============================] - 4s 69us/step - loss: 0.0054\n",
      "Epoch 34/100\n",
      "59968/59968 [==============================] - 4s 70us/step - loss: 0.0054\n",
      "Epoch 35/100\n",
      "59968/59968 [==============================] - 4s 71us/step - loss: 0.0054\n",
      "Epoch 36/100\n",
      "59968/59968 [==============================] - 4s 69us/step - loss: 0.0054\n",
      "Epoch 37/100\n",
      "59968/59968 [==============================] - 4s 70us/step - loss: 0.0053\n",
      "Epoch 38/100\n",
      "59968/59968 [==============================] - 4s 69us/step - loss: 0.0053\n",
      "Epoch 39/100\n",
      "59968/59968 [==============================] - 4s 69us/step - loss: 0.0053\n",
      "Epoch 40/100\n",
      "59968/59968 [==============================] - 4s 70us/step - loss: 0.0053\n",
      "Epoch 41/100\n",
      "59968/59968 [==============================] - 4s 69us/step - loss: 0.0053\n",
      "        |==>  acc: 0.6897,  nmi: 0.1034  <==|\n",
      "Epoch 42/100\n",
      "59968/59968 [==============================] - 4s 69us/step - loss: 0.0053\n",
      "Epoch 43/100\n",
      "59968/59968 [==============================] - 4s 68us/step - loss: 0.0053\n",
      "Epoch 44/100\n",
      "59968/59968 [==============================] - 4s 68us/step - loss: 0.0053\n",
      "Epoch 45/100\n",
      "59968/59968 [==============================] - 4s 68us/step - loss: 0.0053\n",
      "Epoch 46/100\n",
      "59968/59968 [==============================] - 4s 68us/step - loss: 0.0052\n",
      "Epoch 47/100\n",
      "59968/59968 [==============================] - 4s 68us/step - loss: 0.0052\n",
      "Epoch 48/100\n",
      "59968/59968 [==============================] - 4s 68us/step - loss: 0.0052\n",
      "Epoch 49/100\n",
      "59968/59968 [==============================] - 4s 68us/step - loss: 0.0052\n",
      "Epoch 50/100\n",
      "59968/59968 [==============================] - 4s 68us/step - loss: 0.0052\n",
      "Epoch 51/100\n",
      "59968/59968 [==============================] - 4s 67us/step - loss: 0.0052\n",
      "        |==>  acc: 0.6940,  nmi: 0.1091  <==|\n",
      "Epoch 52/100\n",
      "59968/59968 [==============================] - 4s 70us/step - loss: 0.0052\n",
      "Epoch 53/100\n",
      "59968/59968 [==============================] - 4s 68us/step - loss: 0.0052\n",
      "Epoch 54/100\n",
      "59968/59968 [==============================] - 4s 68us/step - loss: 0.0051\n",
      "Epoch 55/100\n",
      "59968/59968 [==============================] - 4s 68us/step - loss: 0.0051\n",
      "Epoch 56/100\n",
      "59968/59968 [==============================] - 4s 68us/step - loss: 0.0051\n",
      "Epoch 57/100\n",
      "59968/59968 [==============================] - 4s 69us/step - loss: 0.0051\n",
      "Epoch 58/100\n",
      "59968/59968 [==============================] - 4s 69us/step - loss: 0.0051\n",
      "Epoch 59/100\n",
      "59968/59968 [==============================] - 4s 68us/step - loss: 0.0051\n",
      "Epoch 60/100\n",
      "59968/59968 [==============================] - 4s 68us/step - loss: 0.0051\n",
      "Epoch 61/100\n",
      "59968/59968 [==============================] - 4s 68us/step - loss: 0.0051\n",
      "        |==>  acc: 0.6937,  nmi: 0.1081  <==|\n",
      "Epoch 62/100\n",
      "59968/59968 [==============================] - 4s 69us/step - loss: 0.0051\n",
      "Epoch 63/100\n",
      "59968/59968 [==============================] - 4s 68us/step - loss: 0.0051\n",
      "Epoch 64/100\n",
      "59968/59968 [==============================] - 4s 68us/step - loss: 0.0051\n",
      "Epoch 65/100\n",
      "59968/59968 [==============================] - 4s 67us/step - loss: 0.0050\n",
      "Epoch 66/100\n",
      "59968/59968 [==============================] - 4s 68us/step - loss: 0.0050\n",
      "Epoch 67/100\n",
      "59968/59968 [==============================] - 4s 68us/step - loss: 0.0050\n",
      "Epoch 68/100\n",
      "59968/59968 [==============================] - 4s 68us/step - loss: 0.0050\n",
      "Epoch 69/100\n",
      "59968/59968 [==============================] - 4s 68us/step - loss: 0.0050\n",
      "Epoch 70/100\n",
      "59968/59968 [==============================] - 4s 68us/step - loss: 0.0050\n",
      "Epoch 71/100\n",
      "59968/59968 [==============================] - 4s 68us/step - loss: 0.0050\n",
      "        |==>  acc: 0.6949,  nmi: 0.1097  <==|\n",
      "Epoch 72/100\n",
      "59968/59968 [==============================] - 4s 70us/step - loss: 0.0050\n",
      "Epoch 73/100\n",
      "59968/59968 [==============================] - 4s 68us/step - loss: 0.0050\n",
      "Epoch 74/100\n",
      "59968/59968 [==============================] - 4s 68us/step - loss: 0.0050\n",
      "Epoch 75/100\n",
      "50944/59968 [========================>.....] - ETA: 0s - loss: 0.0049"
     ]
    }
   ],
   "source": [
    "%%time\n",
    "dec_model.pretrain(train_features, train_labels, epochs=100, save_dir=results_save_dir)"
   ]
  },
  {
   "cell_type": "markdown",
   "metadata": {},
   "source": [
    "#### Cluster Centers"
   ]
  },
  {
   "cell_type": "code",
   "execution_count": 21,
   "metadata": {},
   "outputs": [
    {
     "data": {
      "text/plain": [
       "['spiral/', 'elliptical/']"
      ]
     },
     "execution_count": 21,
     "metadata": {},
     "output_type": "execute_result"
    }
   ],
   "source": [
    "get_subdirectory_names(training_directory_path)"
   ]
  },
  {
   "cell_type": "code",
   "execution_count": 22,
   "metadata": {},
   "outputs": [],
   "source": [
    "high_conf_ellip_im_arr = []\n",
    "for galaxy_id in high_conf_ellip_galaxies:\n",
    "    image_path = construct_path(elliptical_training_directory_path, f'{galaxy_id}{image_extension}')\n",
    "    high_conf_ellip_im_arr.append(image_preprocessing_function(np.array(Image.open(image_path))))\n",
    "high_conf_ellip_im_arr = np.array(high_conf_ellip_im_arr)\n",
    "\n",
    "high_conf_spiral_im_arr = []\n",
    "for galaxy_id in high_conf_spiral_galaxies:\n",
    "    image_path = construct_path(spiral_training_directory_path, f'{galaxy_id}{image_extension}')\n",
    "    high_conf_spiral_im_arr.append(image_preprocessing_function(np.array(Image.open(image_path))))\n",
    "high_conf_spiral_im_arr = np.array(high_conf_spiral_im_arr)"
   ]
  },
  {
   "cell_type": "markdown",
   "metadata": {},
   "source": [
    "#### High Confidence Images Base Xception Model Features"
   ]
  },
  {
   "cell_type": "code",
   "execution_count": 23,
   "metadata": {},
   "outputs": [
    {
     "name": "stdout",
     "output_type": "stream",
     "text": [
      "CPU times: user 660 ms, sys: 352 ms, total: 1.01 s\n",
      "Wall time: 999 ms\n"
     ]
    }
   ],
   "source": [
    "%%time\n",
    "# Getting the prediction\n",
    "high_conf_ellip_pred = base_xception_model.predict(high_conf_ellip_im_arr)\n",
    "high_conf_spiral_pred = base_xception_model.predict(high_conf_spiral_im_arr)\n",
    "high_conf_pred = np.vstack((high_conf_ellip_pred, high_conf_spiral_pred))\n",
    "high_conf_label = ['Elliptical']*num_samples + ['Spiral']*num_samples"
   ]
  },
  {
   "cell_type": "markdown",
   "metadata": {},
   "source": [
    "#### PCA Visualization"
   ]
  },
  {
   "cell_type": "code",
   "execution_count": 24,
   "metadata": {},
   "outputs": [
    {
     "data": {
      "image/png": "[encoded data removed]",
      "text/plain": [
       "<Figure size 432x288 with 1 Axes>"
      ]
     },
     "metadata": {},
     "output_type": "display_data"
    }
   ],
   "source": [
    "pca_mod = PCA(2)\n",
    "pca_mod.fit(high_conf_pred)\n",
    "reduced_features = pca_mod.transform(high_conf_pred)\n",
    "\n",
    "fig, ax = plt.subplots(1, 1)\n",
    "sns.scatterplot(reduced_features[:, 0], reduced_features[:, 1], \n",
    "                hue=high_conf_label, ax=ax)\n",
    "ax.text(0.02, 0.92, f'Explained Var: {np.round(np.sum(pca_mod.explained_variance_ratio_), decimals=4)}', \n",
    "        transform=ax.transAxes)\n",
    "ax.set_xlabel('PCA Dim 1')\n",
    "ax.set_ylabel('PCA Dim 2')\n",
    "ax.set_title('PCA Scatterplot of Xception Model Features for High Confidence Galxies')\n",
    "plt.savefig(f'{results_save_dir}/PCA_Base_Xception_Model_High_Confidence_Predictions.png')"
   ]
  },
  {
   "cell_type": "markdown",
   "metadata": {},
   "source": [
    "#### High Confidence Images Pretrain Model Prediction"
   ]
  },
  {
   "cell_type": "code",
   "execution_count": 25,
   "metadata": {},
   "outputs": [
    {
     "name": "stdout",
     "output_type": "stream",
     "text": [
      "CPU times: user 164 ms, sys: 68 ms, total: 232 ms\n",
      "Wall time: 167 ms\n"
     ]
    }
   ],
   "source": [
    "%%time\n",
    "# Getting the prediction\n",
    "high_conf_encoder_features = dec_model.encoder.predict(high_conf_pred)"
   ]
  },
  {
   "cell_type": "markdown",
   "metadata": {},
   "source": [
    "#### PCA Visualization"
   ]
  },
  {
   "cell_type": "code",
   "execution_count": 26,
   "metadata": {},
   "outputs": [
    {
     "data": {
      "image/png": "[encoded data removed]",
      "text/plain": [
       "<Figure size 432x288 with 1 Axes>"
      ]
     },
     "metadata": {},
     "output_type": "display_data"
    }
   ],
   "source": [
    "pca_mod = PCA(2)\n",
    "pca_mod.fit(high_conf_encoder_features)\n",
    "reduced_features = pca_mod.transform(high_conf_encoder_features)\n",
    "\n",
    "fig, ax = plt.subplots(1, 1)\n",
    "sns.scatterplot(reduced_features[:, 0], reduced_features[:, 1], \n",
    "                hue=high_conf_label, ax=ax)\n",
    "ax.text(0.02, 0.92, f'Explained Var: {np.round(np.sum(pca_mod.explained_variance_ratio_), decimals=4)}', \n",
    "        transform=ax.transAxes)\n",
    "ax.set_xlabel('PCA Dim 1')\n",
    "ax.set_ylabel('PCA Dim 2')\n",
    "ax.set_title('PCA Scatterplot of Encoder Features for High Confidence Galxies')\n",
    "plt.savefig(f'{results_save_dir}/PCA_Pretrain_Model_High_Confidence_Predictions.png')"
   ]
  },
  {
   "cell_type": "markdown",
   "metadata": {},
   "source": [
    "#### Experiment 1: Cluster Center Initialization: Average Features"
   ]
  },
  {
   "cell_type": "code",
   "execution_count": 27,
   "metadata": {},
   "outputs": [
    {
     "data": {
      "text/plain": [
       "(2, 10)"
      ]
     },
     "execution_count": 27,
     "metadata": {},
     "output_type": "execute_result"
    }
   ],
   "source": [
    "ellip_center = np.mean(high_conf_encoder_features[:num_samples], axis=0)\n",
    "spiral_center = np.mean(high_conf_encoder_features[num_samples:], axis=0)\n",
    "kmeans_init_center = np.array([ellip_center, spiral_center])\n",
    "kmeans_init_center.shape"
   ]
  },
  {
   "cell_type": "markdown",
   "metadata": {},
   "source": [
    "#### Clustering"
   ]
  },
  {
   "cell_type": "code",
   "execution_count": 28,
   "metadata": {},
   "outputs": [
    {
     "name": "stdout",
     "output_type": "stream",
     "text": [
      "Update interval 140\n",
      "Save interval 9370\n",
      "Initializing cluster centers with k-means.\n",
      "Iter 0: acc = 0.69335, nmi = 0.10775, ari = 0.14943  ; loss= 0\n",
      "saving model to: results/kmeans_clustering_cluster_initialization_average/DEC_model_0.h5\n",
      "Iter 140: acc = 0.69197, nmi = 0.10907, ari = 0.14737  ; loss= 0.00042\n",
      "Iter 280: acc = 0.69003, nmi = 0.10828, ari = 0.14443  ; loss= 0.00196\n",
      "Iter 420: acc = 0.69175, nmi = 0.11067, ari = 0.14706  ; loss= 0.00786\n",
      "Iter 560: acc = 0.69304, nmi = 0.11271, ari = 0.14904  ; loss= 0.02608\n",
      "Iter 700: acc = 0.69335, nmi = 0.11296, ari = 0.14953  ; loss= 0.03989\n",
      "Iter 840: acc = 0.69530, nmi = 0.11458, ari = 0.15255  ; loss= 0.03905\n",
      "Iter 980: acc = 0.69490, nmi = 0.11458, ari = 0.15193  ; loss= 0.03546\n",
      "Iter 1120: acc = 0.69397, nmi = 0.11460, ari = 0.15048  ; loss= 0.03626\n",
      "Iter 1260: acc = 0.69370, nmi = 0.11421, ari = 0.15007  ; loss= 0.03336\n",
      "Iter 1400: acc = 0.69647, nmi = 0.11552, ari = 0.15438  ; loss= 0.02725\n",
      "Iter 1540: acc = 0.69332, nmi = 0.11296, ari = 0.14947  ; loss= 0.02928\n",
      "Iter 1680: acc = 0.69452, nmi = 0.11440, ari = 0.15134  ; loss= 0.02774\n",
      "Iter 1820: acc = 0.69590, nmi = 0.11541, ari = 0.15349  ; loss= 0.02729\n",
      "Iter 1960: acc = 0.69625, nmi = 0.11518, ari = 0.15404  ; loss= 0.03252\n",
      "Iter 2100: acc = 0.69350, nmi = 0.11247, ari = 0.14975  ; loss= 0.03037\n",
      "Iter 2240: acc = 0.69377, nmi = 0.11278, ari = 0.15017  ; loss= 0.02481\n",
      "Iter 2380: acc = 0.68885, nmi = 0.10927, ari = 0.14264  ; loss= 0.02189\n",
      "Iter 2520: acc = 0.68943, nmi = 0.10964, ari = 0.14353  ; loss= 0.02114\n",
      "Iter 2660: acc = 0.68678, nmi = 0.10838, ari = 0.13953  ; loss= 0.03357\n",
      "Iter 2800: acc = 0.68623, nmi = 0.10842, ari = 0.13870  ; loss= 0.01882\n",
      "Iter 2940: acc = 0.68845, nmi = 0.10955, ari = 0.14204  ; loss= 0.02273\n",
      "Iter 3080: acc = 0.69002, nmi = 0.11063, ari = 0.14441  ; loss= 0.01965\n",
      "Iter 3220: acc = 0.68950, nmi = 0.11032, ari = 0.14363  ; loss= 0.01692\n",
      "Iter 3360: acc = 0.68425, nmi = 0.10693, ari = 0.13575  ; loss= 0.01657\n",
      "Iter 3500: acc = 0.68630, nmi = 0.10844, ari = 0.13880  ; loss= 0.01807\n",
      "Iter 3640: acc = 0.68922, nmi = 0.11183, ari = 0.14319  ; loss= 0.01986\n",
      "Iter 3780: acc = 0.68788, nmi = 0.11109, ari = 0.14116  ; loss= 0.01827\n",
      "Iter 3920: acc = 0.68705, nmi = 0.11066, ari = 0.13991  ; loss= 0.03293\n",
      "Iter 4060: acc = 0.69042, nmi = 0.11204, ari = 0.14502  ; loss= 0.06074\n",
      "Iter 4200: acc = 0.69043, nmi = 0.11235, ari = 0.14504  ; loss= 0.01736\n",
      "Iter 4340: acc = 0.69100, nmi = 0.11226, ari = 0.14591  ; loss= 0.01681\n",
      "Iter 4480: acc = 0.68848, nmi = 0.11075, ari = 0.14208  ; loss= 0.04229\n",
      "Iter 4620: acc = 0.68823, nmi = 0.11162, ari = 0.14169  ; loss= 0.01398\n",
      "Iter 4760: acc = 0.68840, nmi = 0.11222, ari = 0.14194  ; loss= 0.0154\n",
      "Iter 4900: acc = 0.68777, nmi = 0.11217, ari = 0.14097  ; loss= 0.01452\n",
      "Iter 5040: acc = 0.68620, nmi = 0.11214, ari = 0.13860  ; loss= 0.0479\n",
      "Iter 5180: acc = 0.68522, nmi = 0.11157, ari = 0.13712  ; loss= 0.013\n",
      "Iter 5320: acc = 0.68305, nmi = 0.11012, ari = 0.13390  ; loss= 0.01332\n",
      "Iter 5460: acc = 0.68133, nmi = 0.10850, ari = 0.13139  ; loss= 0.01225\n",
      "Iter 5600: acc = 0.68175, nmi = 0.10827, ari = 0.13201  ; loss= 0.01334\n",
      "Iter 5740: acc = 0.68525, nmi = 0.11026, ari = 0.13720  ; loss= 0.02388\n",
      "Iter 5880: acc = 0.68418, nmi = 0.11003, ari = 0.13560  ; loss= 0.01229\n",
      "Iter 6020: acc = 0.68355, nmi = 0.10928, ari = 0.13467  ; loss= 0.01367\n",
      "Iter 6160: acc = 0.68940, nmi = 0.11235, ari = 0.14346  ; loss= 0.01314\n",
      "Iter 6300: acc = 0.69140, nmi = 0.11397, ari = 0.14652  ; loss= 0.01458\n",
      "Iter 6440: acc = 0.68903, nmi = 0.11179, ari = 0.14291  ; loss= 0.01739\n",
      "Iter 6580: acc = 0.68942, nmi = 0.11226, ari = 0.14349  ; loss= 0.02011\n",
      "Iter 6720: acc = 0.69060, nmi = 0.11308, ari = 0.14529  ; loss= 0.01258\n",
      "Iter 6860: acc = 0.69052, nmi = 0.11266, ari = 0.14517  ; loss= 0.01127\n",
      "Iter 7000: acc = 0.69064, nmi = 0.11275, ari = 0.14535  ; loss= 0.01476\n",
      "Iter 7140: acc = 0.68972, nmi = 0.11187, ari = 0.14395  ; loss= 0.01824\n",
      "Iter 7280: acc = 0.68858, nmi = 0.11019, ari = 0.14223  ; loss= 0.01812\n",
      "Iter 7420: acc = 0.68993, nmi = 0.11129, ari = 0.14428  ; loss= 0.01098\n",
      "Iter 7560: acc = 0.68945, nmi = 0.11101, ari = 0.14355  ; loss= 0.02784\n",
      "Iter 7700: acc = 0.69245, nmi = 0.11220, ari = 0.14814  ; loss= 0.03152\n",
      "Iter 7840: acc = 0.69402, nmi = 0.11345, ari = 0.15056  ; loss= 0.02513\n",
      "Iter 7980: acc = 0.69364, nmi = 0.11272, ari = 0.14996  ; loss= 0.03849\n",
      "Iter 8120: acc = 0.69487, nmi = 0.11340, ari = 0.15187  ; loss= 0.01302\n",
      "Iter 8260: acc = 0.69335, nmi = 0.11220, ari = 0.14952  ; loss= 0.01045\n",
      "Iter 8400: acc = 0.69290, nmi = 0.11172, ari = 0.14883  ; loss= 0.00997\n",
      "Iter 8540: acc = 0.69129, nmi = 0.11073, ari = 0.14635  ; loss= 0.01222\n",
      "Iter 8680: acc = 0.69134, nmi = 0.11070, ari = 0.14642  ; loss= 0.01121\n",
      "Iter 8820: acc = 0.68957, nmi = 0.10955, ari = 0.14373  ; loss= 0.01914\n",
      "Iter 8960: acc = 0.68908, nmi = 0.10962, ari = 0.14300  ; loss= 0.00999\n",
      "Iter 9100: acc = 0.68903, nmi = 0.10961, ari = 0.14292  ; loss= 0.01002\n",
      "Iter 9240: acc = 0.68692, nmi = 0.10777, ari = 0.13973  ; loss= 0.00962\n",
      "saving model to: results/kmeans_clustering_cluster_initialization_average/DEC_model_9370.h5\n",
      "Iter 9380: acc = 0.68973, nmi = 0.11015, ari = 0.14398  ; loss= 0.02145\n",
      "Iter 9520: acc = 0.68985, nmi = 0.11015, ari = 0.14416  ; loss= 0.01524\n",
      "Iter 9660: acc = 0.69020, nmi = 0.11061, ari = 0.14469  ; loss= 0.02107\n",
      "Iter 9800: acc = 0.69033, nmi = 0.11082, ari = 0.14489  ; loss= 0.01006\n",
      "Iter 9940: acc = 0.70021, nmi = 0.11709, ari = 0.16025  ; loss= 0.00975\n",
      "Iter 10080: acc = 0.69756, nmi = 0.11550, ari = 0.15607  ; loss= 0.00898\n",
      "Iter 10220: acc = 0.69779, nmi = 0.11514, ari = 0.15643  ; loss= 0.02191\n",
      "Iter 10360: acc = 0.69889, nmi = 0.11562, ari = 0.15815  ; loss= 0.0108\n",
      "Iter 10500: acc = 0.69579, nmi = 0.11375, ari = 0.15330  ; loss= 0.0794\n",
      "Iter 10640: acc = 0.69640, nmi = 0.11405, ari = 0.15426  ; loss= 0.01111\n",
      "Iter 10780: acc = 0.69682, nmi = 0.11469, ari = 0.15492  ; loss= 0.00967\n",
      "Iter 10920: acc = 0.69726, nmi = 0.11483, ari = 0.15559  ; loss= 0.01386\n",
      "Iter 11060: acc = 0.69881, nmi = 0.11639, ari = 0.15804  ; loss= 0.01196\n",
      "Iter 11200: acc = 0.69592, nmi = 0.11464, ari = 0.15351  ; loss= 0.24455\n",
      "Iter 11340: acc = 0.69532, nmi = 0.11391, ari = 0.15257  ; loss= 0.03915\n",
      "Iter 11480: acc = 0.69535, nmi = 0.11368, ari = 0.15262  ; loss= 0.01002\n",
      "Iter 11620: acc = 0.69269, nmi = 0.11242, ari = 0.14850  ; loss= 0.00841\n",
      "Iter 11760: acc = 0.69554, nmi = 0.11407, ari = 0.15291  ; loss= 0.00934\n",
      "Iter 11900: acc = 0.69554, nmi = 0.11404, ari = 0.15291  ; loss= 0.0088\n",
      "Iter 12040: acc = 0.69337, nmi = 0.11326, ari = 0.14955  ; loss= 0.06625\n",
      "Iter 12180: acc = 0.69247, nmi = 0.11270, ari = 0.14816  ; loss= 0.00862\n",
      "Iter 12320: acc = 0.69254, nmi = 0.11242, ari = 0.14827  ; loss= 0.00805\n",
      "Iter 12460: acc = 0.69375, nmi = 0.11331, ari = 0.15014  ; loss= 0.0636\n",
      "Iter 12600: acc = 0.69385, nmi = 0.11297, ari = 0.15030  ; loss= 0.00839\n",
      "Iter 12740: acc = 0.69185, nmi = 0.11172, ari = 0.14721  ; loss= 0.02643\n",
      "Iter 12880: acc = 0.69167, nmi = 0.11196, ari = 0.14693  ; loss= 0.00845\n",
      "Iter 13020: acc = 0.69190, nmi = 0.11210, ari = 0.14729  ; loss= 0.00807\n",
      "Iter 13160: acc = 0.69010, nmi = 0.11055, ari = 0.14454  ; loss= 0.00905\n",
      "Iter 13300: acc = 0.69095, nmi = 0.11127, ari = 0.14584  ; loss= 0.00848\n",
      "Iter 13440: acc = 0.69075, nmi = 0.11127, ari = 0.14553  ; loss= 0.00814\n",
      "Iter 13580: acc = 0.69159, nmi = 0.11165, ari = 0.14681  ; loss= 0.01019\n",
      "Iter 13720: acc = 0.69260, nmi = 0.11243, ari = 0.14837  ; loss= 0.00764\n",
      "Iter 13860: acc = 0.69455, nmi = 0.11361, ari = 0.15138  ; loss= 0.00774\n",
      "Iter 14000: acc = 0.69405, nmi = 0.11277, ari = 0.15060  ; loss= 0.01361\n",
      "Iter 14140: acc = 0.69419, nmi = 0.11338, ari = 0.15082  ; loss= 0.00804\n",
      "Iter 14280: acc = 0.69359, nmi = 0.11356, ari = 0.14989  ; loss= 0.00771\n",
      "Iter 14420: acc = 0.69070, nmi = 0.11168, ari = 0.14545  ; loss= 0.01244\n",
      "Iter 14560: acc = 0.69134, nmi = 0.11214, ari = 0.14642  ; loss= 0.00745\n",
      "Iter 14700: acc = 0.69105, nmi = 0.11208, ari = 0.14599  ; loss= 0.01213\n",
      "Iter 14840: acc = 0.68982, nmi = 0.11179, ari = 0.14410  ; loss= 0.03102\n",
      "Iter 14980: acc = 0.69012, nmi = 0.11252, ari = 0.14456  ; loss= 0.01121\n",
      "Iter 15120: acc = 0.69190, nmi = 0.11348, ari = 0.14729  ; loss= 0.00759\n",
      "Iter 15260: acc = 0.69537, nmi = 0.11532, ari = 0.15266  ; loss= 0.00823\n",
      "Iter 15400: acc = 0.69364, nmi = 0.11461, ari = 0.14997  ; loss= 0.00735\n",
      "Iter 15540: acc = 0.69365, nmi = 0.11462, ari = 0.14999  ; loss= 0.00794\n",
      "Iter 15680: acc = 0.69437, nmi = 0.11526, ari = 0.15111  ; loss= 0.02028\n",
      "Iter 15820: acc = 0.69697, nmi = 0.11680, ari = 0.15517  ; loss= 0.29135\n",
      "Iter 15960: acc = 0.69876, nmi = 0.11816, ari = 0.15799  ; loss= 0.00716\n",
      "Iter 16100: acc = 0.69902, nmi = 0.11822, ari = 0.15841  ; loss= 0.00758\n",
      "Iter 16240: acc = 0.69722, nmi = 0.11669, ari = 0.15556  ; loss= 0.00717\n",
      "Iter 16380: acc = 0.69622, nmi = 0.11594, ari = 0.15399  ; loss= 0.01161\n",
      "Iter 16520: acc = 0.69565, nmi = 0.11537, ari = 0.15310  ; loss= 0.00665\n",
      "Iter 16660: acc = 0.69472, nmi = 0.11505, ari = 0.15165  ; loss= 0.01074\n",
      "Iter 16800: acc = 0.69419, nmi = 0.11445, ari = 0.15082  ; loss= 0.0116\n",
      "Iter 16940: acc = 0.69314, nmi = 0.11406, ari = 0.14919  ; loss= 0.05162\n",
      "Iter 17080: acc = 0.69430, nmi = 0.11528, ari = 0.15100  ; loss= 0.00703\n",
      "Iter 17220: acc = 0.69375, nmi = 0.11460, ari = 0.15015  ; loss= 0.01499\n",
      "Iter 17360: acc = 0.69365, nmi = 0.11377, ari = 0.14999  ; loss= 0.00727\n",
      "Iter 17500: acc = 0.69414, nmi = 0.11414, ari = 0.15074  ; loss= 0.02613\n",
      "Iter 17640: acc = 0.69224, nmi = 0.11327, ari = 0.14780  ; loss= 0.00814\n",
      "Iter 17780: acc = 0.69232, nmi = 0.11327, ari = 0.14793  ; loss= 0.00727\n",
      "Iter 17920: acc = 0.69155, nmi = 0.11227, ari = 0.14675  ; loss= 0.01928\n",
      "Iter 18060: acc = 0.68602, nmi = 0.10909, ari = 0.13837  ; loss= 0.00696\n",
      "Iter 18200: acc = 0.68485, nmi = 0.10834, ari = 0.13663  ; loss= 0.00668\n",
      "Iter 18340: acc = 0.68610, nmi = 0.10931, ari = 0.13849  ; loss= 0.00722\n",
      "Iter 18480: acc = 0.68737, nmi = 0.10963, ari = 0.14040  ; loss= 0.08628\n",
      "Iter 18620: acc = 0.68948, nmi = 0.11108, ari = 0.14360  ; loss= 0.00702\n",
      "saving model to: results/kmeans_clustering_cluster_initialization_average/DEC_model_18740.h5\n",
      "Iter 18760: acc = 0.69045, nmi = 0.11147, ari = 0.14507  ; loss= 0.00676\n",
      "Iter 18900: acc = 0.69150, nmi = 0.11197, ari = 0.14668  ; loss= 0.01864\n",
      "Iter 19040: acc = 0.69184, nmi = 0.11201, ari = 0.14719  ; loss= 0.00796\n",
      "Iter 19180: acc = 0.69124, nmi = 0.11154, ari = 0.14627  ; loss= 0.00678\n",
      "Iter 19320: acc = 0.69222, nmi = 0.11239, ari = 0.14778  ; loss= 0.02177\n",
      "Iter 19460: acc = 0.69247, nmi = 0.11259, ari = 0.14816  ; loss= 0.01051\n",
      "Iter 19600: acc = 0.69084, nmi = 0.11177, ari = 0.14566  ; loss= 0.0066\n",
      "Iter 19740: acc = 0.69038, nmi = 0.11132, ari = 0.14497  ; loss= 0.00659\n",
      "Iter 19880: acc = 0.68988, nmi = 0.11083, ari = 0.14421  ; loss= 0.01688\n",
      "saving model to: results/kmeans_clustering_cluster_initialization_average/DEC_model_final.h5\n",
      "acc: 0.6898846051227321\n",
      "CPU times: user 11min 19s, sys: 1min 53s, total: 13min 13s\n",
      "Wall time: 9min 44s\n"
     ]
    }
   ],
   "source": [
    "%%time\n",
    "dec_model.compile(optimizer=SGD(0.01, 0.9), loss='kld')\n",
    "y_pred = dec_model.fit(train_features, y=train_labels, batch_size=32, save_dir=results_save_dir, \n",
    "                       kmeans_init=kmeans_init_center)\n",
    "print('acc:', metrics.acc(train_labels, y_pred))"
   ]
  },
  {
   "cell_type": "markdown",
   "metadata": {},
   "source": [
    "### Visualization of the features extracted by the DEC model"
   ]
  },
  {
   "cell_type": "markdown",
   "metadata": {},
   "source": [
    "#### Encoder Output Features"
   ]
  },
  {
   "cell_type": "code",
   "execution_count": 29,
   "metadata": {},
   "outputs": [
    {
     "name": "stdout",
     "output_type": "stream",
     "text": [
      "CPU times: user 6.84 s, sys: 1.11 s, total: 7.96 s\n",
      "Wall time: 6.16 s\n"
     ]
    },
    {
     "data": {
      "image/png": "[encoded data removed]",
      "text/plain": [
       "<Figure size 432x288 with 1 Axes>"
      ]
     },
     "metadata": {},
     "output_type": "display_data"
    }
   ],
   "source": [
    "%%time\n",
    "dec_encoder_model_pred = dec_model.encoder.predict(train_features)\n",
    "pca_mod = PCA(2)\n",
    "pca_mod.fit(dec_encoder_model_pred)\n",
    "reduced_features = pca_mod.transform(dec_encoder_model_pred)\n",
    "\n",
    "fig, ax = plt.subplots(1, 1)\n",
    "sns.scatterplot(reduced_features[:, 0], reduced_features[:, 1], \n",
    "                hue=np.where(train_labels==0, 'elliptical', 'spiral'), ax=ax)\n",
    "ax.text(0.02, 0.92, f'Explained Var: {np.round(np.sum(pca_mod.explained_variance_ratio_), decimals=4)}', \n",
    "        transform=ax.transAxes)\n",
    "ax.set_xlabel('PCA Dim 1')\n",
    "ax.set_ylabel('PCA Dim 2')\n",
    "ax.set_title('PCA Scatterplot for Encoder Features')\n",
    "plt.savefig(f'{results_save_dir}/PCAencoding_pca_features.png')"
   ]
  },
  {
   "cell_type": "markdown",
   "metadata": {},
   "source": [
    "### Experiment 2: K-Means Clustering Point Features Cluster initialization\n",
    "\n",
    "#### DEC Xception Training Regime\n",
    "\n",
    "This part of the notebook defines the generator for the training regime of the DEC model over the features extracted from the Xception architecture"
   ]
  },
  {
   "cell_type": "code",
   "execution_count": 30,
   "metadata": {},
   "outputs": [
    {
     "name": "stdout",
     "output_type": "stream",
     "text": [
      "_________________________________________________________________\n",
      "Layer (type)                 Output Shape              Param #   \n",
      "=================================================================\n",
      "input (InputLayer)           (None, 2048)              0         \n",
      "_________________________________________________________________\n",
      "encoder_0 (Dense)            (None, 500)               1024500   \n",
      "_________________________________________________________________\n",
      "encoder_1 (Dense)            (None, 500)               250500    \n",
      "_________________________________________________________________\n",
      "encoder_2 (Dense)            (None, 2000)              1002000   \n",
      "_________________________________________________________________\n",
      "encoder_3 (Dense)            (None, 10)                20010     \n",
      "_________________________________________________________________\n",
      "clustering (ClusteringLayer) (None, 2)                 20        \n",
      "=================================================================\n",
      "Total params: 2,297,030\n",
      "Trainable params: 2,297,030\n",
      "Non-trainable params: 0\n",
      "_________________________________________________________________\n"
     ]
    }
   ],
   "source": [
    "# Defining our DEC model\n",
    "dec_model = DEC([2048, 500, 500, 2000, 10], n_clusters=2)\n",
    "dec_model.model.summary()"
   ]
  },
  {
   "cell_type": "code",
   "execution_count": 31,
   "metadata": {},
   "outputs": [],
   "source": [
    "results_save_dir = 'results/kmeans_clustering_cluster_initialization_point'\n",
    "if not exist_directory(results_save_dir):\n",
    "    os.makedirs(results_save_dir)"
   ]
  },
  {
   "cell_type": "markdown",
   "metadata": {},
   "source": [
    "#### Pretraining"
   ]
  },
  {
   "cell_type": "code",
   "execution_count": 32,
   "metadata": {
    "scrolled": true
   },
   "outputs": [
    {
     "name": "stdout",
     "output_type": "stream",
     "text": [
      "...Pretraining...\n",
      "Epoch 1/100\n",
      "59968/59968 [==============================] - 5s 86us/step - loss: 0.0151\n",
      "        |==>  acc: 0.6793,  nmi: 0.0940  <==|\n",
      "Epoch 2/100\n",
      "59968/59968 [==============================] - 4s 68us/step - loss: 0.0080\n",
      "Epoch 3/100\n",
      "59968/59968 [==============================] - 4s 68us/step - loss: 0.0071\n",
      "Epoch 4/100\n",
      "59968/59968 [==============================] - 4s 69us/step - loss: 0.0067\n",
      "Epoch 5/100\n",
      "59968/59968 [==============================] - 4s 70us/step - loss: 0.0065\n",
      "Epoch 6/100\n",
      "59968/59968 [==============================] - 4s 71us/step - loss: 0.0064\n",
      "Epoch 7/100\n",
      "59968/59968 [==============================] - 4s 68us/step - loss: 0.0063\n",
      "Epoch 8/100\n",
      "59968/59968 [==============================] - 4s 68us/step - loss: 0.0062\n",
      "Epoch 9/100\n",
      "59968/59968 [==============================] - 4s 69us/step - loss: 0.0061\n",
      "Epoch 10/100\n",
      "59968/59968 [==============================] - 4s 68us/step - loss: 0.0060\n",
      "Epoch 11/100\n",
      "59968/59968 [==============================] - 4s 68us/step - loss: 0.0060\n",
      "        |==>  acc: 0.6798,  nmi: 0.0952  <==|\n",
      "Epoch 12/100\n",
      "59968/59968 [==============================] - 4s 74us/step - loss: 0.0060\n",
      "Epoch 13/100\n",
      "59968/59968 [==============================] - 4s 73us/step - loss: 0.0059\n",
      "Epoch 14/100\n",
      "59968/59968 [==============================] - 4s 74us/step - loss: 0.0059\n",
      "Epoch 15/100\n",
      "59968/59968 [==============================] - 4s 75us/step - loss: 0.0058\n",
      "Epoch 16/100\n",
      "59968/59968 [==============================] - 5s 75us/step - loss: 0.0058\n",
      "Epoch 17/100\n",
      "59968/59968 [==============================] - 4s 75us/step - loss: 0.0058\n",
      "Epoch 18/100\n",
      "59968/59968 [==============================] - 4s 71us/step - loss: 0.0058\n",
      "Epoch 19/100\n",
      "59968/59968 [==============================] - 4s 70us/step - loss: 0.0057\n",
      "Epoch 20/100\n",
      "59968/59968 [==============================] - 4s 71us/step - loss: 0.0057\n",
      "Epoch 21/100\n",
      "59968/59968 [==============================] - 4s 70us/step - loss: 0.0057\n",
      "        |==>  acc: 0.6707,  nmi: 0.0861  <==|\n",
      "Epoch 22/100\n",
      "59968/59968 [==============================] - 4s 70us/step - loss: 0.0056\n",
      "Epoch 23/100\n",
      "59968/59968 [==============================] - 4s 69us/step - loss: 0.0056\n",
      "Epoch 24/100\n",
      "59968/59968 [==============================] - 4s 69us/step - loss: 0.0056\n",
      "Epoch 25/100\n",
      "59968/59968 [==============================] - 4s 68us/step - loss: 0.0056\n",
      "Epoch 26/100\n",
      "59968/59968 [==============================] - 5s 75us/step - loss: 0.0055\n",
      "Epoch 27/100\n",
      "59968/59968 [==============================] - 4s 73us/step - loss: 0.0055\n",
      "Epoch 28/100\n",
      "59968/59968 [==============================] - 4s 69us/step - loss: 0.0055\n",
      "Epoch 29/100\n",
      "59968/59968 [==============================] - 4s 68us/step - loss: 0.0055\n",
      "Epoch 30/100\n",
      "59968/59968 [==============================] - 4s 69us/step - loss: 0.0055\n",
      "Epoch 31/100\n",
      "59968/59968 [==============================] - 4s 68us/step - loss: 0.0055\n",
      "        |==>  acc: 0.6834,  nmi: 0.0988  <==|\n",
      "Epoch 32/100\n",
      "59968/59968 [==============================] - 4s 72us/step - loss: 0.0054\n",
      "Epoch 33/100\n",
      "59968/59968 [==============================] - 4s 70us/step - loss: 0.0054\n",
      "Epoch 34/100\n",
      "59968/59968 [==============================] - 4s 70us/step - loss: 0.0054\n",
      "Epoch 35/100\n",
      "59968/59968 [==============================] - 4s 70us/step - loss: 0.0054\n",
      "Epoch 36/100\n",
      "59968/59968 [==============================] - 4s 70us/step - loss: 0.0054\n",
      "Epoch 37/100\n",
      "59968/59968 [==============================] - 4s 70us/step - loss: 0.0054\n",
      "Epoch 38/100\n",
      "59968/59968 [==============================] - 4s 71us/step - loss: 0.0054\n",
      "Epoch 39/100\n",
      "59968/59968 [==============================] - 4s 70us/step - loss: 0.0053\n",
      "Epoch 40/100\n",
      "59968/59968 [==============================] - 4s 70us/step - loss: 0.0053\n",
      "Epoch 41/100\n",
      "59968/59968 [==============================] - 4s 70us/step - loss: 0.0053\n",
      "        |==>  acc: 0.6677,  nmi: 0.0821  <==|\n",
      "Epoch 42/100\n",
      "59968/59968 [==============================] - 4s 71us/step - loss: 0.0053\n",
      "Epoch 43/100\n",
      "59968/59968 [==============================] - 4s 68us/step - loss: 0.0053\n",
      "Epoch 44/100\n",
      "59968/59968 [==============================] - 4s 69us/step - loss: 0.0053\n",
      "Epoch 45/100\n",
      "59968/59968 [==============================] - 4s 69us/step - loss: 0.0053\n",
      "Epoch 46/100\n",
      "59968/59968 [==============================] - 4s 69us/step - loss: 0.0052\n",
      "Epoch 47/100\n",
      "59968/59968 [==============================] - 4s 69us/step - loss: 0.0053\n",
      "Epoch 48/100\n",
      "59968/59968 [==============================] - 4s 68us/step - loss: 0.0052\n",
      "Epoch 49/100\n",
      "59968/59968 [==============================] - 4s 70us/step - loss: 0.0052\n",
      "Epoch 50/100\n",
      "59968/59968 [==============================] - 4s 69us/step - loss: 0.0052\n",
      "Epoch 51/100\n",
      "59968/59968 [==============================] - 4s 70us/step - loss: 0.0052\n",
      "        |==>  acc: 0.6900,  nmi: 0.1058  <==|\n",
      "Epoch 52/100\n",
      "59968/59968 [==============================] - 4s 74us/step - loss: 0.0052\n",
      "Epoch 53/100\n",
      "59968/59968 [==============================] - 4s 70us/step - loss: 0.0052\n",
      "Epoch 54/100\n",
      "59968/59968 [==============================] - 4s 69us/step - loss: 0.0052\n",
      "Epoch 55/100\n",
      "59968/59968 [==============================] - 4s 69us/step - loss: 0.0051\n",
      "Epoch 56/100\n",
      "59968/59968 [==============================] - 4s 70us/step - loss: 0.0051\n",
      "Epoch 57/100\n",
      "59968/59968 [==============================] - 4s 69us/step - loss: 0.0051\n",
      "Epoch 58/100\n",
      "59968/59968 [==============================] - 4s 69us/step - loss: 0.0051\n",
      "Epoch 59/100\n",
      "59968/59968 [==============================] - 4s 69us/step - loss: 0.0051\n",
      "Epoch 60/100\n",
      "59968/59968 [==============================] - 4s 69us/step - loss: 0.0051\n",
      "Epoch 61/100\n",
      "59968/59968 [==============================] - 4s 68us/step - loss: 0.0051\n",
      "        |==>  acc: 0.6850,  nmi: 0.0994  <==|\n",
      "Epoch 62/100\n",
      "59968/59968 [==============================] - 4s 68us/step - loss: 0.0051\n",
      "Epoch 63/100\n",
      "59968/59968 [==============================] - 4s 68us/step - loss: 0.0051\n",
      "Epoch 64/100\n",
      "59968/59968 [==============================] - 4s 69us/step - loss: 0.0051\n",
      "Epoch 65/100\n",
      "59968/59968 [==============================] - 4s 68us/step - loss: 0.0051\n",
      "Epoch 66/100\n",
      "59968/59968 [==============================] - 4s 68us/step - loss: 0.0051\n",
      "Epoch 67/100\n",
      "59968/59968 [==============================] - 4s 68us/step - loss: 0.0050\n",
      "Epoch 68/100\n",
      "59968/59968 [==============================] - 4s 68us/step - loss: 0.0050\n",
      "Epoch 69/100\n",
      "59968/59968 [==============================] - 4s 69us/step - loss: 0.0050\n",
      "Epoch 70/100\n",
      "59968/59968 [==============================] - 4s 68us/step - loss: 0.0050\n",
      "Epoch 71/100\n",
      "59968/59968 [==============================] - 4s 69us/step - loss: 0.0050\n",
      "        |==>  acc: 0.6920,  nmi: 0.1074  <==|\n",
      "Epoch 72/100\n",
      "59968/59968 [==============================] - 4s 70us/step - loss: 0.0050\n",
      "Epoch 73/100\n",
      "59968/59968 [==============================] - 4s 69us/step - loss: 0.0050\n",
      "Epoch 74/100\n",
      "59968/59968 [==============================] - 4s 68us/step - loss: 0.0050\n",
      "Epoch 75/100\n",
      "59968/59968 [==============================] - 4s 68us/step - loss: 0.0050\n",
      "Epoch 76/100\n",
      "59968/59968 [==============================] - 4s 69us/step - loss: 0.0050\n",
      "Epoch 77/100\n",
      "59968/59968 [==============================] - 4s 70us/step - loss: 0.0050\n",
      "Epoch 78/100\n",
      "59968/59968 [==============================] - 4s 69us/step - loss: 0.0049\n",
      "Epoch 79/100\n",
      "59968/59968 [==============================] - 4s 70us/step - loss: 0.0049\n",
      "Epoch 80/100\n",
      "59968/59968 [==============================] - 4s 70us/step - loss: 0.0049\n",
      "Epoch 81/100\n",
      "59968/59968 [==============================] - 4s 71us/step - loss: 0.0049\n",
      "        |==>  acc: 0.6884,  nmi: 0.1033  <==|\n",
      "Epoch 82/100\n",
      "59968/59968 [==============================] - 5s 75us/step - loss: 0.0049\n",
      "Epoch 83/100\n",
      "59968/59968 [==============================] - 4s 68us/step - loss: 0.0049\n",
      "Epoch 84/100\n",
      "59968/59968 [==============================] - 4s 69us/step - loss: 0.0049\n",
      "Epoch 85/100\n",
      "59968/59968 [==============================] - 4s 68us/step - loss: 0.0049\n",
      "Epoch 86/100\n",
      "59968/59968 [==============================] - 4s 68us/step - loss: 0.0049\n",
      "Epoch 87/100\n",
      "59968/59968 [==============================] - 4s 68us/step - loss: 0.0049\n",
      "Epoch 88/100\n",
      "59968/59968 [==============================] - 4s 68us/step - loss: 0.0049\n",
      "Epoch 89/100\n",
      "59968/59968 [==============================] - 4s 69us/step - loss: 0.0049\n",
      "Epoch 90/100\n",
      "59968/59968 [==============================] - 4s 69us/step - loss: 0.0049\n",
      "Epoch 91/100\n",
      "59968/59968 [==============================] - 4s 69us/step - loss: 0.0049\n",
      "        |==>  acc: 0.6842,  nmi: 0.0991  <==|\n",
      "Epoch 92/100\n",
      "59968/59968 [==============================] - 4s 69us/step - loss: 0.0049\n",
      "Epoch 93/100\n",
      "59968/59968 [==============================] - 4s 70us/step - loss: 0.0048\n",
      "Epoch 94/100\n",
      "59968/59968 [==============================] - 4s 70us/step - loss: 0.0048\n",
      "Epoch 95/100\n",
      "59968/59968 [==============================] - 4s 70us/step - loss: 0.0048\n",
      "Epoch 96/100\n",
      "59968/59968 [==============================] - 4s 70us/step - loss: 0.0048\n",
      "Epoch 97/100\n",
      "59968/59968 [==============================] - 4s 70us/step - loss: 0.0048\n",
      "Epoch 98/100\n",
      "59968/59968 [==============================] - 4s 70us/step - loss: 0.0048\n",
      "Epoch 99/100\n",
      "59968/59968 [==============================] - 4s 70us/step - loss: 0.0048\n",
      "Epoch 100/100\n",
      "59968/59968 [==============================] - 4s 71us/step - loss: 0.0048\n",
      "Pretraining time: 466s\n",
      "Pretrained weights are saved to results/kmeans_clustering_cluster_initialization_point/ae_weights.h5\n",
      "CPU times: user 7min 10s, sys: 1min 22s, total: 8min 33s\n",
      "Wall time: 7min 46s\n"
     ]
    }
   ],
   "source": [
    "%%time\n",
    "dec_model.pretrain(train_features, train_labels, epochs=100, save_dir=results_save_dir)"
   ]
  },
  {
   "cell_type": "markdown",
   "metadata": {},
   "source": [
    "#### Cluster Centers"
   ]
  },
  {
   "cell_type": "code",
   "execution_count": 33,
   "metadata": {},
   "outputs": [
    {
     "data": {
      "text/plain": [
       "['spiral/', 'elliptical/']"
      ]
     },
     "execution_count": 33,
     "metadata": {},
     "output_type": "execute_result"
    }
   ],
   "source": [
    "get_subdirectory_names(training_directory_path)"
   ]
  },
  {
   "cell_type": "code",
   "execution_count": 34,
   "metadata": {},
   "outputs": [],
   "source": [
    "high_conf_ellip_im_arr = []\n",
    "for galaxy_id in high_conf_ellip_galaxies:\n",
    "    image_path = construct_path(elliptical_training_directory_path, f'{galaxy_id}{image_extension}')\n",
    "    high_conf_ellip_im_arr.append(image_preprocessing_function(np.array(Image.open(image_path))))\n",
    "high_conf_ellip_im_arr = np.array(high_conf_ellip_im_arr)\n",
    "\n",
    "high_conf_spiral_im_arr = []\n",
    "for galaxy_id in high_conf_spiral_galaxies:\n",
    "    image_path = construct_path(spiral_training_directory_path, f'{galaxy_id}{image_extension}')\n",
    "    high_conf_spiral_im_arr.append(image_preprocessing_function(np.array(Image.open(image_path))))\n",
    "high_conf_spiral_im_arr = np.array(high_conf_spiral_im_arr)"
   ]
  },
  {
   "cell_type": "markdown",
   "metadata": {},
   "source": [
    "#### High Confidence Images Base Xception Model Features"
   ]
  },
  {
   "cell_type": "code",
   "execution_count": 35,
   "metadata": {},
   "outputs": [
    {
     "name": "stdout",
     "output_type": "stream",
     "text": [
      "CPU times: user 196 ms, sys: 116 ms, total: 312 ms\n",
      "Wall time: 288 ms\n"
     ]
    }
   ],
   "source": [
    "%%time\n",
    "# Getting the prediction\n",
    "high_conf_ellip_pred = base_xception_model.predict(high_conf_ellip_im_arr)\n",
    "high_conf_spiral_pred = base_xception_model.predict(high_conf_spiral_im_arr)\n",
    "high_conf_pred = np.vstack((high_conf_ellip_pred, high_conf_spiral_pred))\n",
    "high_conf_label = ['Elliptical']*num_samples + ['Spiral']*num_samples"
   ]
  },
  {
   "cell_type": "markdown",
   "metadata": {},
   "source": [
    "#### PCA Visualization"
   ]
  },
  {
   "cell_type": "code",
   "execution_count": 36,
   "metadata": {},
   "outputs": [
    {
     "data": {
      "image/png": "[encoded data removed]",
      "text/plain": [
       "<Figure size 432x288 with 1 Axes>"
      ]
     },
     "metadata": {},
     "output_type": "display_data"
    }
   ],
   "source": [
    "pca_mod = PCA(2)\n",
    "pca_mod.fit(high_conf_pred)\n",
    "reduced_features = pca_mod.transform(high_conf_pred)\n",
    "\n",
    "fig, ax = plt.subplots(1, 1)\n",
    "sns.scatterplot(reduced_features[:, 0], reduced_features[:, 1], \n",
    "                hue=high_conf_label, ax=ax)\n",
    "ax.text(0.02, 0.92, f'Explained Var: {np.round(np.sum(pca_mod.explained_variance_ratio_), decimals=4)}', \n",
    "        transform=ax.transAxes)\n",
    "ax.set_xlabel('PCA Dim 1')\n",
    "ax.set_ylabel('PCA Dim 2')\n",
    "ax.set_title('PCA Scatterplot of Xception Model Features for High Confidence Galxies')\n",
    "plt.savefig(f'{results_save_dir}/PCA_Base_Xception_Model_High_Confidence_Predictions.png')"
   ]
  },
  {
   "cell_type": "markdown",
   "metadata": {},
   "source": [
    "#### High Confidence Images Pretrain Model Prediction"
   ]
  },
  {
   "cell_type": "code",
   "execution_count": 37,
   "metadata": {},
   "outputs": [
    {
     "name": "stdout",
     "output_type": "stream",
     "text": [
      "CPU times: user 248 ms, sys: 60 ms, total: 308 ms\n",
      "Wall time: 239 ms\n"
     ]
    }
   ],
   "source": [
    "%%time\n",
    "# Getting the prediction\n",
    "high_conf_encoder_features = dec_model.encoder.predict(high_conf_pred)"
   ]
  },
  {
   "cell_type": "markdown",
   "metadata": {},
   "source": [
    "#### PCA Visualization"
   ]
  },
  {
   "cell_type": "code",
   "execution_count": 38,
   "metadata": {},
   "outputs": [
    {
     "data": {
      "image/png": "[encoded data removed]",
      "text/plain": [
       "<Figure size 432x288 with 1 Axes>"
      ]
     },
     "metadata": {},
     "output_type": "display_data"
    }
   ],
   "source": [
    "pca_mod = PCA(2)\n",
    "pca_mod.fit(high_conf_encoder_features)\n",
    "reduced_features = pca_mod.transform(high_conf_encoder_features)\n",
    "\n",
    "fig, ax = plt.subplots(1, 1)\n",
    "sns.scatterplot(reduced_features[:, 0], reduced_features[:, 1], \n",
    "                hue=high_conf_label, ax=ax)\n",
    "ax.text(0.02, 0.92, f'Explained Var: {np.round(np.sum(pca_mod.explained_variance_ratio_), decimals=4)}', \n",
    "        transform=ax.transAxes)\n",
    "ax.set_xlabel('PCA Dim 1')\n",
    "ax.set_ylabel('PCA Dim 2')\n",
    "ax.set_title('PCA Scatterplot of Encoder Features for High Confidence Galxies')\n",
    "plt.savefig(f'{results_save_dir}/PCA_Pretrain_Model_High_Confidence_Predictions.png')"
   ]
  },
  {
   "cell_type": "markdown",
   "metadata": {},
   "source": [
    "#### Experiment 1: Cluster Center Initialization: Average Features"
   ]
  },
  {
   "cell_type": "code",
   "execution_count": 39,
   "metadata": {},
   "outputs": [
    {
     "data": {
      "text/plain": [
       "(2, 10)"
      ]
     },
     "execution_count": 39,
     "metadata": {},
     "output_type": "execute_result"
    }
   ],
   "source": [
    "ellip_center = high_conf_encoder_features[0]\n",
    "spiral_center = high_conf_encoder_features[num_samples]\n",
    "kmeans_init_center = np.array([ellip_center, spiral_center])\n",
    "kmeans_init_center.shape"
   ]
  },
  {
   "cell_type": "markdown",
   "metadata": {},
   "source": [
    "#### Clustering"
   ]
  },
  {
   "cell_type": "code",
   "execution_count": 40,
   "metadata": {},
   "outputs": [
    {
     "name": "stdout",
     "output_type": "stream",
     "text": [
      "Update interval 140\n",
      "Save interval 9370\n",
      "Initializing cluster centers with k-means.\n",
      "Iter 0: acc = 0.68927, nmi = 0.10530, ari = 0.14324  ; loss= 0\n",
      "saving model to: results/kmeans_clustering_cluster_initialization_point/DEC_model_0.h5\n",
      "Iter 140: acc = 0.68718, nmi = 0.10442, ari = 0.14013  ; loss= 0.00039\n",
      "Iter 280: acc = 0.68482, nmi = 0.10303, ari = 0.13661  ; loss= 0.00211\n",
      "Iter 420: acc = 0.68662, nmi = 0.10476, ari = 0.13929  ; loss= 0.00839\n",
      "Iter 560: acc = 0.68517, nmi = 0.10394, ari = 0.13713  ; loss= 0.02845\n",
      "Iter 700: acc = 0.68478, nmi = 0.10318, ari = 0.13656  ; loss= 0.04049\n",
      "Iter 840: acc = 0.68580, nmi = 0.10426, ari = 0.13807  ; loss= 0.04104\n",
      "Iter 980: acc = 0.68695, nmi = 0.10565, ari = 0.13979  ; loss= 0.04129\n",
      "Iter 1120: acc = 0.68560, nmi = 0.10521, ari = 0.13777  ; loss= 0.03406\n",
      "Iter 1260: acc = 0.68560, nmi = 0.10516, ari = 0.13777  ; loss= 0.03199\n",
      "Iter 1400: acc = 0.68600, nmi = 0.10532, ari = 0.13837  ; loss= 0.03165\n",
      "Iter 1540: acc = 0.68825, nmi = 0.10728, ari = 0.14174  ; loss= 0.02732\n",
      "Iter 1680: acc = 0.68682, nmi = 0.10630, ari = 0.13959  ; loss= 0.02515\n",
      "Iter 1820: acc = 0.69064, nmi = 0.10974, ari = 0.14535  ; loss= 0.02329\n",
      "Iter 1960: acc = 0.69172, nmi = 0.11080, ari = 0.14701  ; loss= 0.02656\n",
      "Iter 2100: acc = 0.69045, nmi = 0.10987, ari = 0.14507  ; loss= 0.03213\n",
      "Iter 2240: acc = 0.69179, nmi = 0.11044, ari = 0.14711  ; loss= 0.02436\n",
      "Iter 2380: acc = 0.69160, nmi = 0.11043, ari = 0.14683  ; loss= 0.02262\n",
      "Iter 2520: acc = 0.69205, nmi = 0.11125, ari = 0.14752  ; loss= 0.02053\n",
      "Iter 2660: acc = 0.69119, nmi = 0.11070, ari = 0.14619  ; loss= 0.02332\n",
      "Iter 2800: acc = 0.69107, nmi = 0.11087, ari = 0.14601  ; loss= 0.02039\n",
      "Iter 2940: acc = 0.68912, nmi = 0.10947, ari = 0.14305  ; loss= 0.01872\n",
      "Iter 3080: acc = 0.68967, nmi = 0.11019, ari = 0.14388  ; loss= 0.02133\n",
      "Iter 3220: acc = 0.69025, nmi = 0.11084, ari = 0.14477  ; loss= 0.01881\n",
      "Iter 3360: acc = 0.69232, nmi = 0.11246, ari = 0.14793  ; loss= 0.01648\n",
      "Iter 3500: acc = 0.69575, nmi = 0.11556, ari = 0.15326  ; loss= 0.02063\n",
      "Iter 3640: acc = 0.69452, nmi = 0.11452, ari = 0.15134  ; loss= 0.01684\n",
      "Iter 3780: acc = 0.69784, nmi = 0.11519, ari = 0.15651  ; loss= 0.02326\n",
      "Iter 3920: acc = 0.70019, nmi = 0.11699, ari = 0.16022  ; loss= 0.01602\n",
      "Iter 4060: acc = 0.69934, nmi = 0.11643, ari = 0.15888  ; loss= 0.02018\n",
      "Iter 4200: acc = 0.69721, nmi = 0.11477, ari = 0.15551  ; loss= 0.02014\n",
      "Iter 4340: acc = 0.69635, nmi = 0.11432, ari = 0.15418  ; loss= 0.01772\n",
      "Iter 4480: acc = 0.69942, nmi = 0.11695, ari = 0.15902  ; loss= 0.01669\n",
      "Iter 4620: acc = 0.69731, nmi = 0.11562, ari = 0.15568  ; loss= 0.02099\n",
      "Iter 4760: acc = 0.69796, nmi = 0.11609, ari = 0.15671  ; loss= 0.01803\n",
      "Iter 4900: acc = 0.69659, nmi = 0.11501, ari = 0.15456  ; loss= 0.01949\n",
      "Iter 5040: acc = 0.69640, nmi = 0.11377, ari = 0.15425  ; loss= 0.01563\n",
      "Iter 5180: acc = 0.69590, nmi = 0.11310, ari = 0.15347  ; loss= 0.01329\n",
      "Iter 5320: acc = 0.69615, nmi = 0.11346, ari = 0.15386  ; loss= 0.014\n",
      "Iter 5460: acc = 0.69207, nmi = 0.11089, ari = 0.14754  ; loss= 0.0701\n",
      "Iter 5600: acc = 0.69267, nmi = 0.11131, ari = 0.14847  ; loss= 0.02111\n",
      "Iter 5740: acc = 0.69279, nmi = 0.11132, ari = 0.14864  ; loss= 0.014\n",
      "Iter 5880: acc = 0.69172, nmi = 0.10952, ari = 0.14700  ; loss= 0.0191\n",
      "Iter 6020: acc = 0.68842, nmi = 0.10673, ari = 0.14199  ; loss= 0.01671\n",
      "Iter 6160: acc = 0.68758, nmi = 0.10654, ari = 0.14074  ; loss= 0.01232\n",
      "Iter 6300: acc = 0.68750, nmi = 0.10647, ari = 0.14061  ; loss= 0.01288\n",
      "Iter 6440: acc = 0.68393, nmi = 0.10349, ari = 0.13531  ; loss= 0.0119\n",
      "Iter 6580: acc = 0.67998, nmi = 0.10045, ari = 0.12955  ; loss= 0.01177\n",
      "Iter 6720: acc = 0.68180, nmi = 0.10201, ari = 0.13218  ; loss= 0.01258\n",
      "Iter 6860: acc = 0.68140, nmi = 0.10174, ari = 0.13160  ; loss= 0.01162\n",
      "Iter 7000: acc = 0.67463, nmi = 0.09774, ari = 0.12191  ; loss= 0.01087\n",
      "Iter 7140: acc = 0.67651, nmi = 0.09892, ari = 0.12457  ; loss= 0.01535\n",
      "Iter 7280: acc = 0.67574, nmi = 0.09836, ari = 0.12349  ; loss= 0.01607\n",
      "Iter 7420: acc = 0.67593, nmi = 0.09913, ari = 0.12373  ; loss= 0.01602\n",
      "Iter 7560: acc = 0.67679, nmi = 0.10022, ari = 0.12495  ; loss= 0.01174\n",
      "Iter 7700: acc = 0.67793, nmi = 0.10090, ari = 0.12657  ; loss= 0.01126\n",
      "Iter 7840: acc = 0.67569, nmi = 0.09947, ari = 0.12339  ; loss= 0.07454\n",
      "Iter 7980: acc = 0.67783, nmi = 0.10153, ari = 0.12642  ; loss= 0.059\n",
      "Iter 8120: acc = 0.67905, nmi = 0.10212, ari = 0.12817  ; loss= 0.01039\n",
      "Iter 8260: acc = 0.67631, nmi = 0.10053, ari = 0.12425  ; loss= 0.01027\n",
      "Iter 8400: acc = 0.68110, nmi = 0.10544, ari = 0.13111  ; loss= 0.05836\n",
      "Iter 8540: acc = 0.68732, nmi = 0.10816, ari = 0.14033  ; loss= 0.01195\n",
      "Iter 8680: acc = 0.68810, nmi = 0.10842, ari = 0.14151  ; loss= 0.02808\n",
      "Iter 8820: acc = 0.68838, nmi = 0.10870, ari = 0.14194  ; loss= 0.00962\n",
      "Iter 8960: acc = 0.68160, nmi = 0.10429, ari = 0.13186  ; loss= 0.01046\n",
      "Iter 9100: acc = 0.68313, nmi = 0.10484, ari = 0.13412  ; loss= 0.04981\n",
      "Iter 9240: acc = 0.68318, nmi = 0.10510, ari = 0.13419  ; loss= 0.00937\n",
      "saving model to: results/kmeans_clustering_cluster_initialization_point/DEC_model_9370.h5\n",
      "Iter 9380: acc = 0.68762, nmi = 0.10729, ari = 0.14079  ; loss= 0.00929\n",
      "Iter 9520: acc = 0.68728, nmi = 0.10695, ari = 0.14029  ; loss= 0.00978\n",
      "Iter 9660: acc = 0.68485, nmi = 0.10496, ari = 0.13666  ; loss= 0.03884\n",
      "Iter 9800: acc = 0.68617, nmi = 0.10578, ari = 0.13862  ; loss= 0.00983\n",
      "Iter 9940: acc = 0.68640, nmi = 0.10570, ari = 0.13896  ; loss= 0.00913\n",
      "Iter 10080: acc = 0.68780, nmi = 0.10615, ari = 0.14106  ; loss= 0.02165\n",
      "Iter 10220: acc = 0.68823, nmi = 0.10627, ari = 0.14171  ; loss= 0.01262\n",
      "Iter 10360: acc = 0.68487, nmi = 0.10409, ari = 0.13669  ; loss= 0.00904\n",
      "Iter 10500: acc = 0.68472, nmi = 0.10418, ari = 0.13646  ; loss= 0.0088\n",
      "Iter 10640: acc = 0.68578, nmi = 0.10498, ari = 0.13805  ; loss= 0.02007\n",
      "Iter 10780: acc = 0.68482, nmi = 0.10421, ari = 0.13661  ; loss= 0.009\n",
      "Iter 10920: acc = 0.68593, nmi = 0.10506, ari = 0.13827  ; loss= 0.00891\n",
      "Iter 11060: acc = 0.68862, nmi = 0.10556, ari = 0.14227  ; loss= 0.01254\n",
      "Iter 11200: acc = 0.69099, nmi = 0.10605, ari = 0.14582  ; loss= 0.04079\n",
      "Iter 11340: acc = 0.69210, nmi = 0.10764, ari = 0.14754  ; loss= 0.03466\n",
      "Iter 11480: acc = 0.69200, nmi = 0.10766, ari = 0.14739  ; loss= 0.01211\n",
      "Iter 11620: acc = 0.69114, nmi = 0.10698, ari = 0.14607  ; loss= 0.00911\n",
      "Iter 11760: acc = 0.69187, nmi = 0.10716, ari = 0.14718  ; loss= 0.00933\n",
      "Iter 11900: acc = 0.69125, nmi = 0.10689, ari = 0.14625  ; loss= 0.00819\n",
      "Iter 12040: acc = 0.69317, nmi = 0.10820, ari = 0.14917  ; loss= 0.0104\n",
      "Iter 12180: acc = 0.69230, nmi = 0.10729, ari = 0.14783  ; loss= 0.0145\n",
      "Iter 12320: acc = 0.69514, nmi = 0.10917, ari = 0.15217  ; loss= 0.0085\n",
      "Iter 12460: acc = 0.69517, nmi = 0.10909, ari = 0.15222  ; loss= 0.01097\n",
      "Iter 12600: acc = 0.69714, nmi = 0.11116, ari = 0.15529  ; loss= 0.00872\n",
      "Iter 12740: acc = 0.69754, nmi = 0.11138, ari = 0.15591  ; loss= 0.02252\n",
      "Iter 12880: acc = 0.69849, nmi = 0.11209, ari = 0.15739  ; loss= 0.00789\n",
      "Iter 13020: acc = 0.69779, nmi = 0.11103, ari = 0.15626  ; loss= 0.03256\n",
      "Iter 13160: acc = 0.69799, nmi = 0.11163, ari = 0.15660  ; loss= 0.00834\n",
      "Iter 13300: acc = 0.69522, nmi = 0.10985, ari = 0.15233  ; loss= 0.01346\n",
      "Iter 13440: acc = 0.69480, nmi = 0.10890, ari = 0.15165  ; loss= 0.0081\n",
      "Iter 13580: acc = 0.69665, nmi = 0.11057, ari = 0.15453  ; loss= 0.00778\n",
      "Iter 13720: acc = 0.69640, nmi = 0.11020, ari = 0.15413  ; loss= 0.00745\n",
      "Iter 13860: acc = 0.69562, nmi = 0.10994, ari = 0.15293  ; loss= 0.01424\n",
      "Iter 14000: acc = 0.69722, nmi = 0.11107, ari = 0.15541  ; loss= 0.01013\n",
      "Iter 14140: acc = 0.69899, nmi = 0.11303, ari = 0.15820  ; loss= 0.01986\n",
      "Iter 14280: acc = 0.69772, nmi = 0.11277, ari = 0.15625  ; loss= 0.04986\n",
      "Iter 14420: acc = 0.70006, nmi = 0.11516, ari = 0.15995  ; loss= 0.01127\n",
      "Iter 14560: acc = 0.70119, nmi = 0.11584, ari = 0.16174  ; loss= 0.00726\n",
      "Iter 14700: acc = 0.70216, nmi = 0.11562, ari = 0.16320  ; loss= 0.0433\n",
      "Iter 14840: acc = 0.70159, nmi = 0.11497, ari = 0.16229  ; loss= 0.02463\n",
      "Iter 14980: acc = 0.70136, nmi = 0.11437, ari = 0.16189  ; loss= 0.00719\n",
      "Iter 15120: acc = 0.70131, nmi = 0.11449, ari = 0.16182  ; loss= 0.00857\n",
      "Iter 15260: acc = 0.70054, nmi = 0.11358, ari = 0.16059  ; loss= 0.00744\n",
      "Iter 15400: acc = 0.70134, nmi = 0.11388, ari = 0.16181  ; loss= 0.00756\n",
      "Iter 15540: acc = 0.70092, nmi = 0.11369, ari = 0.16118  ; loss= 0.0073\n",
      "Iter 15680: acc = 0.70106, nmi = 0.11355, ari = 0.16136  ; loss= 0.01197\n",
      "Iter 15820: acc = 0.70122, nmi = 0.11430, ari = 0.16168  ; loss= 0.00732\n",
      "Iter 15960: acc = 0.70122, nmi = 0.11450, ari = 0.16170  ; loss= 0.0074\n",
      "Iter 16100: acc = 0.70176, nmi = 0.11513, ari = 0.16256  ; loss= 0.00717\n",
      "Iter 16240: acc = 0.70147, nmi = 0.11495, ari = 0.16211  ; loss= 0.00943\n",
      "Iter 16380: acc = 0.70109, nmi = 0.11498, ari = 0.16153  ; loss= 0.0266\n",
      "Iter 16520: acc = 0.70101, nmi = 0.11528, ari = 0.16142  ; loss= 0.00764\n",
      "Iter 16660: acc = 0.69937, nmi = 0.11379, ari = 0.15883  ; loss= 0.00695\n",
      "Iter 16800: acc = 0.69947, nmi = 0.11379, ari = 0.15898  ; loss= 0.00669\n",
      "Iter 16940: acc = 0.69585, nmi = 0.11124, ari = 0.15334  ; loss= 0.00882\n",
      "Iter 17080: acc = 0.69599, nmi = 0.11140, ari = 0.15355  ; loss= 0.0095\n",
      "Iter 17220: acc = 0.69594, nmi = 0.11125, ari = 0.15347  ; loss= 0.00649\n",
      "Iter 17360: acc = 0.69652, nmi = 0.11180, ari = 0.15438  ; loss= 0.01148\n",
      "Iter 17500: acc = 0.69876, nmi = 0.11372, ari = 0.15788  ; loss= 0.0113\n",
      "Iter 17640: acc = 0.69866, nmi = 0.11352, ari = 0.15772  ; loss= 0.00975\n",
      "Iter 17780: acc = 0.70017, nmi = 0.11477, ari = 0.16011  ; loss= 0.03906\n",
      "Iter 17920: acc = 0.70119, nmi = 0.11545, ari = 0.16171  ; loss= 0.01318\n",
      "Iter 18060: acc = 0.70076, nmi = 0.11522, ari = 0.16103  ; loss= 0.01144\n",
      "Iter 18200: acc = 0.70001, nmi = 0.11470, ari = 0.15985  ; loss= 0.01742\n",
      "Iter 18340: acc = 0.70019, nmi = 0.11451, ari = 0.16012  ; loss= 0.00671\n",
      "Iter 18480: acc = 0.70119, nmi = 0.11570, ari = 0.16173  ; loss= 0.00659\n",
      "Iter 18620: acc = 0.69717, nmi = 0.11265, ari = 0.15541  ; loss= 0.00728\n",
      "saving model to: results/kmeans_clustering_cluster_initialization_point/DEC_model_18740.h5\n",
      "Iter 18760: acc = 0.69542, nmi = 0.11090, ari = 0.15267  ; loss= 0.0164\n",
      "Iter 18900: acc = 0.69567, nmi = 0.11097, ari = 0.15305  ; loss= 0.00654\n",
      "Iter 19040: acc = 0.69600, nmi = 0.11121, ari = 0.15357  ; loss= 0.00708\n",
      "Iter 19180: acc = 0.69580, nmi = 0.11096, ari = 0.15325  ; loss= 0.00712\n",
      "Iter 19320: acc = 0.69565, nmi = 0.11059, ari = 0.15301  ; loss= 0.0077\n",
      "Iter 19460: acc = 0.69347, nmi = 0.10899, ari = 0.14964  ; loss= 0.02015\n",
      "Iter 19600: acc = 0.69380, nmi = 0.10931, ari = 0.15016  ; loss= 0.00685\n",
      "delta_label  0.0008337780149413021 < tol  0.001\n",
      "Reached tolerance threshold. Stopping training.\n",
      "saving model to: results/kmeans_clustering_cluster_initialization_point/DEC_model_final.h5\n",
      "acc: 0.6938033617929562\n",
      "CPU times: user 11min 8s, sys: 1min 49s, total: 12min 57s\n",
      "Wall time: 9min 33s\n"
     ]
    }
   ],
   "source": [
    "%%time\n",
    "dec_model.compile(optimizer=SGD(0.01, 0.9), loss='kld')\n",
    "y_pred = dec_model.fit(train_features, y=train_labels, batch_size=32, save_dir=results_save_dir, \n",
    "                       kmeans_init=kmeans_init_center)\n",
    "print('acc:', metrics.acc(train_labels, y_pred))"
   ]
  },
  {
   "cell_type": "markdown",
   "metadata": {},
   "source": [
    "### Visualization of the features extracted by the DEC model"
   ]
  },
  {
   "cell_type": "markdown",
   "metadata": {},
   "source": [
    "#### Encoder Output Features"
   ]
  },
  {
   "cell_type": "code",
   "execution_count": 41,
   "metadata": {},
   "outputs": [
    {
     "name": "stdout",
     "output_type": "stream",
     "text": [
      "CPU times: user 6.88 s, sys: 956 ms, total: 7.83 s\n",
      "Wall time: 6.04 s\n"
     ]
    },
    {
     "data": {
      "image/png": "[encoded data removed]",
      "text/plain": [
       "<Figure size 432x288 with 1 Axes>"
      ]
     },
     "metadata": {},
     "output_type": "display_data"
    }
   ],
   "source": [
    "%%time\n",
    "dec_encoder_model_pred = dec_model.encoder.predict(train_features)\n",
    "pca_mod = PCA(2)\n",
    "pca_mod.fit(dec_encoder_model_pred)\n",
    "reduced_features = pca_mod.transform(dec_encoder_model_pred)\n",
    "\n",
    "fig, ax = plt.subplots(1, 1)\n",
    "sns.scatterplot(reduced_features[:, 0], reduced_features[:, 1], \n",
    "                hue=np.where(train_labels==0, 'elliptical', 'spiral'), ax=ax)\n",
    "ax.text(0.02, 0.92, f'Explained Var: {np.round(np.sum(pca_mod.explained_variance_ratio_), decimals=4)}', \n",
    "        transform=ax.transAxes)\n",
    "ax.set_xlabel('PCA Dim 1')\n",
    "ax.set_ylabel('PCA Dim 2')\n",
    "ax.set_title('PCA Scatterplot for Encoder Features')\n",
    "plt.savefig(f'{results_save_dir}/PCAencoding_pca_features.png')"
   ]
  }
 ],
 "metadata": {
  "kernelspec": {
   "display_name": "Environment (conda_tensorflow_p36)",
   "language": "python",
   "name": "conda_tensorflow_p36"
  },
  "language_info": {
   "codemirror_mode": {
    "name": "ipython",
    "version": 3
   },
   "file_extension": ".py",
   "mimetype": "text/x-python",
   "name": "python",
   "nbconvert_exporter": "python",
   "pygments_lexer": "ipython3",
   "version": "3.6.5"
  }
 },
 "nbformat": 4,
 "nbformat_minor": 2
}
