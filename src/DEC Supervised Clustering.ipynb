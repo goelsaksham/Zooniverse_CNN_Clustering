{
 "cells": [
  {
   "cell_type": "markdown",
   "metadata": {},
   "source": [
    "# DEC Supervised Clustering\n",
    "\n",
    "This notebook focuses on using some kind of supervision for helping the clustering. This includes different techniques that we discussed with Dr. Ece Kamar from Microsoft during her visit to UMN. The different techniques include: \n",
    "    1. Initializing cluster centers based on highly confident galaxy images\n",
    "        a. Run K-Means on encoded features learned from autoencoder for top 10-20 high confident images of each class and check whether K-Means is able to successfully cluster the features into two different cluster with high purity\n",
    "        b. Analyze the PCA plot of the encoded features learned from autoencoder for top 10-20 high confident images of each class for visible distinct cluster\n",
    "    2. Providing some kind of feedback on how good/bad clustering was in the previous iteration\n",
    "        a. Not sure?\n",
    "\n",
    "Some other techniques that we are also trying to include and analyse are:\n",
    "    3. Clustering over a quadrant of the image to try to get rid of the worm shape PCA plot\n",
    "        a. Input images are crops of the original images but of the top left quadrant\n",
    "    4. Using different clustering techniques which include denisty and heirarchical clustering\n",
    "        a. DBSCAN\n",
    "        b. Agglomerative Clustering\n",
    "        c. Heirarchical Clustering\n",
    "        d. Spectral Clustering\n",
    "        \n",
    "        refer to the webpage: https://scikit-learn.org/stable/modules/clustering.html"
   ]
  },
  {
   "cell_type": "code",
   "execution_count": null,
   "metadata": {},
   "outputs": [],
   "source": []
  }
 ],
 "metadata": {
  "kernelspec": {
   "display_name": "Environment (conda_tensorflow_p36)",
   "language": "python",
   "name": "conda_tensorflow_p36"
  },
  "language_info": {
   "codemirror_mode": {
    "name": "ipython",
    "version": 3
   },
   "file_extension": ".py",
   "mimetype": "text/x-python",
   "name": "python",
   "nbconvert_exporter": "python",
   "pygments_lexer": "ipython3",
   "version": "3.6.5"
  }
 },
 "nbformat": 4,
 "nbformat_minor": 2
}
