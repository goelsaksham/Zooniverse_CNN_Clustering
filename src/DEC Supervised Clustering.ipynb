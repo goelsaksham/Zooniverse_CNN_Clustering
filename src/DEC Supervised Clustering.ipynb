{
 "cells": [
  {
   "cell_type": "markdown",
   "metadata": {},
   "source": [
    "# DEC Supervised Clustering\n",
    "\n",
    "This notebook focuses on using some kind of supervision for helping the clustering. This includes different techniques that we discussed with Dr. Ece Kamar from Microsoft during her visit to UMN. The different techniques include: \n",
    "    1. Initializing cluster centers based on highly confident galaxy images\n",
    "        a. Run K-Means on encoded features learned from autoencoder for top 10-20 high confident images of each class and check whether K-Means is able to successfully cluster the features into two different cluster with high purity\n",
    "        b. Analyze the PCA plot of the encoded features learned from autoencoder for top 10-20 high confident images of each class for visible distinct cluster\n",
    "    2. Providing some kind of feedback on how good/bad clustering was in the previous iteration\n",
    "        a. Not sure?\n",
    "\n",
    "Some other techniques that we are also trying to include and analyse are:\n",
    "    3. Clustering over a quadrant of the image to try to get rid of the worm shape PCA plot\n",
    "        a. Input images are crops of the original images but of the top left quadrant\n",
    "    4. Using different clustering techniques which include denisty and heirarchical clustering\n",
    "        a. DBSCAN\n",
    "        b. Agglomerative Clustering\n",
    "        c. Heirarchical Clustering\n",
    "        d. Spectral Clustering\n",
    "        \n",
    "        refer to the webpage: https://scikit-learn.org/stable/modules/clustering.html"
   ]
  },
  {
   "cell_type": "markdown",
   "metadata": {},
   "source": [
    "## K-Means Cluster Initialization"
   ]
  },
  {
   "cell_type": "markdown",
   "metadata": {},
   "source": [
    "### Importing required Libaries\n",
    "\n",
    "Importing the required libraries and modules so that they can be used in the notebook"
   ]
  },
  {
   "cell_type": "code",
   "execution_count": 1,
   "metadata": {},
   "outputs": [
    {
     "name": "stderr",
     "output_type": "stream",
     "text": [
      "Using TensorFlow backend.\n"
     ]
    }
   ],
   "source": [
    "import tensorflow as tf\n",
    "import keras.backend as K\n",
    "import numpy as np\n",
    "import pandas as pd\n",
    "# loading the requirements for the Xception model\n",
    "from keras.applications.xception import Xception\n",
    "from keras.applications.xception import absolute_import, decode_predictions, preprocess_input\n",
    "from keras.layers import Flatten, Dense, GlobalAveragePooling2D\n",
    "from keras.preprocessing.image import ImageDataGenerator\n",
    "# Loading the DEC module cloned from github\n",
    "from DEC.model import *\n",
    "from DEC.metrics import *\n",
    "from xception_dec_datagenerator import XceptionDataGenerator\n",
    "# Importing the utilities\n",
    "from utils.file_utils import *\n",
    "from PIL import Image\n",
    "# Using scikit-image  resize function for resizing the image from original size to 224 X 224\n",
    "from skimage.transform import resize\n",
    "# Train Test split from sklearn\n",
    "from sklearn.model_selection import train_test_split\n",
    "from sklearn.preprocessing import MinMaxScaler, StandardScaler\n",
    "from sklearn.decomposition import PCA\n",
    "from shutil import copy2\n",
    "# For visualization of images and for plotting\n",
    "import matplotlib.pyplot as plt\n",
    "%matplotlib inline\n",
    "import seaborn as sns\n",
    "sns.set()"
   ]
  },
  {
   "cell_type": "code",
   "execution_count": 2,
   "metadata": {},
   "outputs": [],
   "source": [
    "import warnings\n",
    "warnings.filterwarnings('ignore')"
   ]
  },
  {
   "cell_type": "markdown",
   "metadata": {},
   "source": [
    "### Xception Model\n",
    "\n",
    "First we load the Xception model into the computer memory using the Keras library. Because we are focusing on extracting features from the model we do not include the topmost layer. However we do use the imagenet weights for the model. Also because we want a 1-D vector form of the features we do use the pooling layer at the end."
   ]
  },
  {
   "cell_type": "code",
   "execution_count": 3,
   "metadata": {},
   "outputs": [
    {
     "name": "stdout",
     "output_type": "stream",
     "text": [
      "__________________________________________________________________________________________________\n",
      "Layer (type)                    Output Shape         Param #     Connected to                     \n",
      "==================================================================================================\n",
      "input_1 (InputLayer)            (None, 150, 150, 3)  0                                            \n",
      "__________________________________________________________________________________________________\n",
      "block1_conv1 (Conv2D)           (None, 74, 74, 32)   864         input_1[0][0]                    \n",
      "__________________________________________________________________________________________________\n",
      "block1_conv1_bn (BatchNormaliza (None, 74, 74, 32)   128         block1_conv1[0][0]               \n",
      "__________________________________________________________________________________________________\n",
      "block1_conv1_act (Activation)   (None, 74, 74, 32)   0           block1_conv1_bn[0][0]            \n",
      "__________________________________________________________________________________________________\n",
      "block1_conv2 (Conv2D)           (None, 72, 72, 64)   18432       block1_conv1_act[0][0]           \n",
      "__________________________________________________________________________________________________\n",
      "block1_conv2_bn (BatchNormaliza (None, 72, 72, 64)   256         block1_conv2[0][0]               \n",
      "__________________________________________________________________________________________________\n",
      "block1_conv2_act (Activation)   (None, 72, 72, 64)   0           block1_conv2_bn[0][0]            \n",
      "__________________________________________________________________________________________________\n",
      "block2_sepconv1 (SeparableConv2 (None, 72, 72, 128)  8768        block1_conv2_act[0][0]           \n",
      "__________________________________________________________________________________________________\n",
      "block2_sepconv1_bn (BatchNormal (None, 72, 72, 128)  512         block2_sepconv1[0][0]            \n",
      "__________________________________________________________________________________________________\n",
      "block2_sepconv2_act (Activation (None, 72, 72, 128)  0           block2_sepconv1_bn[0][0]         \n",
      "__________________________________________________________________________________________________\n",
      "block2_sepconv2 (SeparableConv2 (None, 72, 72, 128)  17536       block2_sepconv2_act[0][0]        \n",
      "__________________________________________________________________________________________________\n",
      "block2_sepconv2_bn (BatchNormal (None, 72, 72, 128)  512         block2_sepconv2[0][0]            \n",
      "__________________________________________________________________________________________________\n",
      "conv2d_1 (Conv2D)               (None, 36, 36, 128)  8192        block1_conv2_act[0][0]           \n",
      "__________________________________________________________________________________________________\n",
      "block2_pool (MaxPooling2D)      (None, 36, 36, 128)  0           block2_sepconv2_bn[0][0]         \n",
      "__________________________________________________________________________________________________\n",
      "batch_normalization_1 (BatchNor (None, 36, 36, 128)  512         conv2d_1[0][0]                   \n",
      "__________________________________________________________________________________________________\n",
      "add_1 (Add)                     (None, 36, 36, 128)  0           block2_pool[0][0]                \n",
      "                                                                 batch_normalization_1[0][0]      \n",
      "__________________________________________________________________________________________________\n",
      "block3_sepconv1_act (Activation (None, 36, 36, 128)  0           add_1[0][0]                      \n",
      "__________________________________________________________________________________________________\n",
      "block3_sepconv1 (SeparableConv2 (None, 36, 36, 256)  33920       block3_sepconv1_act[0][0]        \n",
      "__________________________________________________________________________________________________\n",
      "block3_sepconv1_bn (BatchNormal (None, 36, 36, 256)  1024        block3_sepconv1[0][0]            \n",
      "__________________________________________________________________________________________________\n",
      "block3_sepconv2_act (Activation (None, 36, 36, 256)  0           block3_sepconv1_bn[0][0]         \n",
      "__________________________________________________________________________________________________\n",
      "block3_sepconv2 (SeparableConv2 (None, 36, 36, 256)  67840       block3_sepconv2_act[0][0]        \n",
      "__________________________________________________________________________________________________\n",
      "block3_sepconv2_bn (BatchNormal (None, 36, 36, 256)  1024        block3_sepconv2[0][0]            \n",
      "__________________________________________________________________________________________________\n",
      "conv2d_2 (Conv2D)               (None, 18, 18, 256)  32768       add_1[0][0]                      \n",
      "__________________________________________________________________________________________________\n",
      "block3_pool (MaxPooling2D)      (None, 18, 18, 256)  0           block3_sepconv2_bn[0][0]         \n",
      "__________________________________________________________________________________________________\n",
      "batch_normalization_2 (BatchNor (None, 18, 18, 256)  1024        conv2d_2[0][0]                   \n",
      "__________________________________________________________________________________________________\n",
      "add_2 (Add)                     (None, 18, 18, 256)  0           block3_pool[0][0]                \n",
      "                                                                 batch_normalization_2[0][0]      \n",
      "__________________________________________________________________________________________________\n",
      "block4_sepconv1_act (Activation (None, 18, 18, 256)  0           add_2[0][0]                      \n",
      "__________________________________________________________________________________________________\n",
      "block4_sepconv1 (SeparableConv2 (None, 18, 18, 728)  188672      block4_sepconv1_act[0][0]        \n",
      "__________________________________________________________________________________________________\n",
      "block4_sepconv1_bn (BatchNormal (None, 18, 18, 728)  2912        block4_sepconv1[0][0]            \n",
      "__________________________________________________________________________________________________\n",
      "block4_sepconv2_act (Activation (None, 18, 18, 728)  0           block4_sepconv1_bn[0][0]         \n",
      "__________________________________________________________________________________________________\n",
      "block4_sepconv2 (SeparableConv2 (None, 18, 18, 728)  536536      block4_sepconv2_act[0][0]        \n",
      "__________________________________________________________________________________________________\n",
      "block4_sepconv2_bn (BatchNormal (None, 18, 18, 728)  2912        block4_sepconv2[0][0]            \n",
      "__________________________________________________________________________________________________\n",
      "conv2d_3 (Conv2D)               (None, 9, 9, 728)    186368      add_2[0][0]                      \n",
      "__________________________________________________________________________________________________\n",
      "block4_pool (MaxPooling2D)      (None, 9, 9, 728)    0           block4_sepconv2_bn[0][0]         \n",
      "__________________________________________________________________________________________________\n",
      "batch_normalization_3 (BatchNor (None, 9, 9, 728)    2912        conv2d_3[0][0]                   \n",
      "__________________________________________________________________________________________________\n",
      "add_3 (Add)                     (None, 9, 9, 728)    0           block4_pool[0][0]                \n",
      "                                                                 batch_normalization_3[0][0]      \n",
      "__________________________________________________________________________________________________\n",
      "block5_sepconv1_act (Activation (None, 9, 9, 728)    0           add_3[0][0]                      \n",
      "__________________________________________________________________________________________________\n",
      "block5_sepconv1 (SeparableConv2 (None, 9, 9, 728)    536536      block5_sepconv1_act[0][0]        \n",
      "__________________________________________________________________________________________________\n",
      "block5_sepconv1_bn (BatchNormal (None, 9, 9, 728)    2912        block5_sepconv1[0][0]            \n",
      "__________________________________________________________________________________________________\n",
      "block5_sepconv2_act (Activation (None, 9, 9, 728)    0           block5_sepconv1_bn[0][0]         \n",
      "__________________________________________________________________________________________________\n",
      "block5_sepconv2 (SeparableConv2 (None, 9, 9, 728)    536536      block5_sepconv2_act[0][0]        \n",
      "__________________________________________________________________________________________________\n",
      "block5_sepconv2_bn (BatchNormal (None, 9, 9, 728)    2912        block5_sepconv2[0][0]            \n",
      "__________________________________________________________________________________________________\n",
      "block5_sepconv3_act (Activation (None, 9, 9, 728)    0           block5_sepconv2_bn[0][0]         \n",
      "__________________________________________________________________________________________________\n",
      "block5_sepconv3 (SeparableConv2 (None, 9, 9, 728)    536536      block5_sepconv3_act[0][0]        \n",
      "__________________________________________________________________________________________________\n",
      "block5_sepconv3_bn (BatchNormal (None, 9, 9, 728)    2912        block5_sepconv3[0][0]            \n",
      "__________________________________________________________________________________________________\n",
      "add_4 (Add)                     (None, 9, 9, 728)    0           block5_sepconv3_bn[0][0]         \n",
      "                                                                 add_3[0][0]                      \n",
      "__________________________________________________________________________________________________\n",
      "block6_sepconv1_act (Activation (None, 9, 9, 728)    0           add_4[0][0]                      \n",
      "__________________________________________________________________________________________________\n",
      "block6_sepconv1 (SeparableConv2 (None, 9, 9, 728)    536536      block6_sepconv1_act[0][0]        \n",
      "__________________________________________________________________________________________________\n",
      "block6_sepconv1_bn (BatchNormal (None, 9, 9, 728)    2912        block6_sepconv1[0][0]            \n",
      "__________________________________________________________________________________________________\n",
      "block6_sepconv2_act (Activation (None, 9, 9, 728)    0           block6_sepconv1_bn[0][0]         \n",
      "__________________________________________________________________________________________________\n",
      "block6_sepconv2 (SeparableConv2 (None, 9, 9, 728)    536536      block6_sepconv2_act[0][0]        \n",
      "__________________________________________________________________________________________________\n",
      "block6_sepconv2_bn (BatchNormal (None, 9, 9, 728)    2912        block6_sepconv2[0][0]            \n",
      "__________________________________________________________________________________________________\n",
      "block6_sepconv3_act (Activation (None, 9, 9, 728)    0           block6_sepconv2_bn[0][0]         \n",
      "__________________________________________________________________________________________________\n",
      "block6_sepconv3 (SeparableConv2 (None, 9, 9, 728)    536536      block6_sepconv3_act[0][0]        \n",
      "__________________________________________________________________________________________________\n",
      "block6_sepconv3_bn (BatchNormal (None, 9, 9, 728)    2912        block6_sepconv3[0][0]            \n",
      "__________________________________________________________________________________________________\n",
      "add_5 (Add)                     (None, 9, 9, 728)    0           block6_sepconv3_bn[0][0]         \n",
      "                                                                 add_4[0][0]                      \n",
      "__________________________________________________________________________________________________\n",
      "block7_sepconv1_act (Activation (None, 9, 9, 728)    0           add_5[0][0]                      \n",
      "__________________________________________________________________________________________________\n",
      "block7_sepconv1 (SeparableConv2 (None, 9, 9, 728)    536536      block7_sepconv1_act[0][0]        \n",
      "__________________________________________________________________________________________________\n",
      "block7_sepconv1_bn (BatchNormal (None, 9, 9, 728)    2912        block7_sepconv1[0][0]            \n",
      "__________________________________________________________________________________________________\n",
      "block7_sepconv2_act (Activation (None, 9, 9, 728)    0           block7_sepconv1_bn[0][0]         \n",
      "__________________________________________________________________________________________________\n",
      "block7_sepconv2 (SeparableConv2 (None, 9, 9, 728)    536536      block7_sepconv2_act[0][0]        \n",
      "__________________________________________________________________________________________________\n",
      "block7_sepconv2_bn (BatchNormal (None, 9, 9, 728)    2912        block7_sepconv2[0][0]            \n",
      "__________________________________________________________________________________________________\n",
      "block7_sepconv3_act (Activation (None, 9, 9, 728)    0           block7_sepconv2_bn[0][0]         \n",
      "__________________________________________________________________________________________________\n",
      "block7_sepconv3 (SeparableConv2 (None, 9, 9, 728)    536536      block7_sepconv3_act[0][0]        \n",
      "__________________________________________________________________________________________________\n",
      "block7_sepconv3_bn (BatchNormal (None, 9, 9, 728)    2912        block7_sepconv3[0][0]            \n",
      "__________________________________________________________________________________________________\n",
      "add_6 (Add)                     (None, 9, 9, 728)    0           block7_sepconv3_bn[0][0]         \n",
      "                                                                 add_5[0][0]                      \n",
      "__________________________________________________________________________________________________\n",
      "block8_sepconv1_act (Activation (None, 9, 9, 728)    0           add_6[0][0]                      \n",
      "__________________________________________________________________________________________________\n",
      "block8_sepconv1 (SeparableConv2 (None, 9, 9, 728)    536536      block8_sepconv1_act[0][0]        \n",
      "__________________________________________________________________________________________________\n",
      "block8_sepconv1_bn (BatchNormal (None, 9, 9, 728)    2912        block8_sepconv1[0][0]            \n",
      "__________________________________________________________________________________________________\n",
      "block8_sepconv2_act (Activation (None, 9, 9, 728)    0           block8_sepconv1_bn[0][0]         \n",
      "__________________________________________________________________________________________________\n",
      "block8_sepconv2 (SeparableConv2 (None, 9, 9, 728)    536536      block8_sepconv2_act[0][0]        \n",
      "__________________________________________________________________________________________________\n",
      "block8_sepconv2_bn (BatchNormal (None, 9, 9, 728)    2912        block8_sepconv2[0][0]            \n",
      "__________________________________________________________________________________________________\n",
      "block8_sepconv3_act (Activation (None, 9, 9, 728)    0           block8_sepconv2_bn[0][0]         \n",
      "__________________________________________________________________________________________________\n",
      "block8_sepconv3 (SeparableConv2 (None, 9, 9, 728)    536536      block8_sepconv3_act[0][0]        \n",
      "__________________________________________________________________________________________________\n",
      "block8_sepconv3_bn (BatchNormal (None, 9, 9, 728)    2912        block8_sepconv3[0][0]            \n",
      "__________________________________________________________________________________________________\n",
      "add_7 (Add)                     (None, 9, 9, 728)    0           block8_sepconv3_bn[0][0]         \n",
      "                                                                 add_6[0][0]                      \n",
      "__________________________________________________________________________________________________\n",
      "block9_sepconv1_act (Activation (None, 9, 9, 728)    0           add_7[0][0]                      \n",
      "__________________________________________________________________________________________________\n",
      "block9_sepconv1 (SeparableConv2 (None, 9, 9, 728)    536536      block9_sepconv1_act[0][0]        \n",
      "__________________________________________________________________________________________________\n",
      "block9_sepconv1_bn (BatchNormal (None, 9, 9, 728)    2912        block9_sepconv1[0][0]            \n",
      "__________________________________________________________________________________________________\n",
      "block9_sepconv2_act (Activation (None, 9, 9, 728)    0           block9_sepconv1_bn[0][0]         \n",
      "__________________________________________________________________________________________________\n",
      "block9_sepconv2 (SeparableConv2 (None, 9, 9, 728)    536536      block9_sepconv2_act[0][0]        \n",
      "__________________________________________________________________________________________________\n",
      "block9_sepconv2_bn (BatchNormal (None, 9, 9, 728)    2912        block9_sepconv2[0][0]            \n",
      "__________________________________________________________________________________________________\n",
      "block9_sepconv3_act (Activation (None, 9, 9, 728)    0           block9_sepconv2_bn[0][0]         \n",
      "__________________________________________________________________________________________________\n",
      "block9_sepconv3 (SeparableConv2 (None, 9, 9, 728)    536536      block9_sepconv3_act[0][0]        \n",
      "__________________________________________________________________________________________________\n",
      "block9_sepconv3_bn (BatchNormal (None, 9, 9, 728)    2912        block9_sepconv3[0][0]            \n",
      "__________________________________________________________________________________________________\n",
      "add_8 (Add)                     (None, 9, 9, 728)    0           block9_sepconv3_bn[0][0]         \n",
      "                                                                 add_7[0][0]                      \n",
      "__________________________________________________________________________________________________\n",
      "block10_sepconv1_act (Activatio (None, 9, 9, 728)    0           add_8[0][0]                      \n",
      "__________________________________________________________________________________________________\n",
      "block10_sepconv1 (SeparableConv (None, 9, 9, 728)    536536      block10_sepconv1_act[0][0]       \n",
      "__________________________________________________________________________________________________\n",
      "block10_sepconv1_bn (BatchNorma (None, 9, 9, 728)    2912        block10_sepconv1[0][0]           \n",
      "__________________________________________________________________________________________________\n",
      "block10_sepconv2_act (Activatio (None, 9, 9, 728)    0           block10_sepconv1_bn[0][0]        \n",
      "__________________________________________________________________________________________________\n",
      "block10_sepconv2 (SeparableConv (None, 9, 9, 728)    536536      block10_sepconv2_act[0][0]       \n",
      "__________________________________________________________________________________________________\n",
      "block10_sepconv2_bn (BatchNorma (None, 9, 9, 728)    2912        block10_sepconv2[0][0]           \n",
      "__________________________________________________________________________________________________\n",
      "block10_sepconv3_act (Activatio (None, 9, 9, 728)    0           block10_sepconv2_bn[0][0]        \n",
      "__________________________________________________________________________________________________\n",
      "block10_sepconv3 (SeparableConv (None, 9, 9, 728)    536536      block10_sepconv3_act[0][0]       \n",
      "__________________________________________________________________________________________________\n",
      "block10_sepconv3_bn (BatchNorma (None, 9, 9, 728)    2912        block10_sepconv3[0][0]           \n",
      "__________________________________________________________________________________________________\n",
      "add_9 (Add)                     (None, 9, 9, 728)    0           block10_sepconv3_bn[0][0]        \n",
      "                                                                 add_8[0][0]                      \n",
      "__________________________________________________________________________________________________\n",
      "block11_sepconv1_act (Activatio (None, 9, 9, 728)    0           add_9[0][0]                      \n",
      "__________________________________________________________________________________________________\n",
      "block11_sepconv1 (SeparableConv (None, 9, 9, 728)    536536      block11_sepconv1_act[0][0]       \n",
      "__________________________________________________________________________________________________\n",
      "block11_sepconv1_bn (BatchNorma (None, 9, 9, 728)    2912        block11_sepconv1[0][0]           \n",
      "__________________________________________________________________________________________________\n",
      "block11_sepconv2_act (Activatio (None, 9, 9, 728)    0           block11_sepconv1_bn[0][0]        \n",
      "__________________________________________________________________________________________________\n",
      "block11_sepconv2 (SeparableConv (None, 9, 9, 728)    536536      block11_sepconv2_act[0][0]       \n",
      "__________________________________________________________________________________________________\n",
      "block11_sepconv2_bn (BatchNorma (None, 9, 9, 728)    2912        block11_sepconv2[0][0]           \n",
      "__________________________________________________________________________________________________\n",
      "block11_sepconv3_act (Activatio (None, 9, 9, 728)    0           block11_sepconv2_bn[0][0]        \n",
      "__________________________________________________________________________________________________\n",
      "block11_sepconv3 (SeparableConv (None, 9, 9, 728)    536536      block11_sepconv3_act[0][0]       \n",
      "__________________________________________________________________________________________________\n",
      "block11_sepconv3_bn (BatchNorma (None, 9, 9, 728)    2912        block11_sepconv3[0][0]           \n",
      "__________________________________________________________________________________________________\n",
      "add_10 (Add)                    (None, 9, 9, 728)    0           block11_sepconv3_bn[0][0]        \n",
      "                                                                 add_9[0][0]                      \n",
      "__________________________________________________________________________________________________\n",
      "block12_sepconv1_act (Activatio (None, 9, 9, 728)    0           add_10[0][0]                     \n",
      "__________________________________________________________________________________________________\n",
      "block12_sepconv1 (SeparableConv (None, 9, 9, 728)    536536      block12_sepconv1_act[0][0]       \n",
      "__________________________________________________________________________________________________\n",
      "block12_sepconv1_bn (BatchNorma (None, 9, 9, 728)    2912        block12_sepconv1[0][0]           \n",
      "__________________________________________________________________________________________________\n",
      "block12_sepconv2_act (Activatio (None, 9, 9, 728)    0           block12_sepconv1_bn[0][0]        \n",
      "__________________________________________________________________________________________________\n",
      "block12_sepconv2 (SeparableConv (None, 9, 9, 728)    536536      block12_sepconv2_act[0][0]       \n",
      "__________________________________________________________________________________________________\n",
      "block12_sepconv2_bn (BatchNorma (None, 9, 9, 728)    2912        block12_sepconv2[0][0]           \n",
      "__________________________________________________________________________________________________\n",
      "block12_sepconv3_act (Activatio (None, 9, 9, 728)    0           block12_sepconv2_bn[0][0]        \n",
      "__________________________________________________________________________________________________\n",
      "block12_sepconv3 (SeparableConv (None, 9, 9, 728)    536536      block12_sepconv3_act[0][0]       \n",
      "__________________________________________________________________________________________________\n",
      "block12_sepconv3_bn (BatchNorma (None, 9, 9, 728)    2912        block12_sepconv3[0][0]           \n",
      "__________________________________________________________________________________________________\n",
      "add_11 (Add)                    (None, 9, 9, 728)    0           block12_sepconv3_bn[0][0]        \n",
      "                                                                 add_10[0][0]                     \n",
      "__________________________________________________________________________________________________\n",
      "block13_sepconv1_act (Activatio (None, 9, 9, 728)    0           add_11[0][0]                     \n",
      "__________________________________________________________________________________________________\n",
      "block13_sepconv1 (SeparableConv (None, 9, 9, 728)    536536      block13_sepconv1_act[0][0]       \n",
      "__________________________________________________________________________________________________\n",
      "block13_sepconv1_bn (BatchNorma (None, 9, 9, 728)    2912        block13_sepconv1[0][0]           \n",
      "__________________________________________________________________________________________________\n",
      "block13_sepconv2_act (Activatio (None, 9, 9, 728)    0           block13_sepconv1_bn[0][0]        \n",
      "__________________________________________________________________________________________________\n",
      "block13_sepconv2 (SeparableConv (None, 9, 9, 1024)   752024      block13_sepconv2_act[0][0]       \n",
      "__________________________________________________________________________________________________\n",
      "block13_sepconv2_bn (BatchNorma (None, 9, 9, 1024)   4096        block13_sepconv2[0][0]           \n",
      "__________________________________________________________________________________________________\n",
      "conv2d_4 (Conv2D)               (None, 5, 5, 1024)   745472      add_11[0][0]                     \n",
      "__________________________________________________________________________________________________\n",
      "block13_pool (MaxPooling2D)     (None, 5, 5, 1024)   0           block13_sepconv2_bn[0][0]        \n",
      "__________________________________________________________________________________________________\n",
      "batch_normalization_4 (BatchNor (None, 5, 5, 1024)   4096        conv2d_4[0][0]                   \n",
      "__________________________________________________________________________________________________\n",
      "add_12 (Add)                    (None, 5, 5, 1024)   0           block13_pool[0][0]               \n",
      "                                                                 batch_normalization_4[0][0]      \n",
      "__________________________________________________________________________________________________\n",
      "block14_sepconv1 (SeparableConv (None, 5, 5, 1536)   1582080     add_12[0][0]                     \n",
      "__________________________________________________________________________________________________\n",
      "block14_sepconv1_bn (BatchNorma (None, 5, 5, 1536)   6144        block14_sepconv1[0][0]           \n",
      "__________________________________________________________________________________________________\n",
      "block14_sepconv1_act (Activatio (None, 5, 5, 1536)   0           block14_sepconv1_bn[0][0]        \n",
      "__________________________________________________________________________________________________\n",
      "block14_sepconv2 (SeparableConv (None, 5, 5, 2048)   3159552     block14_sepconv1_act[0][0]       \n",
      "__________________________________________________________________________________________________\n",
      "block14_sepconv2_bn (BatchNorma (None, 5, 5, 2048)   8192        block14_sepconv2[0][0]           \n",
      "__________________________________________________________________________________________________\n",
      "block14_sepconv2_act (Activatio (None, 5, 5, 2048)   0           block14_sepconv2_bn[0][0]        \n",
      "__________________________________________________________________________________________________\n",
      "global_average_pooling2d_1 (Glo (None, 2048)         0           block14_sepconv2_act[0][0]       \n",
      "==================================================================================================\n",
      "Total params: 20,861,480\n",
      "Trainable params: 20,806,952\n",
      "Non-trainable params: 54,528\n",
      "__________________________________________________________________________________________________\n"
     ]
    }
   ],
   "source": [
    "input_tensor_shape = (150, 150, 3)\n",
    "base_xception_model = Xception(weights = 'imagenet', input_shape = input_tensor_shape, include_top = False, pooling='avg')\n",
    "base_xception_model.summary()"
   ]
  },
  {
   "cell_type": "markdown",
   "metadata": {},
   "source": [
    "The input shape of our base xception model is: 150 X 150 X 3. That is a 3 channel square image with side 150 pixels.\n",
    "The output shape of the base xception model is: 2048 X 1. It is a 1-D vector representing the features learned by the model"
   ]
  },
  {
   "cell_type": "markdown",
   "metadata": {},
   "source": [
    "### Loading the Galaxy Zoo data\n",
    "\n",
    "We now start loading the galaxy zoo data into memory. First we load the label file and then start loading the corresponding images such that we can assign the corresponding label to them"
   ]
  },
  {
   "cell_type": "code",
   "execution_count": 4,
   "metadata": {},
   "outputs": [
    {
     "data": {
      "text/html": [
       "<div>\n",
       "<style scoped>\n",
       "    .dataframe tbody tr th:only-of-type {\n",
       "        vertical-align: middle;\n",
       "    }\n",
       "\n",
       "    .dataframe tbody tr th {\n",
       "        vertical-align: top;\n",
       "    }\n",
       "\n",
       "    .dataframe thead th {\n",
       "        text-align: right;\n",
       "    }\n",
       "</style>\n",
       "<table border=\"1\" class=\"dataframe\">\n",
       "  <thead>\n",
       "    <tr style=\"text-align: right;\">\n",
       "      <th></th>\n",
       "      <th>GalaxyID</th>\n",
       "      <th>Class1.1</th>\n",
       "      <th>Class1.2</th>\n",
       "      <th>Class1.3</th>\n",
       "      <th>Class2.1</th>\n",
       "      <th>Class2.2</th>\n",
       "      <th>Class3.1</th>\n",
       "      <th>Class3.2</th>\n",
       "      <th>Class4.1</th>\n",
       "      <th>Class4.2</th>\n",
       "      <th>...</th>\n",
       "      <th>Class9.3</th>\n",
       "      <th>Class10.1</th>\n",
       "      <th>Class10.2</th>\n",
       "      <th>Class10.3</th>\n",
       "      <th>Class11.1</th>\n",
       "      <th>Class11.2</th>\n",
       "      <th>Class11.3</th>\n",
       "      <th>Class11.4</th>\n",
       "      <th>Class11.5</th>\n",
       "      <th>Class11.6</th>\n",
       "    </tr>\n",
       "  </thead>\n",
       "  <tbody>\n",
       "    <tr>\n",
       "      <th>0</th>\n",
       "      <td>100008</td>\n",
       "      <td>0.383147</td>\n",
       "      <td>0.616853</td>\n",
       "      <td>0.000000</td>\n",
       "      <td>0.000000</td>\n",
       "      <td>0.616853</td>\n",
       "      <td>0.038452</td>\n",
       "      <td>0.578401</td>\n",
       "      <td>0.418398</td>\n",
       "      <td>0.198455</td>\n",
       "      <td>...</td>\n",
       "      <td>0.000000</td>\n",
       "      <td>0.279952</td>\n",
       "      <td>0.138445</td>\n",
       "      <td>0.000000</td>\n",
       "      <td>0.000000</td>\n",
       "      <td>0.092886</td>\n",
       "      <td>0.0</td>\n",
       "      <td>0.0</td>\n",
       "      <td>0.0</td>\n",
       "      <td>0.325512</td>\n",
       "    </tr>\n",
       "    <tr>\n",
       "      <th>1</th>\n",
       "      <td>100023</td>\n",
       "      <td>0.327001</td>\n",
       "      <td>0.663777</td>\n",
       "      <td>0.009222</td>\n",
       "      <td>0.031178</td>\n",
       "      <td>0.632599</td>\n",
       "      <td>0.467370</td>\n",
       "      <td>0.165229</td>\n",
       "      <td>0.591328</td>\n",
       "      <td>0.041271</td>\n",
       "      <td>...</td>\n",
       "      <td>0.018764</td>\n",
       "      <td>0.000000</td>\n",
       "      <td>0.131378</td>\n",
       "      <td>0.459950</td>\n",
       "      <td>0.000000</td>\n",
       "      <td>0.591328</td>\n",
       "      <td>0.0</td>\n",
       "      <td>0.0</td>\n",
       "      <td>0.0</td>\n",
       "      <td>0.000000</td>\n",
       "    </tr>\n",
       "    <tr>\n",
       "      <th>2</th>\n",
       "      <td>100053</td>\n",
       "      <td>0.765717</td>\n",
       "      <td>0.177352</td>\n",
       "      <td>0.056931</td>\n",
       "      <td>0.000000</td>\n",
       "      <td>0.177352</td>\n",
       "      <td>0.000000</td>\n",
       "      <td>0.177352</td>\n",
       "      <td>0.000000</td>\n",
       "      <td>0.177352</td>\n",
       "      <td>...</td>\n",
       "      <td>0.000000</td>\n",
       "      <td>0.000000</td>\n",
       "      <td>0.000000</td>\n",
       "      <td>0.000000</td>\n",
       "      <td>0.000000</td>\n",
       "      <td>0.000000</td>\n",
       "      <td>0.0</td>\n",
       "      <td>0.0</td>\n",
       "      <td>0.0</td>\n",
       "      <td>0.000000</td>\n",
       "    </tr>\n",
       "    <tr>\n",
       "      <th>3</th>\n",
       "      <td>100078</td>\n",
       "      <td>0.693377</td>\n",
       "      <td>0.238564</td>\n",
       "      <td>0.068059</td>\n",
       "      <td>0.000000</td>\n",
       "      <td>0.238564</td>\n",
       "      <td>0.109493</td>\n",
       "      <td>0.129071</td>\n",
       "      <td>0.189098</td>\n",
       "      <td>0.049466</td>\n",
       "      <td>...</td>\n",
       "      <td>0.000000</td>\n",
       "      <td>0.094549</td>\n",
       "      <td>0.000000</td>\n",
       "      <td>0.094549</td>\n",
       "      <td>0.189098</td>\n",
       "      <td>0.000000</td>\n",
       "      <td>0.0</td>\n",
       "      <td>0.0</td>\n",
       "      <td>0.0</td>\n",
       "      <td>0.000000</td>\n",
       "    </tr>\n",
       "    <tr>\n",
       "      <th>4</th>\n",
       "      <td>100090</td>\n",
       "      <td>0.933839</td>\n",
       "      <td>0.000000</td>\n",
       "      <td>0.066161</td>\n",
       "      <td>0.000000</td>\n",
       "      <td>0.000000</td>\n",
       "      <td>0.000000</td>\n",
       "      <td>0.000000</td>\n",
       "      <td>0.000000</td>\n",
       "      <td>0.000000</td>\n",
       "      <td>...</td>\n",
       "      <td>0.000000</td>\n",
       "      <td>0.000000</td>\n",
       "      <td>0.000000</td>\n",
       "      <td>0.000000</td>\n",
       "      <td>0.000000</td>\n",
       "      <td>0.000000</td>\n",
       "      <td>0.0</td>\n",
       "      <td>0.0</td>\n",
       "      <td>0.0</td>\n",
       "      <td>0.000000</td>\n",
       "    </tr>\n",
       "  </tbody>\n",
       "</table>\n",
       "<p>5 rows × 38 columns</p>\n",
       "</div>"
      ],
      "text/plain": [
       "   GalaxyID  Class1.1  Class1.2  Class1.3  Class2.1  Class2.2  Class3.1  \\\n",
       "0    100008  0.383147  0.616853  0.000000  0.000000  0.616853  0.038452   \n",
       "1    100023  0.327001  0.663777  0.009222  0.031178  0.632599  0.467370   \n",
       "2    100053  0.765717  0.177352  0.056931  0.000000  0.177352  0.000000   \n",
       "3    100078  0.693377  0.238564  0.068059  0.000000  0.238564  0.109493   \n",
       "4    100090  0.933839  0.000000  0.066161  0.000000  0.000000  0.000000   \n",
       "\n",
       "   Class3.2  Class4.1  Class4.2    ...      Class9.3  Class10.1  Class10.2  \\\n",
       "0  0.578401  0.418398  0.198455    ...      0.000000   0.279952   0.138445   \n",
       "1  0.165229  0.591328  0.041271    ...      0.018764   0.000000   0.131378   \n",
       "2  0.177352  0.000000  0.177352    ...      0.000000   0.000000   0.000000   \n",
       "3  0.129071  0.189098  0.049466    ...      0.000000   0.094549   0.000000   \n",
       "4  0.000000  0.000000  0.000000    ...      0.000000   0.000000   0.000000   \n",
       "\n",
       "   Class10.3  Class11.1  Class11.2  Class11.3  Class11.4  Class11.5  Class11.6  \n",
       "0   0.000000   0.000000   0.092886        0.0        0.0        0.0   0.325512  \n",
       "1   0.459950   0.000000   0.591328        0.0        0.0        0.0   0.000000  \n",
       "2   0.000000   0.000000   0.000000        0.0        0.0        0.0   0.000000  \n",
       "3   0.094549   0.189098   0.000000        0.0        0.0        0.0   0.000000  \n",
       "4   0.000000   0.000000   0.000000        0.0        0.0        0.0   0.000000  \n",
       "\n",
       "[5 rows x 38 columns]"
      ]
     },
     "execution_count": 4,
     "metadata": {},
     "output_type": "execute_result"
    }
   ],
   "source": [
    "all_labels = pd.read_csv(f'../data/galaxy_zoo/training_solutions_rev1.csv')\n",
    "all_labels.head()"
   ]
  },
  {
   "cell_type": "code",
   "execution_count": 5,
   "metadata": {},
   "outputs": [
    {
     "data": {
      "text/html": [
       "<div>\n",
       "<style scoped>\n",
       "    .dataframe tbody tr th:only-of-type {\n",
       "        vertical-align: middle;\n",
       "    }\n",
       "\n",
       "    .dataframe tbody tr th {\n",
       "        vertical-align: top;\n",
       "    }\n",
       "\n",
       "    .dataframe thead th {\n",
       "        text-align: right;\n",
       "    }\n",
       "</style>\n",
       "<table border=\"1\" class=\"dataframe\">\n",
       "  <thead>\n",
       "    <tr style=\"text-align: right;\">\n",
       "      <th></th>\n",
       "      <th>GalaxyID</th>\n",
       "      <th>Class1.1</th>\n",
       "      <th>Class1.2</th>\n",
       "    </tr>\n",
       "  </thead>\n",
       "  <tbody>\n",
       "    <tr>\n",
       "      <th>0</th>\n",
       "      <td>100008</td>\n",
       "      <td>0.383147</td>\n",
       "      <td>0.616853</td>\n",
       "    </tr>\n",
       "    <tr>\n",
       "      <th>1</th>\n",
       "      <td>100023</td>\n",
       "      <td>0.327001</td>\n",
       "      <td>0.663777</td>\n",
       "    </tr>\n",
       "    <tr>\n",
       "      <th>2</th>\n",
       "      <td>100053</td>\n",
       "      <td>0.765717</td>\n",
       "      <td>0.177352</td>\n",
       "    </tr>\n",
       "    <tr>\n",
       "      <th>3</th>\n",
       "      <td>100078</td>\n",
       "      <td>0.693377</td>\n",
       "      <td>0.238564</td>\n",
       "    </tr>\n",
       "    <tr>\n",
       "      <th>4</th>\n",
       "      <td>100090</td>\n",
       "      <td>0.933839</td>\n",
       "      <td>0.000000</td>\n",
       "    </tr>\n",
       "  </tbody>\n",
       "</table>\n",
       "</div>"
      ],
      "text/plain": [
       "   GalaxyID  Class1.1  Class1.2\n",
       "0    100008  0.383147  0.616853\n",
       "1    100023  0.327001  0.663777\n",
       "2    100053  0.765717  0.177352\n",
       "3    100078  0.693377  0.238564\n",
       "4    100090  0.933839  0.000000"
      ]
     },
     "execution_count": 5,
     "metadata": {},
     "output_type": "execute_result"
    }
   ],
   "source": [
    "# First we can get rid of all the extra data that we will not use\n",
    "\n",
    "# Assuming the follwing column names:\n",
    "elliptical_galaxy_col_name = 'Class1.1'\n",
    "spiral_galaxy_col_name = 'Class1.2'\n",
    "\n",
    "all_labels = all_labels[['GalaxyID', elliptical_galaxy_col_name, spiral_galaxy_col_name]]\n",
    "all_labels.head()"
   ]
  },
  {
   "cell_type": "code",
   "execution_count": 6,
   "metadata": {},
   "outputs": [],
   "source": [
    "# Getting the id's for elliptical and spiral galaxies\n",
    "elliptical_galaxy_ids = pd.Series(all_labels[all_labels[elliptical_galaxy_col_name] >= 0.5]['GalaxyID'], dtype=str)\n",
    "spiral_galaxy_ids = pd.Series(all_labels[all_labels[spiral_galaxy_col_name] > 0.5]['GalaxyID'], dtype=str)"
   ]
  },
  {
   "cell_type": "code",
   "execution_count": 7,
   "metadata": {},
   "outputs": [
    {
     "name": "stdout",
     "output_type": "stream",
     "text": [
      "Number Elliptical Galaxies: 25868\n",
      "Number Spiral Galaxies: 34105\n"
     ]
    }
   ],
   "source": [
    "# Finding the number of images for each type of galaxy\n",
    "print(f'Number Elliptical Galaxies: {elliptical_galaxy_ids.shape[0]}')\n",
    "print(f'Number Spiral Galaxies: {spiral_galaxy_ids.shape[0]}')"
   ]
  },
  {
   "cell_type": "markdown",
   "metadata": {},
   "source": [
    "__Finding High Confidence Galaxies__"
   ]
  },
  {
   "cell_type": "code",
   "execution_count": 8,
   "metadata": {},
   "outputs": [
    {
     "name": "stdout",
     "output_type": "stream",
     "text": [
      "Confidence Threshold: 1.0\n",
      "Number of High Confidence Elliptical Galaxies: 146\n",
      "Number of High Confidence Spiral Galaxies: 711\n"
     ]
    }
   ],
   "source": [
    "# First find the number of high confidence galaxies for both classes\n",
    "conf_threshold = 1.0\n",
    "print(f'Confidence Threshold: {conf_threshold}')\n",
    "num_high_conf_elliptical_galaxies = all_labels[all_labels[elliptical_galaxy_col_name] >= conf_threshold].shape[0]\n",
    "num_high_conf_spiral_galaxies = all_labels[all_labels[spiral_galaxy_col_name] >= conf_threshold].shape[0]\n",
    "print('Number of High Confidence Elliptical Galaxies:', num_high_conf_elliptical_galaxies)\n",
    "print('Number of High Confidence Spiral Galaxies:', num_high_conf_spiral_galaxies)"
   ]
  },
  {
   "cell_type": "code",
   "execution_count": 43,
   "metadata": {},
   "outputs": [],
   "source": [
    "# sampling certain number of high confidence galaxies\n",
    "num_samples = 20\n",
    "high_conf_ellip_galaxies = all_labels.sort_values(by=elliptical_galaxy_col_name, ascending=False).iloc[:min(num_high_conf_elliptical_galaxies, num_high_conf_spiral_galaxies)].sample(num_samples)['GalaxyID']\n",
    "high_conf_spiral_galaxies = all_labels.sort_values(by=spiral_galaxy_col_name, ascending=False).iloc[:min(num_high_conf_elliptical_galaxies, num_high_conf_spiral_galaxies)].sample(num_samples)['GalaxyID']"
   ]
  },
  {
   "cell_type": "code",
   "execution_count": 44,
   "metadata": {},
   "outputs": [
    {
     "data": {
      "text/plain": [
       "54255    891922\n",
       "58258    951303\n",
       "27321    500322\n",
       "51836    855172\n",
       "33899    596602\n",
       "12389    283037\n",
       "54239    891579\n",
       "29284    528933\n",
       "60448    983939\n",
       "20849    404367\n",
       "17531    358458\n",
       "55686    913723\n",
       "46723    780875\n",
       "22309    426206\n",
       "7518     210465\n",
       "29033    525376\n",
       "47112    786715\n",
       "36317    630796\n",
       "59905    975075\n",
       "42255    716805\n",
       "Name: GalaxyID, dtype: int64"
      ]
     },
     "execution_count": 44,
     "metadata": {},
     "output_type": "execute_result"
    }
   ],
   "source": [
    "high_conf_ellip_galaxies"
   ]
  },
  {
   "cell_type": "code",
   "execution_count": 45,
   "metadata": {},
   "outputs": [
    {
     "data": {
      "text/plain": [
       "12965    292016\n",
       "7799     214833\n",
       "16722    346617\n",
       "57398    938252\n",
       "56323    922503\n",
       "51521    850277\n",
       "37547    648468\n",
       "12612    286579\n",
       "50426    834360\n",
       "38100    656403\n",
       "14839    319856\n",
       "36753    637212\n",
       "24899    463660\n",
       "27126    497199\n",
       "19939    392544\n",
       "19882    391697\n",
       "17438    356963\n",
       "8017     217779\n",
       "47484    791755\n",
       "21265    410326\n",
       "Name: GalaxyID, dtype: int64"
      ]
     },
     "execution_count": 45,
     "metadata": {},
     "output_type": "execute_result"
    }
   ],
   "source": [
    "high_conf_spiral_galaxies"
   ]
  },
  {
   "cell_type": "markdown",
   "metadata": {},
   "source": [
    "### Data Generators\n",
    "\n",
    "Defining the keras data generators to iterate through all the images and then essentially help in extracting the features from the images"
   ]
  },
  {
   "cell_type": "code",
   "execution_count": 12,
   "metadata": {},
   "outputs": [],
   "source": [
    "image_extension = '.jpg'\n",
    "training_directory_path = f'../data/xception_clustering/training/'\n",
    "testing_directory_path = f'../data/xception_clustering/testing/'"
   ]
  },
  {
   "cell_type": "code",
   "execution_count": 13,
   "metadata": {},
   "outputs": [
    {
     "name": "stdout",
     "output_type": "stream",
     "text": [
      "Number of already present Training Elliptical Galaxies: 25868\n",
      "Number of already present Training Spiral Galaxies: 34105\n",
      "Number of already present Testing Elliptical Galaxies: 0\n",
      "Number of already present Testing Spiral Galaxies: 0\n"
     ]
    }
   ],
   "source": [
    "# Getting the files already in the training and testing folders respectively\n",
    "spiral_training_directory_path = construct_path(training_directory_path, 'spiral')\n",
    "elliptical_training_directory_path = construct_path(training_directory_path, 'elliptical')\n",
    "spiral_testing_directory_path = construct_path(testing_directory_path, 'spiral')\n",
    "elliptical_testing_directory_path = construct_path(testing_directory_path, 'elliptical')\n",
    "elliptical_training_files = get_file_nms(elliptical_training_directory_path, image_extension)\n",
    "spiral_training_files = get_file_nms(spiral_training_directory_path, image_extension)\n",
    "elliptical_testing_files = get_file_nms(elliptical_testing_directory_path, image_extension)\n",
    "spiral_testing_files = get_file_nms(spiral_testing_directory_path, image_extension)\n",
    "# Finding the number of images for each type of galaxy after finding the common images and list\n",
    "print(f'Number of already present Training Elliptical Galaxies: {len(elliptical_training_files)}')\n",
    "print(f'Number of already present Training Spiral Galaxies: {len(spiral_training_files)}')\n",
    "print(f'Number of already present Testing Elliptical Galaxies: {len(elliptical_testing_files)}')\n",
    "print(f'Number of already present Testing Spiral Galaxies: {len(spiral_testing_files)}')"
   ]
  },
  {
   "cell_type": "markdown",
   "metadata": {},
   "source": [
    "#### Normalization and Cropping functions"
   ]
  },
  {
   "cell_type": "code",
   "execution_count": 14,
   "metadata": {},
   "outputs": [],
   "source": [
    "def get_difference(orig_size, target_size):\n",
    "    orig_size, target_size = list(orig_size), list(target_size)\n",
    "    ret_ls = []\n",
    "    for o, t in zip(orig_size, target_size):\n",
    "        ret_ls.append(o - t)\n",
    "    return ret_ls\n",
    "\n",
    "def crop_image(image, orig_size, target_size):\n",
    "    crop_sizes = get_difference(orig_size, target_size)\n",
    "    height_dif, width_dif = crop_sizes[0] // 2, crop_sizes[1] // 2\n",
    "    return image[height_dif:(height_dif + target_size[0]), width_dif:(width_dif + target_size[1]), :]\n",
    "\n",
    "def range_scaling(image, out_feature_range=(-1, 1)):\n",
    "    old_min, old_max = 0., 255.\n",
    "    new_min, new_max = -1., 1.\n",
    "    return ((image - old_min)/(old_max - old_min))*(new_max - new_min) + new_min\n",
    "\n",
    "def image_preprocessing_function(image, crop=True, range_scale=True):\n",
    "    \"\"\"\n",
    "    image is a 3-D image tensor (numpy array).\n",
    "    \"\"\"\n",
    "    target_image_size = input_tensor_shape\n",
    "    if crop:\n",
    "        cropped_image = crop_image(image, image.shape, target_image_size)\n",
    "    else:\n",
    "        cropped_image = image\n",
    "        \n",
    "    if range_scale:\n",
    "        final_image = range_scaling(cropped_image)\n",
    "    else:\n",
    "        final_image = cropped_image\n",
    "    return final_image"
   ]
  },
  {
   "cell_type": "markdown",
   "metadata": {},
   "source": [
    "#### Generator Definitions"
   ]
  },
  {
   "cell_type": "code",
   "execution_count": 15,
   "metadata": {},
   "outputs": [
    {
     "name": "stdout",
     "output_type": "stream",
     "text": [
      "Found 59973 images belonging to 2 classes.\n",
      "Found 0 images belonging to 2 classes.\n",
      "CPU times: user 3.5 s, sys: 664 ms, total: 4.17 s\n",
      "Wall time: 2.86 s\n"
     ]
    }
   ],
   "source": [
    "%%time\n",
    "generator_batch_size = 64\n",
    "# Current generator uses -1 to 1\n",
    "image_generator = ImageDataGenerator(preprocessing_function=image_preprocessing_function)\n",
    "training_generator = image_generator.flow_from_directory(training_directory_path, target_size = input_tensor_shape[:2], \n",
    "                                                         class_mode='binary', batch_size=generator_batch_size)\n",
    "testing_generator = image_generator.flow_from_directory(testing_directory_path, target_size = input_tensor_shape[:2], \n",
    "                                                         class_mode='binary', batch_size=generator_batch_size)"
   ]
  },
  {
   "cell_type": "code",
   "execution_count": 16,
   "metadata": {},
   "outputs": [
    {
     "name": "stdout",
     "output_type": "stream",
     "text": [
      "Number of Images processed: 6400\n",
      "Number of Images processed: 12800\n",
      "Number of Images processed: 19200\n",
      "Number of Images processed: 25600\n",
      "Number of Images processed: 32000\n",
      "Number of Images processed: 38400\n",
      "Number of Images processed: 44800\n",
      "Number of Images processed: 51200\n",
      "Number of Images processed: 57600\n",
      "Shape of the training features (59968, 2048)\n",
      "CPU times: user 6min 31s, sys: 1min 31s, total: 8min 3s\n",
      "Wall time: 7min 40s\n"
     ]
    }
   ],
   "source": [
    "%%time\n",
    "n_train_examples = (len(training_generator.filenames)//generator_batch_size) * generator_batch_size\n",
    "train_features = np.zeros((n_train_examples, 2048))\n",
    "train_labels = np.zeros(n_train_examples, dtype=int)\n",
    "i = 0\n",
    "for inputs_batch, labels_batch in training_generator:\n",
    "    features_batch = base_xception_model.predict(inputs_batch)\n",
    "    train_features[i * generator_batch_size : (i + 1) * generator_batch_size] = features_batch\n",
    "    train_labels[i * generator_batch_size : (i + 1) * generator_batch_size] = labels_batch\n",
    "    i += 1\n",
    "    if i % 100 == 0 and i:\n",
    "        print('Number of Images processed:', i * generator_batch_size)\n",
    "    if i * generator_batch_size >= n_train_examples:\n",
    "        break\n",
    "\n",
    "print('Shape of the training features', train_features.shape)"
   ]
  },
  {
   "cell_type": "code",
   "execution_count": 17,
   "metadata": {},
   "outputs": [
    {
     "data": {
      "text/plain": [
       "{'elliptical': 0, 'spiral': 1}"
      ]
     },
     "execution_count": 17,
     "metadata": {},
     "output_type": "execute_result"
    }
   ],
   "source": [
    "training_generator.class_indices"
   ]
  },
  {
   "cell_type": "code",
   "execution_count": 31,
   "metadata": {},
   "outputs": [],
   "source": [
    "y_label_names = np.array(train_labels)\n",
    "train_labels = np.where(train_labels == 'elliptical', 0, 1)"
   ]
  },
  {
   "cell_type": "code",
   "execution_count": 34,
   "metadata": {},
   "outputs": [
    {
     "data": {
      "text/plain": [
       "(array([0, 1, 0, ..., 1, 1, 0]),\n",
       " array(['elliptical', 'spiral', 'elliptical', ..., 'spiral', 'spiral',\n",
       "        'elliptical'], dtype='<U10'))"
      ]
     },
     "execution_count": 34,
     "metadata": {},
     "output_type": "execute_result"
    }
   ],
   "source": [
    "train_labels, y_label_names"
   ]
  },
  {
   "cell_type": "markdown",
   "metadata": {},
   "source": [
    "### DEC Xception Training Regime\n",
    "\n",
    "This part of the notebook defines the generator for the training regime of the DEC model over the features extracted from the Xception architecture"
   ]
  },
  {
   "cell_type": "code",
   "execution_count": 88,
   "metadata": {},
   "outputs": [
    {
     "name": "stdout",
     "output_type": "stream",
     "text": [
      "_________________________________________________________________\n",
      "Layer (type)                 Output Shape              Param #   \n",
      "=================================================================\n",
      "input (InputLayer)           (None, 2048)              0         \n",
      "_________________________________________________________________\n",
      "encoder_0 (Dense)            (None, 500)               1024500   \n",
      "_________________________________________________________________\n",
      "encoder_1 (Dense)            (None, 500)               250500    \n",
      "_________________________________________________________________\n",
      "encoder_2 (Dense)            (None, 2000)              1002000   \n",
      "_________________________________________________________________\n",
      "encoder_3 (Dense)            (None, 10)                20010     \n",
      "_________________________________________________________________\n",
      "clustering (ClusteringLayer) (None, 2)                 20        \n",
      "=================================================================\n",
      "Total params: 2,297,030\n",
      "Trainable params: 2,297,030\n",
      "Non-trainable params: 0\n",
      "_________________________________________________________________\n"
     ]
    }
   ],
   "source": [
    "# Defining our DEC model\n",
    "dec_model = DEC([2048, 500, 500, 2000, 10], n_clusters=2)\n",
    "dec_model.model.summary()"
   ]
  },
  {
   "cell_type": "code",
   "execution_count": 89,
   "metadata": {},
   "outputs": [],
   "source": [
    "results_save_dir = 'results/semi_supervised_clustering'\n",
    "if not exist_directory(results_save_dir):\n",
    "    os.makedirs(results_save_dir)"
   ]
  },
  {
   "cell_type": "markdown",
   "metadata": {},
   "source": [
    "#### Pretraining"
   ]
  },
  {
   "cell_type": "code",
   "execution_count": 90,
   "metadata": {
    "scrolled": true
   },
   "outputs": [
    {
     "name": "stdout",
     "output_type": "stream",
     "text": [
      "...Pretraining...\n",
      "Epoch 1/100\n",
      "59968/59968 [==============================] - 5s 91us/step - loss: 0.0154\n",
      "        |==>  acc: 0.6987,  nmi: 0.1155  <==|\n",
      "Epoch 2/100\n",
      "59968/59968 [==============================] - 4s 68us/step - loss: 0.0080\n",
      "Epoch 3/100\n",
      "59968/59968 [==============================] - 4s 68us/step - loss: 0.0070\n",
      "Epoch 4/100\n",
      "59968/59968 [==============================] - 4s 69us/step - loss: 0.0067\n",
      "Epoch 5/100\n",
      "59968/59968 [==============================] - 4s 69us/step - loss: 0.0065\n",
      "Epoch 6/100\n",
      "59968/59968 [==============================] - 4s 69us/step - loss: 0.0063\n",
      "Epoch 7/100\n",
      "59968/59968 [==============================] - 4s 70us/step - loss: 0.0062\n",
      "Epoch 8/100\n",
      "59968/59968 [==============================] - 4s 70us/step - loss: 0.0061\n",
      "Epoch 9/100\n",
      "59968/59968 [==============================] - 4s 69us/step - loss: 0.0061\n",
      "Epoch 10/100\n",
      "59968/59968 [==============================] - 4s 69us/step - loss: 0.0060\n",
      "Epoch 11/100\n",
      "59968/59968 [==============================] - 4s 68us/step - loss: 0.0060\n",
      "        |==>  acc: 0.6879,  nmi: 0.1017  <==|\n",
      "Epoch 12/100\n",
      "59968/59968 [==============================] - 4s 72us/step - loss: 0.0059\n",
      "Epoch 13/100\n",
      "59968/59968 [==============================] - 4s 70us/step - loss: 0.0059\n",
      "Epoch 14/100\n",
      "59968/59968 [==============================] - 4s 70us/step - loss: 0.0058\n",
      "Epoch 15/100\n",
      "59968/59968 [==============================] - 4s 69us/step - loss: 0.0058\n",
      "Epoch 16/100\n",
      "59968/59968 [==============================] - 4s 69us/step - loss: 0.0057\n",
      "Epoch 17/100\n",
      "59968/59968 [==============================] - 4s 67us/step - loss: 0.0057\n",
      "Epoch 18/100\n",
      "59968/59968 [==============================] - 4s 68us/step - loss: 0.0057\n",
      "Epoch 19/100\n",
      "59968/59968 [==============================] - 4s 68us/step - loss: 0.0057\n",
      "Epoch 20/100\n",
      "59968/59968 [==============================] - 4s 68us/step - loss: 0.0056\n",
      "Epoch 21/100\n",
      "59968/59968 [==============================] - 4s 69us/step - loss: 0.0056\n",
      "        |==>  acc: 0.6884,  nmi: 0.1037  <==|\n",
      "Epoch 22/100\n",
      "59968/59968 [==============================] - 4s 71us/step - loss: 0.0056\n",
      "Epoch 23/100\n",
      "59968/59968 [==============================] - 4s 70us/step - loss: 0.0056\n",
      "Epoch 24/100\n",
      "59968/59968 [==============================] - 4s 69us/step - loss: 0.0056\n",
      "Epoch 25/100\n",
      "59968/59968 [==============================] - 4s 71us/step - loss: 0.0055\n",
      "Epoch 26/100\n",
      "59968/59968 [==============================] - 4s 71us/step - loss: 0.0055\n",
      "Epoch 27/100\n",
      "59968/59968 [==============================] - 4s 71us/step - loss: 0.0055\n",
      "Epoch 28/100\n",
      "59968/59968 [==============================] - 4s 69us/step - loss: 0.0055\n",
      "Epoch 29/100\n",
      "59968/59968 [==============================] - 4s 70us/step - loss: 0.0054\n",
      "Epoch 30/100\n",
      "59968/59968 [==============================] - 4s 69us/step - loss: 0.0054\n",
      "Epoch 31/100\n",
      "59968/59968 [==============================] - 4s 69us/step - loss: 0.0054\n",
      "        |==>  acc: 0.6943,  nmi: 0.1084  <==|\n",
      "Epoch 32/100\n",
      "59968/59968 [==============================] - 4s 72us/step - loss: 0.0054\n",
      "Epoch 33/100\n",
      "59968/59968 [==============================] - 4s 72us/step - loss: 0.0054\n",
      "Epoch 34/100\n",
      "59968/59968 [==============================] - 4s 71us/step - loss: 0.0054\n",
      "Epoch 35/100\n",
      "59968/59968 [==============================] - 4s 71us/step - loss: 0.0054\n",
      "Epoch 36/100\n",
      "59968/59968 [==============================] - 4s 69us/step - loss: 0.0053\n",
      "Epoch 37/100\n",
      "59968/59968 [==============================] - 4s 69us/step - loss: 0.0053\n",
      "Epoch 38/100\n",
      "59968/59968 [==============================] - 4s 71us/step - loss: 0.0053\n",
      "Epoch 39/100\n",
      "59968/59968 [==============================] - 4s 70us/step - loss: 0.0053\n",
      "Epoch 40/100\n",
      "59968/59968 [==============================] - 4s 72us/step - loss: 0.0053\n",
      "Epoch 41/100\n",
      "59968/59968 [==============================] - 4s 70us/step - loss: 0.0053\n",
      "        |==>  acc: 0.6955,  nmi: 0.1119  <==|\n",
      "Epoch 42/100\n",
      "59968/59968 [==============================] - 4s 70us/step - loss: 0.0053\n",
      "Epoch 43/100\n",
      "59968/59968 [==============================] - 4s 70us/step - loss: 0.0053\n",
      "Epoch 44/100\n",
      "59968/59968 [==============================] - 4s 70us/step - loss: 0.0052\n",
      "Epoch 45/100\n",
      "59968/59968 [==============================] - 4s 70us/step - loss: 0.0052\n",
      "Epoch 46/100\n",
      "59968/59968 [==============================] - 4s 71us/step - loss: 0.0052\n",
      "Epoch 47/100\n",
      "59968/59968 [==============================] - 4s 70us/step - loss: 0.0052\n",
      "Epoch 48/100\n",
      "59968/59968 [==============================] - 4s 69us/step - loss: 0.0052\n",
      "Epoch 49/100\n",
      "59968/59968 [==============================] - 4s 69us/step - loss: 0.0052\n",
      "Epoch 50/100\n",
      "59968/59968 [==============================] - 4s 69us/step - loss: 0.0052\n",
      "Epoch 51/100\n",
      "59968/59968 [==============================] - 4s 71us/step - loss: 0.0051\n",
      "        |==>  acc: 0.6891,  nmi: 0.1023  <==|\n",
      "Epoch 52/100\n",
      "59968/59968 [==============================] - 4s 73us/step - loss: 0.0051\n",
      "Epoch 53/100\n",
      "59968/59968 [==============================] - 4s 70us/step - loss: 0.0051\n",
      "Epoch 54/100\n",
      "59968/59968 [==============================] - 4s 69us/step - loss: 0.0051\n",
      "Epoch 55/100\n",
      "59968/59968 [==============================] - 4s 69us/step - loss: 0.0051\n",
      "Epoch 56/100\n",
      "59968/59968 [==============================] - 4s 68us/step - loss: 0.0051\n",
      "Epoch 57/100\n",
      "59968/59968 [==============================] - 4s 68us/step - loss: 0.0051\n",
      "Epoch 58/100\n",
      "59968/59968 [==============================] - 4s 69us/step - loss: 0.0051\n",
      "Epoch 59/100\n",
      "59968/59968 [==============================] - 4s 70us/step - loss: 0.0051\n",
      "Epoch 60/100\n",
      "59968/59968 [==============================] - 4s 71us/step - loss: 0.0051\n",
      "Epoch 61/100\n",
      "59968/59968 [==============================] - 4s 71us/step - loss: 0.0051\n",
      "        |==>  acc: 0.6874,  nmi: 0.1027  <==|\n",
      "Epoch 62/100\n",
      "59968/59968 [==============================] - 4s 73us/step - loss: 0.0050\n",
      "Epoch 63/100\n",
      "59968/59968 [==============================] - 4s 70us/step - loss: 0.0051\n",
      "Epoch 64/100\n",
      "59968/59968 [==============================] - 4s 70us/step - loss: 0.0050\n",
      "Epoch 65/100\n",
      "59968/59968 [==============================] - 4s 71us/step - loss: 0.0050\n",
      "Epoch 66/100\n",
      "59968/59968 [==============================] - 4s 70us/step - loss: 0.0050\n",
      "Epoch 67/100\n",
      "59968/59968 [==============================] - 4s 70us/step - loss: 0.0050\n",
      "Epoch 68/100\n",
      "59968/59968 [==============================] - 4s 70us/step - loss: 0.0050\n",
      "Epoch 69/100\n",
      "59968/59968 [==============================] - 4s 70us/step - loss: 0.0050\n",
      "Epoch 70/100\n",
      "59968/59968 [==============================] - 4s 70us/step - loss: 0.0050\n",
      "Epoch 71/100\n",
      "59968/59968 [==============================] - 4s 70us/step - loss: 0.0050\n",
      "        |==>  acc: 0.6934,  nmi: 0.1087  <==|\n",
      "Epoch 72/100\n",
      "59968/59968 [==============================] - 4s 73us/step - loss: 0.0050\n",
      "Epoch 73/100\n",
      "59968/59968 [==============================] - 4s 70us/step - loss: 0.0049\n",
      "Epoch 74/100\n",
      "59968/59968 [==============================] - 4s 70us/step - loss: 0.0049\n",
      "Epoch 75/100\n",
      "59968/59968 [==============================] - 4s 70us/step - loss: 0.0049\n",
      "Epoch 76/100\n",
      "59968/59968 [==============================] - 4s 70us/step - loss: 0.0049\n",
      "Epoch 77/100\n",
      "59968/59968 [==============================] - 4s 69us/step - loss: 0.0049\n",
      "Epoch 78/100\n",
      "59968/59968 [==============================] - 4s 70us/step - loss: 0.0049\n",
      "Epoch 79/100\n",
      "59968/59968 [==============================] - 4s 71us/step - loss: 0.0049\n",
      "Epoch 80/100\n",
      "59968/59968 [==============================] - 4s 70us/step - loss: 0.0049\n",
      "Epoch 81/100\n",
      "59968/59968 [==============================] - 4s 71us/step - loss: 0.0049\n",
      "        |==>  acc: 0.6934,  nmi: 0.1082  <==|\n",
      "Epoch 82/100\n",
      "59968/59968 [==============================] - 4s 72us/step - loss: 0.0049\n",
      "Epoch 83/100\n",
      "59968/59968 [==============================] - 4s 69us/step - loss: 0.0049\n",
      "Epoch 84/100\n",
      "59968/59968 [==============================] - 4s 71us/step - loss: 0.0049\n",
      "Epoch 85/100\n",
      "59968/59968 [==============================] - 4s 73us/step - loss: 0.0048\n",
      "Epoch 86/100\n",
      "59968/59968 [==============================] - 4s 69us/step - loss: 0.0049\n",
      "Epoch 87/100\n",
      "59968/59968 [==============================] - 4s 69us/step - loss: 0.0048\n",
      "Epoch 88/100\n",
      "59968/59968 [==============================] - 4s 69us/step - loss: 0.0048\n",
      "Epoch 89/100\n",
      "59968/59968 [==============================] - 4s 70us/step - loss: 0.0048\n",
      "Epoch 90/100\n",
      "59968/59968 [==============================] - 4s 69us/step - loss: 0.0048\n",
      "Epoch 91/100\n",
      "59968/59968 [==============================] - 4s 69us/step - loss: 0.0048\n",
      "        |==>  acc: 0.6943,  nmi: 0.1094  <==|\n",
      "Epoch 92/100\n",
      "59968/59968 [==============================] - 4s 72us/step - loss: 0.0048\n",
      "Epoch 93/100\n",
      "59968/59968 [==============================] - 4s 71us/step - loss: 0.0048\n",
      "Epoch 94/100\n",
      "59968/59968 [==============================] - 4s 70us/step - loss: 0.0048\n",
      "Epoch 95/100\n",
      "59968/59968 [==============================] - 4s 70us/step - loss: 0.0048\n",
      "Epoch 96/100\n",
      "59968/59968 [==============================] - 4s 70us/step - loss: 0.0048\n",
      "Epoch 97/100\n",
      "59968/59968 [==============================] - 4s 70us/step - loss: 0.0048\n",
      "Epoch 98/100\n",
      "59968/59968 [==============================] - 4s 70us/step - loss: 0.0048\n",
      "Epoch 99/100\n",
      "59968/59968 [==============================] - 4s 70us/step - loss: 0.0048\n",
      "Epoch 100/100\n",
      "59968/59968 [==============================] - 4s 70us/step - loss: 0.0047\n",
      "Pretraining time: 469s\n",
      "Pretrained weights are saved to results/semi_supervised_clustering/ae_weights.h5\n",
      "CPU times: user 7min 8s, sys: 1min 24s, total: 8min 32s\n",
      "Wall time: 7min 49s\n"
     ]
    }
   ],
   "source": [
    "%%time\n",
    "dec_model.pretrain(train_features, train_labels, epochs=100, save_dir=results_save_dir)"
   ]
  },
  {
   "cell_type": "markdown",
   "metadata": {},
   "source": [
    "#### Cluster Centers"
   ]
  },
  {
   "cell_type": "code",
   "execution_count": 91,
   "metadata": {},
   "outputs": [
    {
     "data": {
      "text/plain": [
       "['spiral/', 'elliptical/']"
      ]
     },
     "execution_count": 91,
     "metadata": {},
     "output_type": "execute_result"
    }
   ],
   "source": [
    "get_subdirectory_names(training_directory_path)"
   ]
  },
  {
   "cell_type": "code",
   "execution_count": 92,
   "metadata": {},
   "outputs": [],
   "source": [
    "high_conf_ellip_im_arr = []\n",
    "for galaxy_id in high_conf_ellip_galaxies:\n",
    "    image_path = construct_path(elliptical_training_directory_path, f'{galaxy_id}{image_extension}')\n",
    "    high_conf_ellip_im_arr.append(image_preprocessing_function(np.array(Image.open(image_path))))\n",
    "high_conf_ellip_im_arr = np.array(high_conf_ellip_im_arr)\n",
    "\n",
    "high_conf_spiral_im_arr = []\n",
    "for galaxy_id in high_conf_spiral_galaxies:\n",
    "    image_path = construct_path(spiral_training_directory_path, f'{galaxy_id}{image_extension}')\n",
    "    high_conf_spiral_im_arr.append(image_preprocessing_function(np.array(Image.open(image_path))))\n",
    "high_conf_spiral_im_arr = np.array(high_conf_spiral_im_arr)"
   ]
  },
  {
   "cell_type": "markdown",
   "metadata": {},
   "source": [
    "#### High Confidence Images Base Xception Model Features"
   ]
  },
  {
   "cell_type": "code",
   "execution_count": 93,
   "metadata": {},
   "outputs": [
    {
     "name": "stdout",
     "output_type": "stream",
     "text": [
      "CPU times: user 168 ms, sys: 76 ms, total: 244 ms\n",
      "Wall time: 221 ms\n"
     ]
    }
   ],
   "source": [
    "%%time\n",
    "# Getting the prediction\n",
    "high_conf_ellip_pred = base_xception_model.predict(high_conf_ellip_im_arr)\n",
    "high_conf_spiral_pred = base_xception_model.predict(high_conf_spiral_im_arr)\n",
    "high_conf_pred = np.vstack((high_conf_ellip_pred, high_conf_spiral_pred))\n",
    "high_conf_label = ['Elliptical']*num_samples + ['Spiral']*num_samples"
   ]
  },
  {
   "cell_type": "markdown",
   "metadata": {},
   "source": [
    "#### PCA Visualization"
   ]
  },
  {
   "cell_type": "code",
   "execution_count": 94,
   "metadata": {},
   "outputs": [
    {
     "data": {
      "image/png": "[encoded data removed]",
      "text/plain": [
       "<Figure size 432x288 with 1 Axes>"
      ]
     },
     "metadata": {},
     "output_type": "display_data"
    }
   ],
   "source": [
    "pca_mod = PCA(2)\n",
    "pca_mod.fit(high_conf_pred)\n",
    "reduced_features = pca_mod.transform(high_conf_pred)\n",
    "\n",
    "fig, ax = plt.subplots(1, 1)\n",
    "sns.scatterplot(reduced_features[:, 0], reduced_features[:, 1], \n",
    "                hue=high_conf_label, ax=ax)\n",
    "ax.text(0.02, 0.92, f'Explained Var: {np.round(np.sum(pca_mod.explained_variance_ratio_), decimals=4)}', \n",
    "        transform=ax.transAxes)\n",
    "ax.set_xlabel('PCA Dim 1')\n",
    "ax.set_ylabel('PCA Dim 2')\n",
    "ax.set_title('PCA Scatterplot of Xception Model Features for High Confidence Galxies')\n",
    "plt.savefig(f'{results_save_dir}/PCA_Base_Xception_Model_High_Confidence_Predictions.png')"
   ]
  },
  {
   "cell_type": "markdown",
   "metadata": {},
   "source": [
    "#### High Confidence Images Pretrain Model Prediction"
   ]
  },
  {
   "cell_type": "code",
   "execution_count": 95,
   "metadata": {},
   "outputs": [
    {
     "name": "stdout",
     "output_type": "stream",
     "text": [
      "CPU times: user 296 ms, sys: 92 ms, total: 388 ms\n",
      "Wall time: 276 ms\n"
     ]
    }
   ],
   "source": [
    "%%time\n",
    "# Getting the prediction\n",
    "high_conf_encoder_features = dec_model.encoder.predict(high_conf_pred)"
   ]
  },
  {
   "cell_type": "markdown",
   "metadata": {},
   "source": [
    "#### PCA Visualization"
   ]
  },
  {
   "cell_type": "code",
   "execution_count": 96,
   "metadata": {},
   "outputs": [
    {
     "data": {
      "image/png": "[encoded data removed]",
      "text/plain": [
       "<Figure size 432x288 with 1 Axes>"
      ]
     },
     "metadata": {},
     "output_type": "display_data"
    }
   ],
   "source": [
    "pca_mod = PCA(2)\n",
    "pca_mod.fit(high_conf_encoder_features)\n",
    "reduced_features = pca_mod.transform(high_conf_encoder_features)\n",
    "\n",
    "fig, ax = plt.subplots(1, 1)\n",
    "sns.scatterplot(reduced_features[:, 0], reduced_features[:, 1], \n",
    "                hue=high_conf_label, ax=ax)\n",
    "ax.text(0.02, 0.92, f'Explained Var: {np.round(np.sum(pca_mod.explained_variance_ratio_), decimals=4)}', \n",
    "        transform=ax.transAxes)\n",
    "ax.set_xlabel('PCA Dim 1')\n",
    "ax.set_ylabel('PCA Dim 2')\n",
    "ax.set_title('PCA Scatterplot of Encoder Features for High Confidence Galxies')\n",
    "plt.savefig(f'{results_save_dir}/PCA_Pretrain_Model_High_Confidence_Predictions.png')"
   ]
  },
  {
   "cell_type": "markdown",
   "metadata": {},
   "source": [
    "#### Cluster Center Initialization"
   ]
  },
  {
   "cell_type": "code",
   "execution_count": 97,
   "metadata": {},
   "outputs": [
    {
     "data": {
      "text/plain": [
       "(2, 10)"
      ]
     },
     "execution_count": 97,
     "metadata": {},
     "output_type": "execute_result"
    }
   ],
   "source": [
    "ellip_center = np.mean(high_conf_encoder_features[:num_samples], axis=0)\n",
    "spiral_center = np.mean(high_conf_encoder_features[num_samples:], axis=0)\n",
    "kmeans_init_center = np.array([ellip_center, spiral_center])\n",
    "kmeans_init_center.shape"
   ]
  },
  {
   "cell_type": "markdown",
   "metadata": {},
   "source": [
    "#### Clustering"
   ]
  },
  {
   "cell_type": "code",
   "execution_count": 98,
   "metadata": {},
   "outputs": [
    {
     "name": "stdout",
     "output_type": "stream",
     "text": [
      "Update interval 140\n",
      "Save interval 9370\n",
      "Initializing cluster centers with k-means.\n",
      "Iter 0: acc = 0.69711, nmi = 0.11239, ari = 0.15529  ; loss= 0\n",
      "saving model to: results/semi_supervised_clustering/DEC_model_0.h5\n",
      "Iter 140: acc = 0.69500, nmi = 0.11099, ari = 0.15203  ; loss= 0.00056\n",
      "Iter 280: acc = 0.69434, nmi = 0.11068, ari = 0.15101  ; loss= 0.00185\n",
      "Iter 420: acc = 0.69362, nmi = 0.11027, ari = 0.14990  ; loss= 0.00967\n",
      "Iter 560: acc = 0.69524, nmi = 0.11173, ari = 0.15241  ; loss= 0.03037\n",
      "Iter 700: acc = 0.69209, nmi = 0.10983, ari = 0.14756  ; loss= 0.03622\n",
      "Iter 840: acc = 0.69315, nmi = 0.11049, ari = 0.14920  ; loss= 0.03611\n",
      "Iter 980: acc = 0.69392, nmi = 0.11110, ari = 0.15038  ; loss= 0.03955\n",
      "Iter 1120: acc = 0.69255, nmi = 0.11018, ari = 0.14828  ; loss= 0.03328\n",
      "Iter 1260: acc = 0.69197, nmi = 0.11047, ari = 0.14739  ; loss= 0.03465\n",
      "Iter 1400: acc = 0.69480, nmi = 0.11269, ari = 0.15176  ; loss= 0.03306\n",
      "Iter 1540: acc = 0.69485, nmi = 0.11292, ari = 0.15184  ; loss= 0.02833\n",
      "Iter 1680: acc = 0.69560, nmi = 0.11354, ari = 0.15301  ; loss= 0.0277\n",
      "Iter 1820: acc = 0.69564, nmi = 0.11376, ari = 0.15306  ; loss= 0.02494\n",
      "Iter 1960: acc = 0.69515, nmi = 0.11342, ari = 0.15231  ; loss= 0.02476\n",
      "Iter 2100: acc = 0.69659, nmi = 0.11429, ari = 0.15455  ; loss= 0.02458\n",
      "Iter 2240: acc = 0.69645, nmi = 0.11366, ari = 0.15433  ; loss= 0.02246\n",
      "Iter 2380: acc = 0.69585, nmi = 0.11282, ari = 0.15338  ; loss= 0.02184\n",
      "Iter 2520: acc = 0.69547, nmi = 0.11296, ari = 0.15279  ; loss= 0.02484\n",
      "Iter 2660: acc = 0.69662, nmi = 0.11331, ari = 0.15458  ; loss= 0.02071\n",
      "Iter 2800: acc = 0.69751, nmi = 0.11329, ari = 0.15594  ; loss= 0.01932\n",
      "Iter 2940: acc = 0.69510, nmi = 0.11148, ari = 0.15220  ; loss= 0.02223\n",
      "Iter 3080: acc = 0.69495, nmi = 0.11157, ari = 0.15197  ; loss= 0.01758\n",
      "Iter 3220: acc = 0.69559, nmi = 0.11191, ari = 0.15295  ; loss= 0.02462\n",
      "Iter 3360: acc = 0.69819, nmi = 0.11432, ari = 0.15703  ; loss= 0.02853\n",
      "Iter 3500: acc = 0.69839, nmi = 0.11422, ari = 0.15734  ; loss= 0.01976\n",
      "Iter 3640: acc = 0.70062, nmi = 0.11542, ari = 0.16084  ; loss= 0.02654\n",
      "Iter 3780: acc = 0.70277, nmi = 0.11673, ari = 0.16423  ; loss= 0.016\n",
      "Iter 3920: acc = 0.70262, nmi = 0.11675, ari = 0.16400  ; loss= 0.01543\n",
      "Iter 4060: acc = 0.70064, nmi = 0.11487, ari = 0.16083  ; loss= 0.02456\n",
      "Iter 4200: acc = 0.70294, nmi = 0.11722, ari = 0.16452  ; loss= 0.07716\n",
      "Iter 4340: acc = 0.70087, nmi = 0.11560, ari = 0.16123  ; loss= 0.01344\n",
      "Iter 4480: acc = 0.70089, nmi = 0.11622, ari = 0.16129  ; loss= 0.01421\n",
      "Iter 4620: acc = 0.69791, nmi = 0.11394, ari = 0.15658  ; loss= 0.0473\n",
      "Iter 4760: acc = 0.69752, nmi = 0.11440, ari = 0.15600  ; loss= 0.01394\n",
      "Iter 4900: acc = 0.69849, nmi = 0.11431, ari = 0.15749  ; loss= 0.0136\n",
      "Iter 5040: acc = 0.69832, nmi = 0.11386, ari = 0.15722  ; loss= 0.01586\n",
      "Iter 5180: acc = 0.69906, nmi = 0.11344, ari = 0.15833  ; loss= 0.01488\n",
      "Iter 5320: acc = 0.69744, nmi = 0.11345, ari = 0.15584  ; loss= 0.01371\n",
      "Iter 5460: acc = 0.69859, nmi = 0.11435, ari = 0.15765  ; loss= 0.0168\n",
      "Iter 5600: acc = 0.69634, nmi = 0.11318, ari = 0.15414  ; loss= 0.06692\n",
      "Iter 5740: acc = 0.69670, nmi = 0.11325, ari = 0.15470  ; loss= 0.01254\n",
      "Iter 5880: acc = 0.69714, nmi = 0.11314, ari = 0.15537  ; loss= 0.01237\n",
      "Iter 6020: acc = 0.69637, nmi = 0.11258, ari = 0.15417  ; loss= 0.01315\n",
      "Iter 6160: acc = 0.69664, nmi = 0.11233, ari = 0.15458  ; loss= 0.01198\n",
      "Iter 6300: acc = 0.69584, nmi = 0.11197, ari = 0.15334  ; loss= 0.01197\n",
      "Iter 6440: acc = 0.69445, nmi = 0.11122, ari = 0.15120  ; loss= 0.01165\n",
      "Iter 6580: acc = 0.69445, nmi = 0.11147, ari = 0.15120  ; loss= 0.01218\n",
      "Iter 6720: acc = 0.69335, nmi = 0.11046, ari = 0.14950  ; loss= 0.01189\n",
      "Iter 6860: acc = 0.69726, nmi = 0.11323, ari = 0.15555  ; loss= 0.01175\n",
      "Iter 7000: acc = 0.69777, nmi = 0.11333, ari = 0.15635  ; loss= 0.02144\n",
      "Iter 7140: acc = 0.70006, nmi = 0.11480, ari = 0.15993  ; loss= 0.01152\n",
      "Iter 7280: acc = 0.70161, nmi = 0.11538, ari = 0.16235  ; loss= 0.03069\n",
      "Iter 7420: acc = 0.70021, nmi = 0.11443, ari = 0.16014  ; loss= 0.01142\n",
      "Iter 7560: acc = 0.70104, nmi = 0.11495, ari = 0.16145  ; loss= 0.01162\n",
      "Iter 7700: acc = 0.70159, nmi = 0.11539, ari = 0.16232  ; loss= 0.01055\n",
      "Iter 7840: acc = 0.70219, nmi = 0.11641, ari = 0.16331  ; loss= 0.0432\n",
      "Iter 7980: acc = 0.70371, nmi = 0.11655, ari = 0.16563  ; loss= 0.01313\n",
      "Iter 8120: acc = 0.70319, nmi = 0.11625, ari = 0.16482  ; loss= 0.01352\n",
      "Iter 8260: acc = 0.70376, nmi = 0.11730, ari = 0.16578  ; loss= 0.01008\n",
      "Iter 8400: acc = 0.70418, nmi = 0.11784, ari = 0.16646  ; loss= 0.0097\n",
      "Iter 8540: acc = 0.70242, nmi = 0.11661, ari = 0.16368  ; loss= 0.04731\n",
      "Iter 8680: acc = 0.70291, nmi = 0.11656, ari = 0.16442  ; loss= 0.00973\n",
      "Iter 8820: acc = 0.70366, nmi = 0.11723, ari = 0.16562  ; loss= 0.01043\n",
      "Iter 8960: acc = 0.70364, nmi = 0.11688, ari = 0.16556  ; loss= 0.01525\n",
      "Iter 9100: acc = 0.70358, nmi = 0.11693, ari = 0.16547  ; loss= 0.00906\n",
      "Iter 9240: acc = 0.70628, nmi = 0.11921, ari = 0.16977  ; loss= 0.01967\n",
      "saving model to: results/semi_supervised_clustering/DEC_model_9370.h5\n",
      "Iter 9380: acc = 0.70733, nmi = 0.12013, ari = 0.17145  ; loss= 0.02687\n",
      "Iter 9520: acc = 0.70771, nmi = 0.12065, ari = 0.17209  ; loss= 0.01006\n",
      "Iter 9660: acc = 0.70664, nmi = 0.11926, ari = 0.17032  ; loss= 0.0155\n",
      "Iter 9800: acc = 0.70774, nmi = 0.11994, ari = 0.17199  ; loss= 0.01002\n",
      "Iter 9940: acc = 0.70799, nmi = 0.12030, ari = 0.17242  ; loss= 0.00928\n",
      "Iter 10080: acc = 0.70889, nmi = 0.12141, ari = 0.17391  ; loss= 0.01826\n",
      "Iter 10220: acc = 0.70976, nmi = 0.12224, ari = 0.17527  ; loss= 0.00955\n",
      "Iter 10360: acc = 0.71006, nmi = 0.12255, ari = 0.17574  ; loss= 0.00863\n",
      "Iter 10500: acc = 0.70934, nmi = 0.12186, ari = 0.17462  ; loss= 0.0087\n",
      "Iter 10640: acc = 0.70963, nmi = 0.12212, ari = 0.17506  ; loss= 0.00881\n",
      "Iter 10780: acc = 0.70926, nmi = 0.12203, ari = 0.17456  ; loss= 0.00903\n",
      "Iter 10920: acc = 0.70854, nmi = 0.12094, ari = 0.17332  ; loss= 0.02084\n",
      "Iter 11060: acc = 0.70879, nmi = 0.12115, ari = 0.17370  ; loss= 0.00879\n",
      "Iter 11200: acc = 0.70864, nmi = 0.12099, ari = 0.17346  ; loss= 0.0083\n",
      "Iter 11340: acc = 0.70843, nmi = 0.12093, ari = 0.17316  ; loss= 0.00857\n",
      "Iter 11480: acc = 0.70859, nmi = 0.12110, ari = 0.17343  ; loss= 0.00841\n",
      "Iter 11620: acc = 0.70961, nmi = 0.12241, ari = 0.17513  ; loss= 0.02021\n",
      "Iter 11760: acc = 0.70878, nmi = 0.12134, ari = 0.17373  ; loss= 0.01336\n",
      "Iter 11900: acc = 0.70659, nmi = 0.11891, ari = 0.17018  ; loss= 0.01093\n",
      "Iter 12040: acc = 0.70654, nmi = 0.11920, ari = 0.17016  ; loss= 0.01213\n",
      "Iter 12180: acc = 0.70596, nmi = 0.11853, ari = 0.16921  ; loss= 0.00759\n",
      "Iter 12320: acc = 0.70633, nmi = 0.11899, ari = 0.16981  ; loss= 0.01834\n",
      "Iter 12460: acc = 0.70399, nmi = 0.11692, ari = 0.16609  ; loss= 0.00824\n",
      "Iter 12600: acc = 0.70371, nmi = 0.11635, ari = 0.16560  ; loss= 0.00803\n",
      "Iter 12740: acc = 0.70341, nmi = 0.11628, ari = 0.16515  ; loss= 0.02103\n",
      "Iter 12880: acc = 0.70334, nmi = 0.11620, ari = 0.16504  ; loss= 0.00778\n",
      "Iter 13020: acc = 0.70334, nmi = 0.11606, ari = 0.16503  ; loss= 0.00917\n",
      "Iter 13160: acc = 0.70316, nmi = 0.11588, ari = 0.16473  ; loss= 0.01003\n",
      "delta_label  0.0009171558164354322 < tol  0.001\n",
      "Reached tolerance threshold. Stopping training.\n",
      "saving model to: results/semi_supervised_clustering/DEC_model_final.h5\n",
      "acc: 0.7031583511205977\n",
      "CPU times: user 7min 38s, sys: 1min 16s, total: 8min 55s\n",
      "Wall time: 6min 38s\n"
     ]
    }
   ],
   "source": [
    "%%time\n",
    "dec_model.compile(optimizer=SGD(0.01, 0.9), loss='kld')\n",
    "y_pred = dec_model.fit(train_features, y=train_labels, batch_size=32, save_dir=results_save_dir, \n",
    "                       kmeans_init=kmeans_init_center)\n",
    "print('acc:', metrics.acc(train_labels, y_pred))"
   ]
  },
  {
   "cell_type": "markdown",
   "metadata": {},
   "source": [
    "### Visualization of the features extracted by the DEC model"
   ]
  },
  {
   "cell_type": "markdown",
   "metadata": {},
   "source": [
    "#### Encoder Output Features"
   ]
  },
  {
   "cell_type": "code",
   "execution_count": 99,
   "metadata": {},
   "outputs": [
    {
     "name": "stdout",
     "output_type": "stream",
     "text": [
      "CPU times: user 7.21 s, sys: 1.18 s, total: 8.39 s\n",
      "Wall time: 6.49 s\n"
     ]
    },
    {
     "data": {
      "image/png": "[encoded data removed]",
      "text/plain": [
       "<Figure size 432x288 with 1 Axes>"
      ]
     },
     "metadata": {},
     "output_type": "display_data"
    }
   ],
   "source": [
    "%%time\n",
    "dec_encoder_model_pred = dec_model.encoder.predict(train_features)\n",
    "pca_mod = PCA(2)\n",
    "pca_mod.fit(dec_encoder_model_pred)\n",
    "reduced_features = pca_mod.transform(dec_encoder_model_pred)\n",
    "\n",
    "fig, ax = plt.subplots(1, 1)\n",
    "sns.scatterplot(reduced_features[:, 0], reduced_features[:, 1], \n",
    "                hue=np.where(train_labels==0, 'elliptical', 'spiral'), ax=ax)\n",
    "ax.text(0.02, 0.92, f'Explained Var: {np.round(np.sum(pca_mod.explained_variance_ratio_), decimals=4)}', \n",
    "        transform=ax.transAxes)\n",
    "ax.set_xlabel('PCA Dim 1')\n",
    "ax.set_ylabel('PCA Dim 2')\n",
    "ax.set_title('PCA Scatterplot for Encoder Features')\n",
    "plt.savefig(f'{results_save_dir}/PCAencoding_pca_features.png')"
   ]
  }
 ],
 "metadata": {
  "kernelspec": {
   "display_name": "Environment (conda_tensorflow_p36)",
   "language": "python",
   "name": "conda_tensorflow_p36"
  },
  "language_info": {
   "codemirror_mode": {
    "name": "ipython",
    "version": 3
   },
   "file_extension": ".py",
   "mimetype": "text/x-python",
   "name": "python",
   "nbconvert_exporter": "python",
   "pygments_lexer": "ipython3",
   "version": "3.6.5"
  }
 },
 "nbformat": 4,
 "nbformat_minor": 2
}
